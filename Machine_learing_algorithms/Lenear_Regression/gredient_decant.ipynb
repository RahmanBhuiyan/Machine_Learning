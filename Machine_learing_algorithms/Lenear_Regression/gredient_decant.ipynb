{
 "cells": [
  {
   "cell_type": "code",
   "execution_count": 1,
   "id": "8ddd655a-8ced-4b80-b5cd-95e176465aaf",
   "metadata": {},
   "outputs": [],
   "source": [
    "import pandas as pd \n",
    "import numpy as np"
   ]
  },
  {
   "cell_type": "code",
   "execution_count": 2,
   "id": "b5cae04c-862c-4e58-b01d-74d5cbc50aa6",
   "metadata": {},
   "outputs": [
    {
     "data": {
      "text/html": [
       "<div>\n",
       "<style scoped>\n",
       "    .dataframe tbody tr th:only-of-type {\n",
       "        vertical-align: middle;\n",
       "    }\n",
       "\n",
       "    .dataframe tbody tr th {\n",
       "        vertical-align: top;\n",
       "    }\n",
       "\n",
       "    .dataframe thead th {\n",
       "        text-align: right;\n",
       "    }\n",
       "</style>\n",
       "<table border=\"1\" class=\"dataframe\">\n",
       "  <thead>\n",
       "    <tr style=\"text-align: right;\">\n",
       "      <th></th>\n",
       "      <th>area</th>\n",
       "      <th>price</th>\n",
       "    </tr>\n",
       "  </thead>\n",
       "  <tbody>\n",
       "    <tr>\n",
       "      <th>0</th>\n",
       "      <td>2600</td>\n",
       "      <td>55000</td>\n",
       "    </tr>\n",
       "    <tr>\n",
       "      <th>1</th>\n",
       "      <td>3000</td>\n",
       "      <td>56500</td>\n",
       "    </tr>\n",
       "    <tr>\n",
       "      <th>2</th>\n",
       "      <td>3200</td>\n",
       "      <td>61000</td>\n",
       "    </tr>\n",
       "    <tr>\n",
       "      <th>3</th>\n",
       "      <td>3600</td>\n",
       "      <td>68000</td>\n",
       "    </tr>\n",
       "    <tr>\n",
       "      <th>4</th>\n",
       "      <td>4000</td>\n",
       "      <td>72000</td>\n",
       "    </tr>\n",
       "    <tr>\n",
       "      <th>5</th>\n",
       "      <td>5000</td>\n",
       "      <td>71000</td>\n",
       "    </tr>\n",
       "    <tr>\n",
       "      <th>6</th>\n",
       "      <td>2500</td>\n",
       "      <td>40000</td>\n",
       "    </tr>\n",
       "    <tr>\n",
       "      <th>7</th>\n",
       "      <td>2700</td>\n",
       "      <td>38000</td>\n",
       "    </tr>\n",
       "    <tr>\n",
       "      <th>8</th>\n",
       "      <td>1200</td>\n",
       "      <td>17000</td>\n",
       "    </tr>\n",
       "    <tr>\n",
       "      <th>9</th>\n",
       "      <td>1000</td>\n",
       "      <td>17900</td>\n",
       "    </tr>\n",
       "  </tbody>\n",
       "</table>\n",
       "</div>"
      ],
      "text/plain": [
       "   area  price\n",
       "0  2600  55000\n",
       "1  3000  56500\n",
       "2  3200  61000\n",
       "3  3600  68000\n",
       "4  4000  72000\n",
       "5  5000  71000\n",
       "6  2500  40000\n",
       "7  2700  38000\n",
       "8  1200  17000\n",
       "9  1000  17900"
      ]
     },
     "execution_count": 2,
     "metadata": {},
     "output_type": "execute_result"
    }
   ],
   "source": [
    "data=pd.read_csv(\"homeprices.csv\")\n",
    "data"
   ]
  },
  {
   "cell_type": "code",
   "execution_count": 3,
   "id": "19a6f869-4319-4c8e-bbc5-3b030b76a285",
   "metadata": {},
   "outputs": [],
   "source": [
    "x=data[\"area\"]\n",
    "y=data[\"price\"]"
   ]
  },
  {
   "cell_type": "code",
   "execution_count": 4,
   "id": "4858926e-93d3-4cb3-a3c0-df10c7ee74cd",
   "metadata": {},
   "outputs": [
    {
     "name": "stdout",
     "output_type": "stream",
     "text": [
      "m=  16364000.0 c=  4964.0 cost=  2844066000.0 iteration=  0\n",
      "m=  -15699590301632.0 c=  -4712822568.400001 cost=  2.569081190906417e+21 iteration=  1\n",
      "m=  1.5062172593104701e+19 c=  4521477765334669.0 cost=  2.364702065505511e+33 iteration=  2\n",
      "m=  -1.4450634625837658e+25 c=  -4.3379016374841655e+21 cost=  2.176581992970512e+45 iteration=  3\n",
      "m=  1.3863925658709697e+31 c=  4.161778868129772e+27 cost=  2.003427510480368e+57 iteration=  4\n"
     ]
    }
   ],
   "source": [
    "def Gradient_Descent(x,y):\n",
    "    m_slope=c_intercept=0\n",
    "    n=len(x)\n",
    "    iteration=5\n",
    "    learning_rate=0.05\n",
    "    for i in range(iteration):\n",
    "        y_pred=m_slope*x+c_intercept\n",
    "        #cost function (actual_value-pred_value)**2\n",
    "        cost_function=(1/n)*sum((y-y_pred)**2)\n",
    "        #cost_function=(1/n)*sum([val**2 for val in (y-y_pred)])\n",
    "        #derivative in cost function d/dm\n",
    "        m_dv=-(2/n)*sum(x*(y-y_pred))\n",
    "        #derivative in cost function d/dc\n",
    "        c_dv=-(2/n)*sum(y-y_pred)\n",
    "        \n",
    "        \n",
    "        #update value of m(slope) and c(intercept)\n",
    "        m_slope=m_slope - learning_rate * m_dv\n",
    "        c_intercept=c_intercept - learning_rate * c_dv\n",
    "        \n",
    "        print(\"m= \",m_slope,\"c= \",c_intercept,\"cost= \",cost_function,\"iteration= \",i)\n",
    "Gradient_Descent(x,y)\n",
    "        "
   ]
  },
  {
   "cell_type": "code",
   "execution_count": 5,
   "id": "134682b6-4e96-48d6-8c51-edd389c4019f",
   "metadata": {},
   "outputs": [
    {
     "data": {
      "text/plain": [
       "7314.093999999999"
      ]
     },
     "execution_count": 5,
     "metadata": {},
     "output_type": "execute_result"
    }
   ],
   "source": [
    "m=2.03\n",
    "c=6.094\n",
    "x=3600\n",
    "y=m*x+c\n",
    "y\n"
   ]
  },
  {
   "cell_type": "code",
   "execution_count": 6,
   "id": "ced22ddd-403c-491a-bf6b-3b72d9f880c9",
   "metadata": {},
   "outputs": [
    {
     "data": {
      "text/html": [
       "<div>\n",
       "<style scoped>\n",
       "    .dataframe tbody tr th:only-of-type {\n",
       "        vertical-align: middle;\n",
       "    }\n",
       "\n",
       "    .dataframe tbody tr th {\n",
       "        vertical-align: top;\n",
       "    }\n",
       "\n",
       "    .dataframe thead th {\n",
       "        text-align: right;\n",
       "    }\n",
       "</style>\n",
       "<table border=\"1\" class=\"dataframe\">\n",
       "  <thead>\n",
       "    <tr style=\"text-align: right;\">\n",
       "      <th></th>\n",
       "      <th>name</th>\n",
       "      <th>math</th>\n",
       "      <th>cs</th>\n",
       "    </tr>\n",
       "  </thead>\n",
       "  <tbody>\n",
       "    <tr>\n",
       "      <th>0</th>\n",
       "      <td>david</td>\n",
       "      <td>92</td>\n",
       "      <td>98</td>\n",
       "    </tr>\n",
       "    <tr>\n",
       "      <th>1</th>\n",
       "      <td>laura</td>\n",
       "      <td>56</td>\n",
       "      <td>68</td>\n",
       "    </tr>\n",
       "    <tr>\n",
       "      <th>2</th>\n",
       "      <td>sanjay</td>\n",
       "      <td>88</td>\n",
       "      <td>81</td>\n",
       "    </tr>\n",
       "    <tr>\n",
       "      <th>3</th>\n",
       "      <td>wei</td>\n",
       "      <td>70</td>\n",
       "      <td>80</td>\n",
       "    </tr>\n",
       "    <tr>\n",
       "      <th>4</th>\n",
       "      <td>jeff</td>\n",
       "      <td>80</td>\n",
       "      <td>83</td>\n",
       "    </tr>\n",
       "    <tr>\n",
       "      <th>5</th>\n",
       "      <td>aamir</td>\n",
       "      <td>49</td>\n",
       "      <td>52</td>\n",
       "    </tr>\n",
       "    <tr>\n",
       "      <th>6</th>\n",
       "      <td>venkat</td>\n",
       "      <td>65</td>\n",
       "      <td>66</td>\n",
       "    </tr>\n",
       "    <tr>\n",
       "      <th>7</th>\n",
       "      <td>virat</td>\n",
       "      <td>35</td>\n",
       "      <td>30</td>\n",
       "    </tr>\n",
       "    <tr>\n",
       "      <th>8</th>\n",
       "      <td>arthur</td>\n",
       "      <td>66</td>\n",
       "      <td>68</td>\n",
       "    </tr>\n",
       "    <tr>\n",
       "      <th>9</th>\n",
       "      <td>paul</td>\n",
       "      <td>67</td>\n",
       "      <td>73</td>\n",
       "    </tr>\n",
       "  </tbody>\n",
       "</table>\n",
       "</div>"
      ],
      "text/plain": [
       "     name  math  cs\n",
       "0   david    92  98\n",
       "1   laura    56  68\n",
       "2  sanjay    88  81\n",
       "3     wei    70  80\n",
       "4    jeff    80  83\n",
       "5   aamir    49  52\n",
       "6  venkat    65  66\n",
       "7   virat    35  30\n",
       "8  arthur    66  68\n",
       "9    paul    67  73"
      ]
     },
     "execution_count": 6,
     "metadata": {},
     "output_type": "execute_result"
    }
   ],
   "source": [
    "data=pd.read_csv(\"test_scores.csv\")\n",
    "data\n",
    "# x=data[]"
   ]
  },
  {
   "cell_type": "code",
   "execution_count": 7,
   "id": "30595844-be82-45f5-b201-25e9c44a9008",
   "metadata": {},
   "outputs": [],
   "source": [
    "xi=data[\"math\"]\n",
    "yi=data[\"cs\"]"
   ]
  },
  {
   "cell_type": "code",
   "execution_count": 8,
   "id": "5457501b-bb2b-4a2e-9a55-367a0e2a8e82",
   "metadata": {},
   "outputs": [
    {
     "name": "stdout",
     "output_type": "stream",
     "text": [
      "m=79.13440000000001,c=1.1184,cost=53495971.040835984 iteration=0\n",
      "m=-5836.882539520004,c=-82.35994112000002,cost=5809738.782504089 iteration=1\n",
      "m=436439.1092389523,c=6158.5362761769,cost=167106100132.68494 iteration=2\n",
      "m=-32627707.890128233,c=-460405.0018588341,cost=901660663580292.5 iteration=3\n",
      "m=2439217558.540131,c=34419456.78953996,cost=5.041700738315118e+18 iteration=4\n",
      "m=-182353664631.80585,c=-2573166979.968385,cost=2.817748479308847e+22 iteration=5\n",
      "m=13632592510187.02,c=192367600451.30362,cost=1.5748172997827266e+26 iteration=6\n",
      "m=-1019160097072701.9,c=-14381225156042.686,cost=8.80152835715001e+29 iteration=7\n",
      "m=7.61914729490489e+16,c=1075127186197759.0,cost=4.9191040460074366e+33 iteration=8\n",
      "m=-5.696004550040318e+18,c=-8.037552113672486e+16,cost=2.749248043428414e+37 iteration=9\n",
      "m=4.258280694452045e+20,c=6.008800150284555e+18,cost=1.536532818497958e+41 iteration=10\n",
      "m=-3.183451542821299e+22,c=-4.492123812751546e+20,cost=8.58755945271894e+44 iteration=11\n",
      "m=2.3799191393594588e+24,c=3.35827051064993e+22,cost=4.799518530692578e+48 iteration=12\n",
      "m=-1.7792056934750122e+26,c=-2.510612194322595e+24,cost=2.682412652079878e+52 iteration=13\n",
      "m=1.3301178377622923e+28,c=1.8769106211939587e+26,cost=1.4991790509869966e+56 iteration=14\n",
      "m=-9.94383880864241e+29,c=-1.4031611444877895e+28,cost=8.378792223394807e+59 iteration=15\n",
      "m=7.433922577762912e+31,c=1.0489903862059409e+30,cost=4.682840190209555e+63 iteration=16\n",
      "m=-5.557532252447888e+33,c=-7.842155797110337e+31,cost=2.6172020575725622e+67 iteration=17\n",
      "m=4.154760076381245e+35,c=5.862723658372736e+33,cost=1.462733369480099e+71 iteration=18\n",
      "m=-3.1060604793950054e+37,c=-4.382918368837888e+35,cost=8.175100214368086e+74 iteration=19\n",
      "m=2.3220622910342642e+39,c=3.2766295236280173e+37,cost=4.568998349898546e+78 iteration=20\n",
      "m=-1.7359524449741356e+41,c=-2.4495781421449225e+39,cost=2.553576760402963e+82 iteration=21\n",
      "m=1.2977821063833003e+43,c=1.8312821242696497e+41,cost=1.4271736980195852e+86 iteration=22\n",
      "m=-9.702099850285761e+44,c=-1.369049699199658e+43,cost=7.976360044870868e+89 iteration=23\n",
      "m=7.253200752416095e+46,c=1.0234889829584176e+45,cost=4.457924053231771e+93 iteration=24\n",
      "m=-5.422426275410872e+48,c=-7.651509648259214e+46,cost=2.4914982213173286e+97 iteration=25\n",
      "m=4.053756088644308e+50,c=5.72019834822027e+48,cost=1.3924784973237124e+101 iteration=26\n",
      "m=-3.030550825695759e+52,c=-4.276367755796549e+50,cost=7.7824513335743e+104 iteration=27\n",
      "m=2.2656119673437777e+54,c=3.196973263786589e+52,cost=4.349550020044034e+108 iteration=28\n",
      "m=-1.6937507013738668e+56,c=-2.3900278537813695e+54,cost=2.4309288379675852e+112 iteration=29\n",
      "m=1.2662324704118953e+58,c=1.7867628755471802e+56,cost=1.3586267517398526e+116 iteration=30\n",
      "m=-9.466237669008056e+59,c=-1.3357675176808497e+58,cost=7.5932566256709e+119 iteration=31\n",
      "m=7.076872351646279e+61,c=9.986075296896015e+59,cost=4.2438106057796214e+123 iteration=32\n",
      "m=-5.290604782242226e+63,c=-7.465498188518088e+61,cost=2.3718319221347705e+127 iteration=33\n",
      "m=3.9552075508855186e+65,c=5.581137889085473e+63,cost=1.325597956514851e+131 iteration=34\n",
      "m=-2.956876843851458e+67,c=-4.1724074335578424e+65,cost=7.408661321729621e+134 iteration=35\n",
      "m=2.2105339750748323e+69,c=3.119253481562229e+67,cost=4.1406417617299315e+138 iteration=36\n",
      "m=-1.6525749001420424e+71,c=-2.3319252583014086e+69,cost=2.314171677506148e+142 iteration=37\n",
      "m=1.2354498195337755e+73,c=1.743325908730129e+71,cost=1.2933721053748377e+146 iteration=38\n",
      "m=-9.2361093978545e+74,c=-1.3032944401757952e+73,cost=7.228553608280414e+149 iteration=39\n",
      "m=6.904830569430028e+76,c=9.743309551513593e+74,cost=4.039980996237767e+153 iteration=40\n",
      "m=-5.1619879257396465e+78,c=-7.284008746619922e+76,cost=2.2579131779926e+157 iteration=41\n",
      "m=3.8590547700696805e+80,c=5.4454580489637934e+78,cost=1.2619296784069824e+161 iteration=42\n",
      "m=-2.8849939078971557e+82,c=-4.0709744310486707e+80,cost=7.052824390086307e+164 iteration=43\n",
      "m=2.1567949522658408e+84,c=3.043423100358961e+82,cost=3.9417673368447405e+168 iteration=44\n",
      "m=-1.6124001001825472e+86,c=-2.2752351616741986e+84,cost=2.203022346573121e+172 iteration=45\n",
      "m=1.205415508014523e+88,c=1.7009449130842325e+86,cost=1.2312516302358577e+176 iteration=46\n",
      "m=-9.011575643026856e+89,c=-1.2716107970211733e+88,cost=6.881367224062062e+179 iteration=47\n",
      "m=6.73697119624385e+91,c=9.50644554484022e+89,cost=3.845941293358908e+183 iteration=48\n",
      "m=-5.0364977998203355e+93,c=-7.106931390384198e+91,cost=2.1494659346535985e+187 iteration=49\n"
     ]
    },
    {
     "data": {
      "text/plain": [
       "2.1494659346535985e+187"
      ]
     },
     "execution_count": 8,
     "metadata": {},
     "output_type": "execute_result"
    }
   ],
   "source": [
    "class Gradient_Descent:\n",
    "    def traning(self,xi,yi):\n",
    "        m_slope=c_intercept=0\n",
    "        n=len(xi)\n",
    "        iteration=50\n",
    "        learning_rate=0.008\n",
    "        for i in range(iteration):\n",
    "            y_pred=m_slope*xi+c_intercept\n",
    "            #cost_function=(1/n)*sum((y-y_pred)**2)\n",
    "            self.cost_function=(1/n)*sum([val**2 for val in (y-y_pred)])\n",
    "            m_dv=-(2/n)*sum(xi*(yi-y_pred))\n",
    "            c_dv=-(2/n)*sum(yi-y_pred)\n",
    "            m_slope=m_slope - learning_rate * m_dv\n",
    "            c_intercept=c_intercept - learning_rate * c_dv\n",
    "            #print(\"m= \",m_slope,\"c= \",c_intercept,\"cost= \",cost_function,\"iteration= \",i)\n",
    "            print(\"m={},c={},cost={} iteration={}\".format(m_slope,c_intercept,self.cost_function,i))\n",
    "obj=Gradient_Descent()\n",
    "obj.traning(xi,yi)\n",
    "obj.cost_function"
   ]
  },
  {
   "cell_type": "code",
   "execution_count": 9,
   "id": "24385698-f6c4-48aa-8402-d8e2484c4d67",
   "metadata": {},
   "outputs": [],
   "source": [
    "#x=np.array([1,2,3,4,5])\n",
    "#y=np.array([5,7,9,11,13])"
   ]
  },
  {
   "cell_type": "code",
   "execution_count": 10,
   "id": "e7ea5be8-8bc3-4418-a591-95a2ae85559f",
   "metadata": {},
   "outputs": [],
   "source": [
    "data = {'area': [1,2,3,4,5], 'price': [5,7,9,11,13]}  \n",
    "df = pd.DataFrame(data) \n",
    "x=df['area']\n",
    "y=df['price']"
   ]
  },
  {
   "cell_type": "code",
   "execution_count": 11,
   "id": "b854cffd-848e-446c-bd9b-177617888b41",
   "metadata": {},
   "outputs": [
    {
     "data": {
      "text/plain": [
       "(0    1.062\n",
       " 1    2.062\n",
       " 2    3.062\n",
       " 3    4.062\n",
       " 4    5.062\n",
       " Name: area, dtype: float64,\n",
       " 0     5.018\n",
       " 1     7.018\n",
       " 2     9.018\n",
       " 3    11.018\n",
       " 4    13.018\n",
       " Name: price, dtype: float64,\n",
       " 89.0,\n",
       " 0)"
      ]
     },
     "execution_count": 11,
     "metadata": {},
     "output_type": "execute_result"
    }
   ],
   "source": [
    "class Gradient_Descent:\n",
    "    def __init__(self):\n",
    "        self.iteration=10\n",
    "        self.learning_rate=0.001\n",
    "\n",
    "    def traning(self,x,y):\n",
    "        m_slope=c_intercept=0\n",
    "        n=len(x)\n",
    "        for i in range(self.iteration):\n",
    "            y_pred=m_slope*x+c_intercept\n",
    "            #cost function (actual_value-pred_value)**2\n",
    "            cost_function=(1/n)*sum((y-y_pred)**2)\n",
    "            #cost_function=(1/n)*sum([val**2 for val in (y-y_pred)])\n",
    "            #derivative in cost function d/dm\n",
    "            m_dv=-(2/n)*sum(x*(y-y_pred))\n",
    "            #derivative in cost function d/dc\n",
    "            c_dv=-(2/n)*sum(y-y_pred)\n",
    "\n",
    "\n",
    "            #update value of m(slope) and c(intercept)\n",
    "            m_slope=x - self.learning_rate * m_dv\n",
    "            c_intercept=y - self.learning_rate * c_dv\n",
    "\n",
    "            #return self.m_slope,self.c_intercept,self.cost_function\n",
    "            #return(\"m={},c={},cost={} iteration={}\".format(m_slope,c_intercept,cost_function,i))\n",
    "            return (m_slope,c_intercept,cost_function,i)\n",
    "            \n",
    "obj=Gradient_Descent()\n",
    "obj.traning(x,y)"
   ]
  },
  {
   "cell_type": "code",
   "execution_count": 12,
   "id": "1854daf2-75c5-4b1d-a4e0-8eafcf812345",
   "metadata": {},
   "outputs": [
    {
     "data": {
      "text/plain": [
       "29.19982226652314"
      ]
     },
     "execution_count": 12,
     "metadata": {},
     "output_type": "execute_result"
    }
   ],
   "source": [
    "m=2.021281045682893\n",
    "c=2.923168672645527\n",
    "x=13\n",
    "y=m*x+c\n",
    "y"
   ]
  },
  {
   "cell_type": "code",
   "execution_count": null,
   "id": "87b991db-341b-4c59-aa04-107664e548e3",
   "metadata": {},
   "outputs": [],
   "source": [
    "   "
   ]
  }
 ],
 "metadata": {
  "kernelspec": {
   "display_name": "Python 3",
   "language": "python",
   "name": "python3"
  },
  "language_info": {
   "codemirror_mode": {
    "name": "ipython",
    "version": 3
   },
   "file_extension": ".py",
   "mimetype": "text/x-python",
   "name": "python",
   "nbconvert_exporter": "python",
   "pygments_lexer": "ipython3",
   "version": "3.8.8"
  }
 },
 "nbformat": 4,
 "nbformat_minor": 5
}

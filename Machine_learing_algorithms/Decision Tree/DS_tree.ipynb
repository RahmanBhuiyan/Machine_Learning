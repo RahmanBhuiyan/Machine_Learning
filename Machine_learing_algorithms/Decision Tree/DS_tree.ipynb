{
  "cells": [
    {
      "cell_type": "code",
      "execution_count": null,
      "metadata": {
        "colab": {
          "background_save": true
        },
        "id": "d3FOBYAr-VIb"
      },
      "outputs": [],
      "source": [
        "import numpy as np\n",
        "import pandas as pd\n",
        "\n",
        "import matplotlib.pyplot as plt\n",
        "import seaborn as sns\n",
        "\n",
        "import random\n",
        "from pprint import pprint"
      ]
    },
    {
      "cell_type": "markdown",
      "metadata": {
        "id": "gBD90KoI-s5T"
      },
      "source": [
        "#Load and Prepare Data"
      ]
    },
    {
      "cell_type": "code",
      "execution_count": null,
      "metadata": {
        "colab": {
          "background_save": true,
          "base_uri": "https://localhost:8080/",
          "height": 424
        },
        "id": "cRvm2Dzv-rnv",
        "outputId": "4760d45d-39cf-422c-fa16-27f7df59ced0"
      },
      "outputs": [
        {
          "data": {
            "text/html": [
              "\n",
              "  <div id=\"df-392633a2-72db-460c-b408-6bbfa4260e4d\">\n",
              "    <div class=\"colab-df-container\">\n",
              "      <div>\n",
              "<style scoped>\n",
              "    .dataframe tbody tr th:only-of-type {\n",
              "        vertical-align: middle;\n",
              "    }\n",
              "\n",
              "    .dataframe tbody tr th {\n",
              "        vertical-align: top;\n",
              "    }\n",
              "\n",
              "    .dataframe thead th {\n",
              "        text-align: right;\n",
              "    }\n",
              "</style>\n",
              "<table border=\"1\" class=\"dataframe\">\n",
              "  <thead>\n",
              "    <tr style=\"text-align: right;\">\n",
              "      <th></th>\n",
              "      <th>sepal_length</th>\n",
              "      <th>sepal_width</th>\n",
              "      <th>petal_length</th>\n",
              "      <th>petal_width</th>\n",
              "      <th>label</th>\n",
              "    </tr>\n",
              "  </thead>\n",
              "  <tbody>\n",
              "    <tr>\n",
              "      <th>0</th>\n",
              "      <td>5.1</td>\n",
              "      <td>3.5</td>\n",
              "      <td>1.4</td>\n",
              "      <td>0.2</td>\n",
              "      <td>Iris-setosa</td>\n",
              "    </tr>\n",
              "    <tr>\n",
              "      <th>1</th>\n",
              "      <td>4.9</td>\n",
              "      <td>3.0</td>\n",
              "      <td>1.4</td>\n",
              "      <td>0.2</td>\n",
              "      <td>Iris-setosa</td>\n",
              "    </tr>\n",
              "    <tr>\n",
              "      <th>2</th>\n",
              "      <td>4.7</td>\n",
              "      <td>3.2</td>\n",
              "      <td>1.3</td>\n",
              "      <td>0.2</td>\n",
              "      <td>Iris-setosa</td>\n",
              "    </tr>\n",
              "    <tr>\n",
              "      <th>3</th>\n",
              "      <td>4.6</td>\n",
              "      <td>3.1</td>\n",
              "      <td>1.5</td>\n",
              "      <td>0.2</td>\n",
              "      <td>Iris-setosa</td>\n",
              "    </tr>\n",
              "    <tr>\n",
              "      <th>4</th>\n",
              "      <td>5.0</td>\n",
              "      <td>3.6</td>\n",
              "      <td>1.4</td>\n",
              "      <td>0.2</td>\n",
              "      <td>Iris-setosa</td>\n",
              "    </tr>\n",
              "    <tr>\n",
              "      <th>...</th>\n",
              "      <td>...</td>\n",
              "      <td>...</td>\n",
              "      <td>...</td>\n",
              "      <td>...</td>\n",
              "      <td>...</td>\n",
              "    </tr>\n",
              "    <tr>\n",
              "      <th>145</th>\n",
              "      <td>6.7</td>\n",
              "      <td>3.0</td>\n",
              "      <td>5.2</td>\n",
              "      <td>2.3</td>\n",
              "      <td>Iris-virginica</td>\n",
              "    </tr>\n",
              "    <tr>\n",
              "      <th>146</th>\n",
              "      <td>6.3</td>\n",
              "      <td>2.5</td>\n",
              "      <td>5.0</td>\n",
              "      <td>1.9</td>\n",
              "      <td>Iris-virginica</td>\n",
              "    </tr>\n",
              "    <tr>\n",
              "      <th>147</th>\n",
              "      <td>6.5</td>\n",
              "      <td>3.0</td>\n",
              "      <td>5.2</td>\n",
              "      <td>2.0</td>\n",
              "      <td>Iris-virginica</td>\n",
              "    </tr>\n",
              "    <tr>\n",
              "      <th>148</th>\n",
              "      <td>6.2</td>\n",
              "      <td>3.4</td>\n",
              "      <td>5.4</td>\n",
              "      <td>2.3</td>\n",
              "      <td>Iris-virginica</td>\n",
              "    </tr>\n",
              "    <tr>\n",
              "      <th>149</th>\n",
              "      <td>5.9</td>\n",
              "      <td>3.0</td>\n",
              "      <td>5.1</td>\n",
              "      <td>1.8</td>\n",
              "      <td>Iris-virginica</td>\n",
              "    </tr>\n",
              "  </tbody>\n",
              "</table>\n",
              "<p>150 rows × 5 columns</p>\n",
              "</div>\n",
              "      <button class=\"colab-df-convert\" onclick=\"convertToInteractive('df-392633a2-72db-460c-b408-6bbfa4260e4d')\"\n",
              "              title=\"Convert this dataframe to an interactive table.\"\n",
              "              style=\"display:none;\">\n",
              "        \n",
              "  <svg xmlns=\"http://www.w3.org/2000/svg\" height=\"24px\"viewBox=\"0 0 24 24\"\n",
              "       width=\"24px\">\n",
              "    <path d=\"M0 0h24v24H0V0z\" fill=\"none\"/>\n",
              "    <path d=\"M18.56 5.44l.94 2.06.94-2.06 2.06-.94-2.06-.94-.94-2.06-.94 2.06-2.06.94zm-11 1L8.5 8.5l.94-2.06 2.06-.94-2.06-.94L8.5 2.5l-.94 2.06-2.06.94zm10 10l.94 2.06.94-2.06 2.06-.94-2.06-.94-.94-2.06-.94 2.06-2.06.94z\"/><path d=\"M17.41 7.96l-1.37-1.37c-.4-.4-.92-.59-1.43-.59-.52 0-1.04.2-1.43.59L10.3 9.45l-7.72 7.72c-.78.78-.78 2.05 0 2.83L4 21.41c.39.39.9.59 1.41.59.51 0 1.02-.2 1.41-.59l7.78-7.78 2.81-2.81c.8-.78.8-2.07 0-2.86zM5.41 20L4 18.59l7.72-7.72 1.47 1.35L5.41 20z\"/>\n",
              "  </svg>\n",
              "      </button>\n",
              "      \n",
              "  <style>\n",
              "    .colab-df-container {\n",
              "      display:flex;\n",
              "      flex-wrap:wrap;\n",
              "      gap: 12px;\n",
              "    }\n",
              "\n",
              "    .colab-df-convert {\n",
              "      background-color: #E8F0FE;\n",
              "      border: none;\n",
              "      border-radius: 50%;\n",
              "      cursor: pointer;\n",
              "      display: none;\n",
              "      fill: #1967D2;\n",
              "      height: 32px;\n",
              "      padding: 0 0 0 0;\n",
              "      width: 32px;\n",
              "    }\n",
              "\n",
              "    .colab-df-convert:hover {\n",
              "      background-color: #E2EBFA;\n",
              "      box-shadow: 0px 1px 2px rgba(60, 64, 67, 0.3), 0px 1px 3px 1px rgba(60, 64, 67, 0.15);\n",
              "      fill: #174EA6;\n",
              "    }\n",
              "\n",
              "    [theme=dark] .colab-df-convert {\n",
              "      background-color: #3B4455;\n",
              "      fill: #D2E3FC;\n",
              "    }\n",
              "\n",
              "    [theme=dark] .colab-df-convert:hover {\n",
              "      background-color: #434B5C;\n",
              "      box-shadow: 0px 1px 3px 1px rgba(0, 0, 0, 0.15);\n",
              "      filter: drop-shadow(0px 1px 2px rgba(0, 0, 0, 0.3));\n",
              "      fill: #FFFFFF;\n",
              "    }\n",
              "  </style>\n",
              "\n",
              "      <script>\n",
              "        const buttonEl =\n",
              "          document.querySelector('#df-392633a2-72db-460c-b408-6bbfa4260e4d button.colab-df-convert');\n",
              "        buttonEl.style.display =\n",
              "          google.colab.kernel.accessAllowed ? 'block' : 'none';\n",
              "\n",
              "        async function convertToInteractive(key) {\n",
              "          const element = document.querySelector('#df-392633a2-72db-460c-b408-6bbfa4260e4d');\n",
              "          const dataTable =\n",
              "            await google.colab.kernel.invokeFunction('convertToInteractive',\n",
              "                                                     [key], {});\n",
              "          if (!dataTable) return;\n",
              "\n",
              "          const docLinkHtml = 'Like what you see? Visit the ' +\n",
              "            '<a target=\"_blank\" href=https://colab.research.google.com/notebooks/data_table.ipynb>data table notebook</a>'\n",
              "            + ' to learn more about interactive tables.';\n",
              "          element.innerHTML = '';\n",
              "          dataTable['output_type'] = 'display_data';\n",
              "          await google.colab.output.renderOutput(dataTable, element);\n",
              "          const docLink = document.createElement('div');\n",
              "          docLink.innerHTML = docLinkHtml;\n",
              "          element.appendChild(docLink);\n",
              "        }\n",
              "      </script>\n",
              "    </div>\n",
              "  </div>\n",
              "  "
            ],
            "text/plain": [
              "     sepal_length  sepal_width  petal_length  petal_width           label\n",
              "0             5.1          3.5           1.4          0.2     Iris-setosa\n",
              "1             4.9          3.0           1.4          0.2     Iris-setosa\n",
              "2             4.7          3.2           1.3          0.2     Iris-setosa\n",
              "3             4.6          3.1           1.5          0.2     Iris-setosa\n",
              "4             5.0          3.6           1.4          0.2     Iris-setosa\n",
              "..            ...          ...           ...          ...             ...\n",
              "145           6.7          3.0           5.2          2.3  Iris-virginica\n",
              "146           6.3          2.5           5.0          1.9  Iris-virginica\n",
              "147           6.5          3.0           5.2          2.0  Iris-virginica\n",
              "148           6.2          3.4           5.4          2.3  Iris-virginica\n",
              "149           5.9          3.0           5.1          1.8  Iris-virginica\n",
              "\n",
              "[150 rows x 5 columns]"
            ]
          },
          "execution_count": null,
          "metadata": {},
          "output_type": "execute_result"
        }
      ],
      "source": [
        "df = pd.read_csv(\"IRIS.csv\")\n",
        "# df = df.drop(\"Id\", axis=1)\n",
        "df = df.rename(columns={\"species\": \"label\"})\n",
        "df"
      ]
    },
    {
      "cell_type": "code",
      "execution_count": null,
      "metadata": {
        "colab": {
          "background_save": true
        },
        "id": "SCh7TDVAUegh"
      },
      "outputs": [],
      "source": [
        "# df=pd.read_csv(\"bank.csv\")\n",
        "# df"
      ]
    },
    {
      "cell_type": "code",
      "execution_count": null,
      "metadata": {
        "colab": {
          "background_save": true
        },
        "id": "N_o5z1YRcJGg"
      },
      "outputs": [],
      "source": [
        "# df=df.drop(['Id'], axis = 1)"
      ]
    },
    {
      "cell_type": "code",
      "execution_count": null,
      "metadata": {
        "colab": {
          "background_save": true
        },
        "id": "RlO7ZKK56AN2"
      },
      "outputs": [],
      "source": [
        "# df=data"
      ]
    },
    {
      "cell_type": "markdown",
      "metadata": {
        "id": "OZVlKz4--21f"
      },
      "source": [
        "#Train-Test-Split"
      ]
    },
    {
      "cell_type": "code",
      "execution_count": null,
      "metadata": {
        "colab": {
          "background_save": true
        },
        "id": "l6z1VyVr-5yy"
      },
      "outputs": [],
      "source": [
        "def train_test_split(df, test_size):\n",
        "    \n",
        "    if isinstance(test_size, float):\n",
        "        test_size = round(test_size * len(df))\n",
        "\n",
        "    indices = df.index.tolist()\n",
        "    test_indices = random.sample(population=indices, k=test_size)\n",
        "\n",
        "    test_df = df.loc[test_indices]\n",
        "    train_df = df.drop(test_indices)\n",
        "    \n",
        "    return train_df, test_df"
      ]
    },
    {
      "cell_type": "code",
      "execution_count": null,
      "metadata": {
        "colab": {
          "background_save": true
        },
        "id": "OnKhAhaT-9TH"
      },
      "outputs": [],
      "source": [
        "# random.seed(0)\n",
        "train_df, test_df = train_test_split(df, test_size=20)"
      ]
    },
    {
      "cell_type": "code",
      "execution_count": null,
      "metadata": {
        "colab": {
          "background_save": true
        },
        "id": "O0pVldmLhPs_"
      },
      "outputs": [],
      "source": [
        ""
      ]
    },
    {
      "cell_type": "markdown",
      "metadata": {
        "id": "fC6oKvcL_rvR"
      },
      "source": [
        "#Helper Functions"
      ]
    },
    {
      "cell_type": "code",
      "execution_count": null,
      "metadata": {
        "colab": {
          "background_save": true,
          "base_uri": "https://localhost:8080/"
        },
        "id": "5Txy2OqO_vLX",
        "outputId": "e3db297a-c6b9-42cb-ab98-43450e602a7c"
      },
      "outputs": [
        {
          "data": {
            "text/plain": [
              "array([[5.1, 3.5, 1.4, 0.2, 'Iris-setosa'],\n",
              "       [4.9, 3.0, 1.4, 0.2, 'Iris-setosa'],\n",
              "       [4.7, 3.2, 1.3, 0.2, 'Iris-setosa'],\n",
              "       [4.6, 3.1, 1.5, 0.2, 'Iris-setosa'],\n",
              "       [5.0, 3.6, 1.4, 0.2, 'Iris-setosa']], dtype=object)"
            ]
          },
          "execution_count": null,
          "metadata": {},
          "output_type": "execute_result"
        }
      ],
      "source": [
        "data = train_df.values\n",
        "data[:5]"
      ]
    },
    {
      "cell_type": "markdown",
      "metadata": {
        "id": "iE1bkbcl_1FE"
      },
      "source": [
        "\n",
        "#Data pure?"
      ]
    },
    {
      "cell_type": "code",
      "execution_count": null,
      "metadata": {
        "colab": {
          "background_save": true
        },
        "id": "nBfAC1HW_zeg"
      },
      "outputs": [],
      "source": [
        "def check_purity(data):\n",
        "    \n",
        "    label_column = data[:, -1]\n",
        "    unique_classes = np.unique(label_column)\n",
        "\n",
        "    if len(unique_classes) == 1:\n",
        "        return True\n",
        "    else:\n",
        "        return False"
      ]
    },
    {
      "cell_type": "markdown",
      "metadata": {
        "id": "KqMG7wWB_7fC"
      },
      "source": [
        "#Classify"
      ]
    },
    {
      "cell_type": "code",
      "execution_count": null,
      "metadata": {
        "colab": {
          "background_save": true
        },
        "id": "fiCeNEMB_84c"
      },
      "outputs": [],
      "source": [
        "def classify_data(data):\n",
        "    \n",
        "    label_column = data[:, -1]\n",
        "    unique_classes, counts_unique_classes = np.unique(label_column, return_counts=True)\n",
        "\n",
        "    index = counts_unique_classes.argmax()\n",
        "    classification = unique_classes[index]\n",
        "    \n",
        "    return classification"
      ]
    },
    {
      "cell_type": "markdown",
      "metadata": {
        "id": "-jO_o6G1ABoD"
      },
      "source": [
        "#Potential splits?"
      ]
    },
    {
      "cell_type": "code",
      "execution_count": null,
      "metadata": {
        "colab": {
          "background_save": true
        },
        "id": "6QVcf-jRADng"
      },
      "outputs": [],
      "source": [
        "# def get_potential_splits(data):\n",
        "#   potential_splits = {}\n",
        "#   _, n_columns = data.shape\n",
        "#   for column_index in range(n_columns - 1): # excluding the last column which is the label  \n",
        "\n",
        "\n",
        "#     values = data[:, column_index]\n",
        "#     unique_values = np.unique(values)\n",
        "#     type_of_feature=feature_types[column_index]\n",
        "#     if type_of_feature == \"continuous\":\n",
        "#       potential_splits[column_index] = [] \n",
        "#       for index in range(len(unique_values)):\n",
        "#         if index != 0:\n",
        "#           current_value = unique_values[index]\n",
        "#           previous_value = unique_values[index - 1]\n",
        "#           potential_split = (current_value + previous_value) / 2\n",
        "#           potential_splits[column_index].append(potential_split)\n",
        "#     elif len(unique_values) > 1:\n",
        "#       potential_split[column_index]=unique_values\n",
        "#       print(potential_split)\n",
        "\n",
        "#   # return potential_splits"
      ]
    },
    {
      "cell_type": "code",
      "execution_count": null,
      "metadata": {
        "colab": {
          "background_save": true
        },
        "id": "NjNnRWVkg9PX"
      },
      "outputs": [],
      "source": [
        "def get_potential_splits(data):\n",
        "  potential_splits = {}\n",
        "  _, n_columns = data.shape\n",
        "  for column_index in range(n_columns - 1): # excluding the last column which is the label\n",
        "      values = data[:, column_index] #show column one by one\n",
        "      unique_values = np.unique(values) #find unique value in column\n",
        "      \n",
        "      # type_of_feature = feature_types[column_index] #show which type of feature \n",
        "      # if type_of_feature == \"continuous\":\n",
        "      #     potential_splits[column_index] = [] #store data in dit\n",
        "      #     for index in range(len(unique_values)):\n",
        "      #         if index != 0:\n",
        "      #             current_value = unique_values[index]\n",
        "      #             previous_value = unique_values[index - 1]\n",
        "      #             potential_split = (current_value + previous_value) / 2 #find median\n",
        "      #             potential_splits[column_index].append(potential_split)\n",
        "      \n",
        "      # # feature is categorical\n",
        "      # # (there need to be at least 2 unique values, otherwise in the\n",
        "      # # split_data function data_below would contain all data points\n",
        "      # # and data_above would be empty)\n",
        "      # elif len(unique_values) > 1: #if data is catagorial than this part work\n",
        "      potential_splits[column_index] = unique_values\n",
        "  \n",
        "  return potential_splits\n",
        "\n"
      ]
    },
    {
      "cell_type": "code",
      "execution_count": null,
      "metadata": {
        "colab": {
          "background_save": true
        },
        "id": "MnN05FShdBo-"
      },
      "outputs": [],
      "source": [
        "# get_potential_splits(train_data.values)"
      ]
    },
    {
      "cell_type": "markdown",
      "metadata": {
        "id": "bdE0OPzpAO1b"
      },
      "source": [
        "#Split Data"
      ]
    },
    {
      "cell_type": "code",
      "execution_count": null,
      "metadata": {
        "colab": {
          "background_save": true
        },
        "id": "viIO-eitAQZt"
      },
      "outputs": [],
      "source": [
        "def split_data(data, split_column, split_value):\n",
        "    \n",
        "    split_column_values = data[:, split_column]\n",
        "\n",
        "    type_of_feature=feature_types[split_column]\n",
        "    if type_of_feature == \"continuous\":\n",
        "      data_below = data[split_column_values <= split_value]\n",
        "      data_above = data[split_column_values >  split_value]\n",
        "    else:\n",
        "      data_below = data[split_column_values == split_value]\n",
        "      data_above = data[split_column_values !=  split_value]      \n",
        "    \n",
        "    return data_below, data_above"
      ]
    },
    {
      "cell_type": "code",
      "execution_count": null,
      "metadata": {
        "colab": {
          "background_save": true
        },
        "id": "ZPx6faBGDFIN"
      },
      "outputs": [],
      "source": [
        "# data_below,data_above=split_data(data.values,split_column=1,split_value=\"male\")"
      ]
    },
    {
      "cell_type": "code",
      "execution_count": null,
      "metadata": {
        "colab": {
          "background_save": true
        },
        "id": "ZyYvGjR8DRz6"
      },
      "outputs": [],
      "source": [
        "# data_above"
      ]
    },
    {
      "cell_type": "code",
      "execution_count": null,
      "metadata": {
        "colab": {
          "background_save": true
        },
        "id": "zXjVwkhdDzvc"
      },
      "outputs": [],
      "source": [
        "# np.unique(data_below[:,1])"
      ]
    },
    {
      "cell_type": "markdown",
      "metadata": {
        "id": "SMNc_AoXATox"
      },
      "source": [
        "#Lowest Overall Entropy?"
      ]
    },
    {
      "cell_type": "code",
      "execution_count": null,
      "metadata": {
        "colab": {
          "background_save": true
        },
        "id": "PatjFMSNAW83"
      },
      "outputs": [],
      "source": [
        "def calculate_entropy(data):\n",
        "    \n",
        "    label_column = data[:, -1]\n",
        "    _, counts = np.unique(label_column, return_counts=True)\n",
        "\n",
        "    probabilities = counts / counts.sum()\n",
        "    entropy = sum(probabilities * -np.log2(probabilities))\n",
        "     \n",
        "    return entropy"
      ]
    },
    {
      "cell_type": "code",
      "execution_count": null,
      "metadata": {
        "colab": {
          "background_save": true
        },
        "id": "2J_COKIkAaew"
      },
      "outputs": [],
      "source": [
        "def calculate_overall_entropy(data_below, data_above):\n",
        "    \n",
        "    n = len(data_below) + len(data_above)\n",
        "    p_data_below = len(data_below) / n\n",
        "    p_data_above = len(data_above) / n\n",
        "\n",
        "    overall_entropy =  (p_data_below * calculate_entropy(data_below) \n",
        "                      + p_data_above * calculate_entropy(data_above))\n",
        "    \n",
        "    return overall_entropy"
      ]
    },
    {
      "cell_type": "code",
      "execution_count": null,
      "metadata": {
        "colab": {
          "background_save": true
        },
        "id": "cQzro0DDAf_3"
      },
      "outputs": [],
      "source": [
        "def determine_best_split(data, potential_splits):\n",
        "    \n",
        "    overall_entropy = 9999\n",
        "    for column_index in potential_splits:\n",
        "        for value in potential_splits[column_index]:\n",
        "            data_below, data_above = split_data(data, split_column=column_index, split_value=value)\n",
        "            current_overall_entropy = calculate_overall_entropy(data_below, data_above)\n",
        "\n",
        "            if current_overall_entropy <= overall_entropy:\n",
        "                overall_entropy = current_overall_entropy\n",
        "                best_split_column = column_index\n",
        "                best_split_value = value\n",
        "    \n",
        "    return best_split_column, best_split_value"
      ]
    },
    {
      "cell_type": "markdown",
      "metadata": {
        "id": "PioviVl-7hFS"
      },
      "source": [
        "#Determine Type of Feature "
      ]
    },
    {
      "cell_type": "code",
      "execution_count": null,
      "metadata": {
        "colab": {
          "background_save": true
        },
        "id": "z_ZSVFWS8t47"
      },
      "outputs": [],
      "source": [
        "def determine_type_of_feature(data):\n",
        "  feature_type=[]\n",
        "  n_unique_values_threshold=15\n",
        "\n",
        "  for column in data.columns:\n",
        "    unique_values=data[column].unique()#unique value in column \n",
        "    example_value=unique_values[0]#show data in 0 number row\n",
        "    \n",
        "    if (isinstance(example_value,str) or (len(unique_values) <= n_unique_values_threshold)):\n",
        "      feature_type.append(\"categorical\")\n",
        "    else:\n",
        "      feature_type.append(\"continuous\")\n",
        "\n",
        "  return feature_type"
      ]
    },
    {
      "cell_type": "code",
      "execution_count": null,
      "metadata": {
        "colab": {
          "background_save": true,
          "base_uri": "https://localhost:8080/"
        },
        "id": "aadQrdtL_N3q",
        "outputId": "cc0280cb-9cfa-40df-dfe4-1c389c5fe325"
      },
      "outputs": [
        {
          "data": {
            "text/plain": [
              "['continuous', 'continuous', 'continuous', 'continuous', 'categorical']"
            ]
          },
          "execution_count": null,
          "metadata": {},
          "output_type": "execute_result"
        }
      ],
      "source": [
        "determine_type_of_feature(df)"
      ]
    },
    {
      "cell_type": "code",
      "execution_count": null,
      "metadata": {
        "colab": {
          "background_save": true,
          "base_uri": "https://localhost:8080/"
        },
        "id": "e9HUmlNs7pf_",
        "outputId": "f3384116-7dda-4397-c68a-c18389e9ea91"
      },
      "outputs": [
        {
          "name": "stdout",
          "output_type": "stream",
          "text": [
            "sepal_length - continuous\n",
            "sepal_width - continuous\n",
            "petal_length - continuous\n",
            "petal_width - continuous\n",
            "label - categorical\n"
          ]
        }
      ],
      "source": [
        "feature_types=determine_type_of_feature(df)\n",
        "i=0\n",
        "for column in df.columns:\n",
        "  print(column,\"-\",feature_types[i])\n",
        "  i +=1"
      ]
    },
    {
      "cell_type": "markdown",
      "metadata": {
        "id": "QJ65VEyRAnPj"
      },
      "source": [
        "#Decision Tree Algorithm\n",
        "Representation of the Decision Tree"
      ]
    },
    {
      "cell_type": "code",
      "execution_count": null,
      "metadata": {
        "colab": {
          "background_save": true
        },
        "id": "Gqv3vj3kAs2f"
      },
      "outputs": [],
      "source": [
        "def decision_tree_algorithm(df, counter=0,min_samples=2,max_depth=3):\n",
        "  \n",
        "  # data preparations\n",
        "  if counter == 0:\n",
        "      global column_headers ,feature_types#its show column name\n",
        "      column_headers=df.columns\n",
        "      feature_types=determine_type_of_feature(df)\n",
        "      data = df.values\n",
        "  else:\n",
        "      data = df           \n",
        "  \n",
        "  \n",
        "  # base cases\n",
        "  if check_purity(data) or (len(data) < min_samples) or (counter == max_depth):\n",
        "      classification = classify_data(data)\n",
        "      return classification\n",
        "\n",
        "  \n",
        "  # recursive part\n",
        "  else:    \n",
        "      counter += 1\n",
        "\n",
        "      # helper functions \n",
        "      potential_splits = get_potential_splits(data)\n",
        "      split_column, split_value = determine_best_split(data, potential_splits)\n",
        "      data_below, data_above = split_data(data, split_column, split_value)\n",
        "\n",
        "      # check for empty data\n",
        "      if len(data_below) == 0 or len(data_above) == 0:\n",
        "          classification = classify_data(data)\n",
        "          return classification\n",
        "\n",
        "      # instantiate sub-tree\n",
        "      feature_name=column_headers[split_column]\n",
        "      type_of_feature=feature_types[split_column]\n",
        "      if type_of_feature == \"continuous\":\n",
        "        question = \"{} <= {}\".format(feature_name, split_value) #if the column is continuous than it show this type of output\n",
        "      else:\n",
        "        question = \"{} = {}\".format(feature_name, split_value) #else show this type of output \n",
        "      sub_tree = {question: []}\n",
        "      \n",
        "      # find answers (recursion)\n",
        "      yes_answer = decision_tree_algorithm(data_below, counter,min_samples,max_depth)\n",
        "      no_answer = decision_tree_algorithm(data_above, counter,min_samples,max_depth)\n",
        "      \n",
        "      if yes_answer==no_answer:\n",
        "        sub_tree=yes_answer\n",
        "      else:\n",
        "        sub_tree[question].append(yes_answer)\n",
        "        sub_tree[question].append(no_answer)\n",
        "      \n",
        "      return sub_tree"
      ]
    },
    {
      "cell_type": "code",
      "execution_count": null,
      "metadata": {
        "colab": {
          "background_save": true,
          "base_uri": "https://localhost:8080/"
        },
        "id": "KddboKnjA0gK",
        "outputId": "d174adf4-04e2-46e9-f412-c03e07228c49"
      },
      "outputs": [
        {
          "name": "stdout",
          "output_type": "stream",
          "text": [
            "{'petal_width <= 0.6': ['Iris-setosa',\n",
            "                        {'petal_width <= 1.7': [{'petal_length <= 5.0': ['Iris-versicolor',\n",
            "                                                                         'Iris-virginica']},\n",
            "                                                'Iris-virginica']}]}\n"
          ]
        }
      ],
      "source": [
        "tree = decision_tree_algorithm(train_df,max_depth=3)\n",
        "pprint(tree)"
      ]
    },
    {
      "cell_type": "code",
      "execution_count": null,
      "metadata": {
        "colab": {
          "background_save": true
        },
        "id": "I-2YPt7kM7wi"
      },
      "outputs": [],
      "source": [
        "# train_df.columns"
      ]
    },
    {
      "cell_type": "markdown",
      "metadata": {
        "id": "iX0t3-MxziXl"
      },
      "source": [
        "#Classification"
      ]
    },
    {
      "cell_type": "code",
      "execution_count": null,
      "metadata": {
        "colab": {
          "background_save": true,
          "base_uri": "https://localhost:8080/"
        },
        "id": "adhxfiuv1SXD",
        "outputId": "824fbef9-2a1e-4c2b-9ba2-1e53018b8c24"
      },
      "outputs": [
        {
          "data": {
            "text/plain": [
              "(20, 5)"
            ]
          },
          "execution_count": null,
          "metadata": {},
          "output_type": "execute_result"
        }
      ],
      "source": [
        "test_df.shape"
      ]
    },
    {
      "cell_type": "code",
      "execution_count": null,
      "metadata": {
        "colab": {
          "background_save": true,
          "base_uri": "https://localhost:8080/"
        },
        "id": "L-KuTFwBzjs1",
        "outputId": "1f7f670c-1453-4963-a6c6-53263ec05b18"
      },
      "outputs": [
        {
          "data": {
            "text/plain": [
              "sepal_length               6.0\n",
              "sepal_width                2.2\n",
              "petal_length               5.0\n",
              "petal_width                1.5\n",
              "label           Iris-virginica\n",
              "Name: 119, dtype: object"
            ]
          },
          "execution_count": null,
          "metadata": {},
          "output_type": "execute_result"
        }
      ],
      "source": [
        " example=test_df.iloc[1]\n",
        " example"
      ]
    },
    {
      "cell_type": "code",
      "execution_count": null,
      "metadata": {
        "colab": {
          "background_save": true,
          "base_uri": "https://localhost:8080/"
        },
        "id": "_rb2Pl6W20Mb",
        "outputId": "1f26292f-d144-4869-fd3f-88edb064eba3"
      },
      "outputs": [
        {
          "data": {
            "text/plain": [
              "False"
            ]
          },
          "execution_count": null,
          "metadata": {},
          "output_type": "execute_result"
        }
      ],
      "source": [
        "example[\"petal_width\"] <=0.8"
      ]
    },
    {
      "cell_type": "code",
      "execution_count": null,
      "metadata": {
        "colab": {
          "background_save": true
        },
        "id": "yw8qMM7J62G5"
      },
      "outputs": [],
      "source": [
        "def classify_example(example,tree):\n",
        "  question=list(tree.keys())[0] #convert data type dict to list\n",
        "  feature_name,comparison_operator,value=question.split() #split data\n",
        "  #ask question=Yes\n",
        "\n",
        "  if comparison_operator == \"<=\":\n",
        "    if  example[feature_name] <= float(value):\n",
        "      answer=tree[question][0]\n",
        "    #ask question=No\n",
        "    else:\n",
        "      answer=tree[question][1]\n",
        "\n",
        "  else:\n",
        "    if  example[feature_name] == (value):\n",
        "      answer=tree[question][0]\n",
        "    #ask question=No\n",
        "    else:\n",
        "      answer=tree[question][1]\n",
        "  #base case\n",
        "  if not isinstance(answer,dict): #if there is list then its return \n",
        "    return answer\n",
        "  else: #if there is dict then its return \n",
        "    residual_tree=answer\n",
        "    return classify_example(example,answer)"
      ]
    },
    {
      "cell_type": "code",
      "execution_count": null,
      "metadata": {
        "colab": {
          "background_save": true,
          "base_uri": "https://localhost:8080/",
          "height": 35
        },
        "id": "sEYWJLar7EBH",
        "outputId": "056c3fe2-85ad-472c-8acf-b8c0a051154d"
      },
      "outputs": [
        {
          "data": {
            "application/vnd.google.colaboratory.intrinsic+json": {
              "type": "string"
            },
            "text/plain": [
              "'Iris-versicolor'"
            ]
          },
          "execution_count": null,
          "metadata": {},
          "output_type": "execute_result"
        }
      ],
      "source": [
        "classify_example(example,tree)"
      ]
    },
    {
      "cell_type": "code",
      "execution_count": null,
      "metadata": {
        "colab": {
          "background_save": true,
          "base_uri": "https://localhost:8080/"
        },
        "id": "P2CC5au27h0f",
        "outputId": "7336db5c-76b1-475d-9c3f-4d5a76c79a81"
      },
      "outputs": [
        {
          "data": {
            "text/plain": [
              "20"
            ]
          },
          "execution_count": null,
          "metadata": {},
          "output_type": "execute_result"
        }
      ],
      "source": [
        "test_df.shape[0]"
      ]
    },
    {
      "cell_type": "code",
      "execution_count": null,
      "metadata": {
        "colab": {
          "background_save": true
        },
        "id": "Xsb_M8ZO7dYk"
      },
      "outputs": [],
      "source": [
        "# for i in range(test_df.shape[0]):\n",
        "#   example=test_df.iloc[i]\n",
        "#   k=classify_example(example,tree)\n",
        "#   c=k==test_df.label\n",
        "# print(c)"
      ]
    },
    {
      "cell_type": "markdown",
      "metadata": {
        "id": "AmL51jnzO_f-"
      },
      "source": [
        "#Accuracy"
      ]
    },
    {
      "cell_type": "code",
      "execution_count": null,
      "metadata": {
        "colab": {
          "background_save": true,
          "base_uri": "https://localhost:8080/"
        },
        "id": "48DvphX9PDCa",
        "outputId": "61857d18-8025-405f-bdea-f9fa4c2e14f5"
      },
      "outputs": [
        {
          "data": {
            "text/plain": [
              "0         Iris-setosa\n",
              "1         Iris-setosa\n",
              "2         Iris-setosa\n",
              "3         Iris-setosa\n",
              "4         Iris-setosa\n",
              "            ...      \n",
              "145    Iris-virginica\n",
              "146    Iris-virginica\n",
              "147    Iris-virginica\n",
              "148    Iris-virginica\n",
              "149    Iris-virginica\n",
              "Name: classification, Length: 150, dtype: object"
            ]
          },
          "execution_count": null,
          "metadata": {},
          "output_type": "execute_result"
        }
      ],
      "source": [
        "df[\"classification\"]=df.apply(classify_example,axis=1,args=(tree,))\n",
        "df[\"classification\"]"
      ]
    },
    {
      "cell_type": "code",
      "execution_count": null,
      "metadata": {
        "colab": {
          "background_save": true,
          "base_uri": "https://localhost:8080/"
        },
        "id": "OrMzjlybS47Z",
        "outputId": "2fa883a2-7a33-4c3d-d01f-fa345c1af448"
      },
      "outputs": [
        {
          "data": {
            "text/plain": [
              "0.9733333333333334"
            ]
          },
          "execution_count": null,
          "metadata": {},
          "output_type": "execute_result"
        }
      ],
      "source": [
        "df[\"classification_correct\"]=df.classification==df.label\n",
        "df[\"classification_correct\"].mean()"
      ]
    },
    {
      "cell_type": "code",
      "execution_count": null,
      "metadata": {
        "colab": {
          "background_save": true
        },
        "id": "SGtxLDo_TgJI"
      },
      "outputs": [],
      "source": [
        "def calculate_accuracy(df,tree):\n",
        "  df[\"classification\"]=df.apply(classify_example,axis=1,args=(tree,))\n",
        "  df[\"classification_correct\"]=df.classification==df.label\n",
        "\n",
        "  accuracy=df.classification_correct.mean()\n",
        "  return accuracy"
      ]
    },
    {
      "cell_type": "code",
      "execution_count": null,
      "metadata": {
        "colab": {
          "background_save": true,
          "base_uri": "https://localhost:8080/"
        },
        "id": "ZkMpu-JqT7G9",
        "outputId": "7e4ef969-fdd4-4062-fcb3-7000cb0415d1"
      },
      "outputs": [
        {
          "data": {
            "text/plain": [
              "0.9733333333333334"
            ]
          },
          "execution_count": null,
          "metadata": {},
          "output_type": "execute_result"
        }
      ],
      "source": [
        "calculate_accuracy(df,tree)"
      ]
    },
    {
      "cell_type": "markdown",
      "metadata": {
        "id": "OCuVM41N0vYm"
      },
      "source": [
        "#Titanic Data Set\n",
        "\n",
        "prepare and load data"
      ]
    },
    {
      "cell_type": "code",
      "execution_count": null,
      "metadata": {
        "colab": {
          "background_save": true
        },
        "id": "evOZYVoZ014I"
      },
      "outputs": [],
      "source": [
        "# train_data=pd.read_csv(\"train.csv\")\n",
        "# train_data[\"label\"]=train_data.Survived\n",
        "# train_data=train_data.drop([\"PassengerId\",\"Survived\",\"Name\",\"Ticket\",\"Cabin\"],axis=1)"
      ]
    },
    {
      "cell_type": "code",
      "execution_count": null,
      "metadata": {
        "colab": {
          "background_save": true
        },
        "id": "2Um79qh5OYhr"
      },
      "outputs": [],
      "source": [
        "# test_data[\"label\"]=test_data.Survived\n",
        "# test_data=test_data.drop([\"PassengerId\",\"Survived\",\"Name\",\"Ticket\",\"Cabin\"],axis=1)"
      ]
    },
    {
      "cell_type": "code",
      "execution_count": null,
      "metadata": {
        "colab": {
          "background_save": true
        },
        "id": "WPTPY2R91sZN"
      },
      "outputs": [],
      "source": [
        "# train_data.info()"
      ]
    },
    {
      "cell_type": "code",
      "execution_count": null,
      "metadata": {
        "colab": {
          "background_save": true
        },
        "id": "eX-Z1CjvMsID"
      },
      "outputs": [],
      "source": [
        "# test_data.info()"
      ]
    },
    {
      "cell_type": "code",
      "execution_count": null,
      "metadata": {
        "colab": {
          "background_save": true
        },
        "id": "xM-QjYUwaudM"
      },
      "outputs": [],
      "source": [
        "# data=pd.read_csv(\"bank.csv\")\n",
        "# data"
      ]
    },
    {
      "cell_type": "code",
      "execution_count": null,
      "metadata": {
        "colab": {
          "background_save": true
        },
        "id": "QhVwdAmFktNn"
      },
      "outputs": [],
      "source": [
        "# data = data.rename(columns={\"deposit\": \"label\"})"
      ]
    },
    {
      "cell_type": "code",
      "execution_count": null,
      "metadata": {
        "colab": {
          "background_save": true
        },
        "id": "K86MKeJca-IK"
      },
      "outputs": [],
      "source": [
        "# train_data, test_data = train_test_split(data, test_size=20)"
      ]
    },
    {
      "cell_type": "code",
      "execution_count": null,
      "metadata": {
        "colab": {
          "background_save": true
        },
        "id": "MiD_An_Hcvef"
      },
      "outputs": [],
      "source": [
        "# train_data"
      ]
    },
    {
      "cell_type": "markdown",
      "metadata": {
        "id": "UOePsHZM2V_y"
      },
      "source": [
        "Handaling missing values"
      ]
    },
    {
      "cell_type": "code",
      "execution_count": null,
      "metadata": {
        "colab": {
          "background_save": true
        },
        "id": "Mr0I0cLF2bV3"
      },
      "outputs": [],
      "source": [
        "# median_age=train_data.Age.median()\n",
        "# mode_embarked=train_data.Embarked.mode()[0]\n",
        "# train_data=train_data.fillna({\"Age\":median_age,\"Embarked\":mode_embarked})\n",
        "# test_data=test_data.fillna({\"Age\":median_age,\"Embarked\":mode_embarked})"
      ]
    },
    {
      "cell_type": "code",
      "execution_count": null,
      "metadata": {
        "colab": {
          "background_save": true
        },
        "id": "CEyRSl2x3dtn"
      },
      "outputs": [],
      "source": [
        "# data.info()"
      ]
    },
    {
      "cell_type": "code",
      "execution_count": null,
      "metadata": {
        "colab": {
          "background_save": true
        },
        "id": "3hlHGsOF-xTM"
      },
      "outputs": [],
      "source": [
        "tree=decision_tree_algorithm(train_df,max_depth=4)"
      ]
    },
    {
      "cell_type": "code",
      "execution_count": null,
      "metadata": {
        "colab": {
          "background_save": true
        },
        "id": "KOOWsds7jZYP"
      },
      "outputs": [],
      "source": [
        "accuracy=calculate_accuracy(df,tree)"
      ]
    },
    {
      "cell_type": "code",
      "execution_count": null,
      "metadata": {
        "colab": {
          "background_save": true,
          "base_uri": "https://localhost:8080/"
        },
        "id": "8ZihHSSzi7E7",
        "outputId": "605cf49e-bf0f-4109-dfbf-33a0f22cd852"
      },
      "outputs": [
        {
          "data": {
            "text/plain": [
              "{'petal_width <= 0.6': ['Iris-setosa',\n",
              "  {'petal_width <= 1.7': [{'petal_length <= 5.0': ['Iris-versicolor',\n",
              "      'Iris-virginica']},\n",
              "    {'petal_length <= 4.8': [{'sepal_width <= 3.0': ['Iris-virginica',\n",
              "        'Iris-versicolor']},\n",
              "      'Iris-virginica']}]}]}"
            ]
          },
          "execution_count": null,
          "metadata": {},
          "output_type": "execute_result"
        }
      ],
      "source": [
        "tree"
      ]
    },
    {
      "cell_type": "code",
      "execution_count": null,
      "metadata": {
        "colab": {
          "background_save": true,
          "base_uri": "https://localhost:8080/"
        },
        "id": "c7x9o-RZjmS7",
        "outputId": "b6c7de72-0ba9-4d47-bc62-dfafdb7f4b61"
      },
      "outputs": [
        {
          "data": {
            "text/plain": [
              "0.98"
            ]
          },
          "execution_count": null,
          "metadata": {},
          "output_type": "execute_result"
        }
      ],
      "source": [
        "accuracy"
      ]
    },
    {
      "cell_type": "code",
      "execution_count": null,
      "metadata": {
        "colab": {
          "background_save": true
        },
        "id": "HtSjoacQl8PY"
      },
      "outputs": [],
      "source": [
        "class desition_tree:\n",
        "  def __init__(self):\n",
        "    pass\n",
        "\n",
        "\n",
        "  def check_purity(data):\n",
        "      \n",
        "      label_column = data[:, -1]\n",
        "      unique_classes = np.unique(label_column)\n",
        "\n",
        "      if len(unique_classes) == 1:\n",
        "          return True\n",
        "      else:\n",
        "          return False\n",
        "\n",
        "  def classify_data(data):\n",
        "      \n",
        "      label_column = data[:, -1]\n",
        "      unique_classes, counts_unique_classes = np.unique(label_column, return_counts=True)\n",
        "\n",
        "      index = counts_unique_classes.argmax()\n",
        "      classification = unique_classes[index]\n",
        "      \n",
        "      return classification\n",
        "\n",
        "  def get_potential_splits(data):\n",
        "    potential_splits = {}\n",
        "    _, n_columns = data.shape\n",
        "    for column_index in range(n_columns - 1): # excluding the last column which is the label\n",
        "        values = data[:, column_index] #show column one by one\n",
        "        unique_values = np.unique(values) #find unique value in column\n",
        "        \n",
        "        type_of_feature = feature_types[column_index] #show which type of feature \n",
        "        if type_of_feature == \"continuous\":\n",
        "            potential_splits[column_index] = [] #store data in dit\n",
        "            for index in range(len(unique_values)):\n",
        "                if index != 0:\n",
        "                    current_value = unique_values[index]\n",
        "                    previous_value = unique_values[index - 1]\n",
        "                    potential_split = (current_value + previous_value) / 2 #find median\n",
        "                    potential_splits[column_index].append(potential_split)\n",
        "        \n",
        "        # feature is categorical\n",
        "        # (there need to be at least 2 unique values, otherwise in the\n",
        "        # split_data function data_below would contain all data points\n",
        "        # and data_above would be empty)\n",
        "        elif len(unique_values) > 1: #if data is catagorial than this part work\n",
        "            potential_splits[column_index] = unique_values\n",
        "    \n",
        "    return potential_splits\n",
        "\n",
        "\n",
        "  def split_data(data, split_column, split_value):\n",
        "      \n",
        "      split_column_values = data[:, split_column]\n",
        "\n",
        "      type_of_feature=feature_types[split_column]\n",
        "      if type_of_feature == \"continuous\":\n",
        "        data_below = data[split_column_values <= split_value]\n",
        "        data_above = data[split_column_values >  split_value]\n",
        "      else:\n",
        "        data_below = data[split_column_values == split_value]\n",
        "        data_above = data[split_column_values !=  split_value]      \n",
        "      \n",
        "      return data_below, data_above\n",
        "\n",
        "\n",
        "  def calculate_entropy(data):\n",
        "      \n",
        "      label_column = data[:, -1]\n",
        "      _, counts = np.unique(label_column, return_counts=True)\n",
        "\n",
        "      probabilities = counts / counts.sum()\n",
        "      entropy = sum(probabilities * -np.log2(probabilities))\n",
        "      \n",
        "      return entropy\n",
        "\n",
        "  def calculate_overall_entropy(data_below, data_above):\n",
        "      n = len(data_below) + len(data_above)\n",
        "      p_data_below = len(data_below) / n\n",
        "      p_data_above = len(data_above) / n\n",
        "      overall_entropy =  (p_data_below * calculate_entropy(data_below) \n",
        "                        + p_data_above * calculate_entropy(data_above))\n",
        "      \n",
        "      return overall_entropy\n",
        "\n",
        "\n",
        "  def determine_best_split(data, potential_splits):\n",
        "      overall_entropy = 9999\n",
        "      for column_index in potential_splits:\n",
        "          for value in potential_splits[column_index]:\n",
        "              data_below, data_above = split_data(data, split_column=column_index, split_value=value)\n",
        "              current_overall_entropy = calculate_overall_entropy(data_below, data_above)\n",
        "\n",
        "              if current_overall_entropy <= overall_entropy:\n",
        "                  overall_entropy = current_overall_entropy\n",
        "                  best_split_column = column_index\n",
        "                  best_split_value = value\n",
        "      return best_split_column, best_split_value\n",
        "\n",
        "\n",
        "  def determine_type_of_feature(data):\n",
        "    feature_type=[]\n",
        "    n_unique_values_threshold=15\n",
        "    for column in data.columns:\n",
        "      unique_values=data[column].unique()#unique value in column \n",
        "      example_value=unique_values[0]#show data in 0 number row\n",
        "      \n",
        "      if (isinstance(example_value,str) or (len(unique_values) <= n_unique_values_threshold)):\n",
        "        feature_type.append(\"categorical\")\n",
        "      else:\n",
        "        feature_type.append(\"continuous\")\n",
        "\n",
        "    return feature_type\n",
        "\n",
        "\n",
        "  def fit_data(df, counter=0,min_samples=2,max_depth=3):\n",
        "    \n",
        "    # data preparations\n",
        "    if counter == 0:\n",
        "        global column_headers ,feature_types#its show column name\n",
        "        column_headers=df.columns\n",
        "        feature_types=determine_type_of_feature(df)\n",
        "        data = df.values\n",
        "    else:\n",
        "        data = df           \n",
        "    \n",
        "    \n",
        "    # base cases\n",
        "    if check_purity(data) or (len(data) < min_samples) or (counter == max_depth):\n",
        "        classification = classify_data(data)\n",
        "        return classification\n",
        "\n",
        "    \n",
        "    # recursive part\n",
        "    else:    \n",
        "        counter += 1\n",
        "\n",
        "        # helper functions \n",
        "        potential_splits = get_potential_splits(data)\n",
        "        split_column, split_value = determine_best_split(data, potential_splits)\n",
        "        data_below, data_above = split_data(data, split_column, split_value)\n",
        "        \n",
        "        # instantiate sub-tree\n",
        "        feature_name=column_headers[split_column]\n",
        "        type_of_feature=feature_types[split_column]\n",
        "        if type_of_feature == \"continuous\":\n",
        "          question = \"{} <= {}\".format(feature_name, split_value) #if the column is continuous than it show this type of output\n",
        "        else:\n",
        "          question = \"{} = {}\".format(feature_name, split_value) #else show this type of output \n",
        "        sub_tree = {question: []}\n",
        "        \n",
        "        # find answers (recursion)\n",
        "        yes_answer = decision_tree_algorithm(data_below, counter,min_samples,max_depth)\n",
        "        no_answer = decision_tree_algorithm(data_above, counter,min_samples,max_depth)\n",
        "        \n",
        "        if yes_answer==no_answer:\n",
        "          sub_tree=yes_answer\n",
        "        else:\n",
        "          sub_tree[question].append(yes_answer)\n",
        "          sub_tree[question].append(no_answer)\n",
        "        \n",
        "        return sub_tree"
      ]
    },
    {
      "cell_type": "code",
      "execution_count": null,
      "metadata": {
        "colab": {
          "background_save": true
        },
        "id": "YlQ9ywbboSEO"
      },
      "outputs": [],
      "source": [
        "obj=desition_tree()"
      ]
    },
    {
      "cell_type": "code",
      "execution_count": null,
      "metadata": {
        "colab": {
          "background_save": true,
          "base_uri": "https://localhost:8080/",
          "height": 345
        },
        "id": "H-fVmk6roWyH",
        "outputId": "d4be272e-8104-4083-83a8-be035fc0dbe1"
      },
      "outputs": [
        {
          "ename": "ValueError",
          "evalue": "ignored",
          "output_type": "error",
          "traceback": [
            "\u001b[0;31m---------------------------------------------------------------------------\u001b[0m",
            "\u001b[0;31mValueError\u001b[0m                                Traceback (most recent call last)",
            "\u001b[0;32m<ipython-input-54-a65d2d1fec19>\u001b[0m in \u001b[0;36m<module>\u001b[0;34m()\u001b[0m\n\u001b[0;32m----> 1\u001b[0;31m \u001b[0mobj\u001b[0m\u001b[0;34m.\u001b[0m\u001b[0mfit_data\u001b[0m\u001b[0;34m(\u001b[0m\u001b[0mtrain_df\u001b[0m\u001b[0;34m)\u001b[0m\u001b[0;34m\u001b[0m\u001b[0;34m\u001b[0m\u001b[0m\n\u001b[0m",
            "\u001b[0;32m<ipython-input-52-20825db9f49a>\u001b[0m in \u001b[0;36mfit_data\u001b[0;34m(df, counter, min_samples, max_depth)\u001b[0m\n\u001b[1;32m    118\u001b[0m \u001b[0;34m\u001b[0m\u001b[0m\n\u001b[1;32m    119\u001b[0m     \u001b[0;31m# data preparations\u001b[0m\u001b[0;34m\u001b[0m\u001b[0;34m\u001b[0m\u001b[0;34m\u001b[0m\u001b[0m\n\u001b[0;32m--> 120\u001b[0;31m     \u001b[0;32mif\u001b[0m \u001b[0mcounter\u001b[0m \u001b[0;34m==\u001b[0m \u001b[0;36m0\u001b[0m\u001b[0;34m:\u001b[0m\u001b[0;34m\u001b[0m\u001b[0;34m\u001b[0m\u001b[0m\n\u001b[0m\u001b[1;32m    121\u001b[0m         \u001b[0;32mglobal\u001b[0m \u001b[0mcolumn_headers\u001b[0m \u001b[0;34m,\u001b[0m\u001b[0mfeature_types\u001b[0m\u001b[0;31m#its show column name\u001b[0m\u001b[0;34m\u001b[0m\u001b[0;34m\u001b[0m\u001b[0m\n\u001b[1;32m    122\u001b[0m         \u001b[0mcolumn_headers\u001b[0m\u001b[0;34m=\u001b[0m\u001b[0mdf\u001b[0m\u001b[0;34m.\u001b[0m\u001b[0mcolumns\u001b[0m\u001b[0;34m\u001b[0m\u001b[0;34m\u001b[0m\u001b[0m\n",
            "\u001b[0;32m/usr/local/lib/python3.7/dist-packages/pandas/core/generic.py\u001b[0m in \u001b[0;36m__nonzero__\u001b[0;34m(self)\u001b[0m\n\u001b[1;32m   1536\u001b[0m     \u001b[0;32mdef\u001b[0m \u001b[0m__nonzero__\u001b[0m\u001b[0;34m(\u001b[0m\u001b[0mself\u001b[0m\u001b[0;34m)\u001b[0m\u001b[0;34m:\u001b[0m\u001b[0;34m\u001b[0m\u001b[0;34m\u001b[0m\u001b[0m\n\u001b[1;32m   1537\u001b[0m         raise ValueError(\n\u001b[0;32m-> 1538\u001b[0;31m             \u001b[0;34mf\"The truth value of a {type(self).__name__} is ambiguous. \"\u001b[0m\u001b[0;34m\u001b[0m\u001b[0;34m\u001b[0m\u001b[0m\n\u001b[0m\u001b[1;32m   1539\u001b[0m             \u001b[0;34m\"Use a.empty, a.bool(), a.item(), a.any() or a.all().\"\u001b[0m\u001b[0;34m\u001b[0m\u001b[0;34m\u001b[0m\u001b[0m\n\u001b[1;32m   1540\u001b[0m         )\n",
            "\u001b[0;31mValueError\u001b[0m: The truth value of a DataFrame is ambiguous. Use a.empty, a.bool(), a.item(), a.any() or a.all()."
          ]
        }
      ],
      "source": [
        "obj.fit_data(train_df)"
      ]
    }
  ],
  "metadata": {
    "colab": {
      "collapsed_sections": [],
      "name": "DS_tree.ipynb",
      "provenance": []
    },
    "kernelspec": {
      "display_name": "Python 3",
      "name": "python3"
    },
    "language_info": {
      "name": "python"
    }
  },
  "nbformat": 4,
  "nbformat_minor": 0
}
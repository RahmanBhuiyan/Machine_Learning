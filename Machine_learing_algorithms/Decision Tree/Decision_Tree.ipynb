{
  "nbformat": 4,
  "nbformat_minor": 0,
  "metadata": {
    "colab": {
      "name": "Decision_Tree.ipynb",
      "provenance": [],
      "collapsed_sections": []
    },
    "kernelspec": {
      "name": "python3",
      "display_name": "Python 3"
    },
    "language_info": {
      "name": "python"
    }
  },
  "cells": [
    {
      "cell_type": "code",
      "execution_count": null,
      "metadata": {
        "id": "-kBxhjtwXlDW"
      },
      "outputs": [],
      "source": [
        "import pandas as pd\n",
        "import numpy as np\n",
        "import random\n",
        "import matplotlib.pyplot as plt"
      ]
    },
    {
      "cell_type": "code",
      "source": [
        "# import codecs\n",
        "# f = codecs.open(\"transfort.csv\", \"r\", \"utf-16\")"
      ],
      "metadata": {
        "id": "Bzc5kzx0pbaI"
      },
      "execution_count": null,
      "outputs": []
    },
    {
      "cell_type": "code",
      "source": [
        "# df=pd.read_csv(f)"
      ],
      "metadata": {
        "id": "ixStu8BfXzZ7"
      },
      "execution_count": null,
      "outputs": []
    },
    {
      "cell_type": "code",
      "source": [
        "df=pd.read_csv(\"Iris.csv\")"
      ],
      "metadata": {
        "id": "MBn9YmcRrVyW"
      },
      "execution_count": null,
      "outputs": []
    },
    {
      "cell_type": "code",
      "source": [
        "df=df.drop(\"Id\",axis=1)"
      ],
      "metadata": {
        "id": "m805lv9ZYFo6"
      },
      "execution_count": null,
      "outputs": []
    },
    {
      "cell_type": "code",
      "source": [
        "df=df.rename(columns={\"species\":\"label\"})"
      ],
      "metadata": {
        "id": "fHJ5ZT9KYdGU"
      },
      "execution_count": null,
      "outputs": []
    },
    {
      "cell_type": "code",
      "source": [
        "df"
      ],
      "metadata": {
        "id": "vo7QYM0RKp6e",
        "colab": {
          "base_uri": "https://localhost:8080/",
          "height": 424
        },
        "outputId": "5ad7d917-fc78-4927-d994-9a34400551fa"
      },
      "execution_count": null,
      "outputs": [
        {
          "output_type": "execute_result",
          "data": {
            "text/plain": [
              "     SepalLengthCm  SepalWidthCm  PetalLengthCm  PetalWidthCm         Species\n",
              "0              5.1           3.5            1.4           0.2     Iris-setosa\n",
              "1              4.9           3.0            1.4           0.2     Iris-setosa\n",
              "2              4.7           3.2            1.3           0.2     Iris-setosa\n",
              "3              4.6           3.1            1.5           0.2     Iris-setosa\n",
              "4              5.0           3.6            1.4           0.2     Iris-setosa\n",
              "..             ...           ...            ...           ...             ...\n",
              "145            6.7           3.0            5.2           2.3  Iris-virginica\n",
              "146            6.3           2.5            5.0           1.9  Iris-virginica\n",
              "147            6.5           3.0            5.2           2.0  Iris-virginica\n",
              "148            6.2           3.4            5.4           2.3  Iris-virginica\n",
              "149            5.9           3.0            5.1           1.8  Iris-virginica\n",
              "\n",
              "[150 rows x 5 columns]"
            ],
            "text/html": [
              "\n",
              "  <div id=\"df-7d651fbb-0539-4853-8ce9-6ad61f75f4aa\">\n",
              "    <div class=\"colab-df-container\">\n",
              "      <div>\n",
              "<style scoped>\n",
              "    .dataframe tbody tr th:only-of-type {\n",
              "        vertical-align: middle;\n",
              "    }\n",
              "\n",
              "    .dataframe tbody tr th {\n",
              "        vertical-align: top;\n",
              "    }\n",
              "\n",
              "    .dataframe thead th {\n",
              "        text-align: right;\n",
              "    }\n",
              "</style>\n",
              "<table border=\"1\" class=\"dataframe\">\n",
              "  <thead>\n",
              "    <tr style=\"text-align: right;\">\n",
              "      <th></th>\n",
              "      <th>SepalLengthCm</th>\n",
              "      <th>SepalWidthCm</th>\n",
              "      <th>PetalLengthCm</th>\n",
              "      <th>PetalWidthCm</th>\n",
              "      <th>Species</th>\n",
              "    </tr>\n",
              "  </thead>\n",
              "  <tbody>\n",
              "    <tr>\n",
              "      <th>0</th>\n",
              "      <td>5.1</td>\n",
              "      <td>3.5</td>\n",
              "      <td>1.4</td>\n",
              "      <td>0.2</td>\n",
              "      <td>Iris-setosa</td>\n",
              "    </tr>\n",
              "    <tr>\n",
              "      <th>1</th>\n",
              "      <td>4.9</td>\n",
              "      <td>3.0</td>\n",
              "      <td>1.4</td>\n",
              "      <td>0.2</td>\n",
              "      <td>Iris-setosa</td>\n",
              "    </tr>\n",
              "    <tr>\n",
              "      <th>2</th>\n",
              "      <td>4.7</td>\n",
              "      <td>3.2</td>\n",
              "      <td>1.3</td>\n",
              "      <td>0.2</td>\n",
              "      <td>Iris-setosa</td>\n",
              "    </tr>\n",
              "    <tr>\n",
              "      <th>3</th>\n",
              "      <td>4.6</td>\n",
              "      <td>3.1</td>\n",
              "      <td>1.5</td>\n",
              "      <td>0.2</td>\n",
              "      <td>Iris-setosa</td>\n",
              "    </tr>\n",
              "    <tr>\n",
              "      <th>4</th>\n",
              "      <td>5.0</td>\n",
              "      <td>3.6</td>\n",
              "      <td>1.4</td>\n",
              "      <td>0.2</td>\n",
              "      <td>Iris-setosa</td>\n",
              "    </tr>\n",
              "    <tr>\n",
              "      <th>...</th>\n",
              "      <td>...</td>\n",
              "      <td>...</td>\n",
              "      <td>...</td>\n",
              "      <td>...</td>\n",
              "      <td>...</td>\n",
              "    </tr>\n",
              "    <tr>\n",
              "      <th>145</th>\n",
              "      <td>6.7</td>\n",
              "      <td>3.0</td>\n",
              "      <td>5.2</td>\n",
              "      <td>2.3</td>\n",
              "      <td>Iris-virginica</td>\n",
              "    </tr>\n",
              "    <tr>\n",
              "      <th>146</th>\n",
              "      <td>6.3</td>\n",
              "      <td>2.5</td>\n",
              "      <td>5.0</td>\n",
              "      <td>1.9</td>\n",
              "      <td>Iris-virginica</td>\n",
              "    </tr>\n",
              "    <tr>\n",
              "      <th>147</th>\n",
              "      <td>6.5</td>\n",
              "      <td>3.0</td>\n",
              "      <td>5.2</td>\n",
              "      <td>2.0</td>\n",
              "      <td>Iris-virginica</td>\n",
              "    </tr>\n",
              "    <tr>\n",
              "      <th>148</th>\n",
              "      <td>6.2</td>\n",
              "      <td>3.4</td>\n",
              "      <td>5.4</td>\n",
              "      <td>2.3</td>\n",
              "      <td>Iris-virginica</td>\n",
              "    </tr>\n",
              "    <tr>\n",
              "      <th>149</th>\n",
              "      <td>5.9</td>\n",
              "      <td>3.0</td>\n",
              "      <td>5.1</td>\n",
              "      <td>1.8</td>\n",
              "      <td>Iris-virginica</td>\n",
              "    </tr>\n",
              "  </tbody>\n",
              "</table>\n",
              "<p>150 rows × 5 columns</p>\n",
              "</div>\n",
              "      <button class=\"colab-df-convert\" onclick=\"convertToInteractive('df-7d651fbb-0539-4853-8ce9-6ad61f75f4aa')\"\n",
              "              title=\"Convert this dataframe to an interactive table.\"\n",
              "              style=\"display:none;\">\n",
              "        \n",
              "  <svg xmlns=\"http://www.w3.org/2000/svg\" height=\"24px\"viewBox=\"0 0 24 24\"\n",
              "       width=\"24px\">\n",
              "    <path d=\"M0 0h24v24H0V0z\" fill=\"none\"/>\n",
              "    <path d=\"M18.56 5.44l.94 2.06.94-2.06 2.06-.94-2.06-.94-.94-2.06-.94 2.06-2.06.94zm-11 1L8.5 8.5l.94-2.06 2.06-.94-2.06-.94L8.5 2.5l-.94 2.06-2.06.94zm10 10l.94 2.06.94-2.06 2.06-.94-2.06-.94-.94-2.06-.94 2.06-2.06.94z\"/><path d=\"M17.41 7.96l-1.37-1.37c-.4-.4-.92-.59-1.43-.59-.52 0-1.04.2-1.43.59L10.3 9.45l-7.72 7.72c-.78.78-.78 2.05 0 2.83L4 21.41c.39.39.9.59 1.41.59.51 0 1.02-.2 1.41-.59l7.78-7.78 2.81-2.81c.8-.78.8-2.07 0-2.86zM5.41 20L4 18.59l7.72-7.72 1.47 1.35L5.41 20z\"/>\n",
              "  </svg>\n",
              "      </button>\n",
              "      \n",
              "  <style>\n",
              "    .colab-df-container {\n",
              "      display:flex;\n",
              "      flex-wrap:wrap;\n",
              "      gap: 12px;\n",
              "    }\n",
              "\n",
              "    .colab-df-convert {\n",
              "      background-color: #E8F0FE;\n",
              "      border: none;\n",
              "      border-radius: 50%;\n",
              "      cursor: pointer;\n",
              "      display: none;\n",
              "      fill: #1967D2;\n",
              "      height: 32px;\n",
              "      padding: 0 0 0 0;\n",
              "      width: 32px;\n",
              "    }\n",
              "\n",
              "    .colab-df-convert:hover {\n",
              "      background-color: #E2EBFA;\n",
              "      box-shadow: 0px 1px 2px rgba(60, 64, 67, 0.3), 0px 1px 3px 1px rgba(60, 64, 67, 0.15);\n",
              "      fill: #174EA6;\n",
              "    }\n",
              "\n",
              "    [theme=dark] .colab-df-convert {\n",
              "      background-color: #3B4455;\n",
              "      fill: #D2E3FC;\n",
              "    }\n",
              "\n",
              "    [theme=dark] .colab-df-convert:hover {\n",
              "      background-color: #434B5C;\n",
              "      box-shadow: 0px 1px 3px 1px rgba(0, 0, 0, 0.15);\n",
              "      filter: drop-shadow(0px 1px 2px rgba(0, 0, 0, 0.3));\n",
              "      fill: #FFFFFF;\n",
              "    }\n",
              "  </style>\n",
              "\n",
              "      <script>\n",
              "        const buttonEl =\n",
              "          document.querySelector('#df-7d651fbb-0539-4853-8ce9-6ad61f75f4aa button.colab-df-convert');\n",
              "        buttonEl.style.display =\n",
              "          google.colab.kernel.accessAllowed ? 'block' : 'none';\n",
              "\n",
              "        async function convertToInteractive(key) {\n",
              "          const element = document.querySelector('#df-7d651fbb-0539-4853-8ce9-6ad61f75f4aa');\n",
              "          const dataTable =\n",
              "            await google.colab.kernel.invokeFunction('convertToInteractive',\n",
              "                                                     [key], {});\n",
              "          if (!dataTable) return;\n",
              "\n",
              "          const docLinkHtml = 'Like what you see? Visit the ' +\n",
              "            '<a target=\"_blank\" href=https://colab.research.google.com/notebooks/data_table.ipynb>data table notebook</a>'\n",
              "            + ' to learn more about interactive tables.';\n",
              "          element.innerHTML = '';\n",
              "          dataTable['output_type'] = 'display_data';\n",
              "          await google.colab.output.renderOutput(dataTable, element);\n",
              "          const docLink = document.createElement('div');\n",
              "          docLink.innerHTML = docLinkHtml;\n",
              "          element.appendChild(docLink);\n",
              "        }\n",
              "      </script>\n",
              "    </div>\n",
              "  </div>\n",
              "  "
            ]
          },
          "metadata": {},
          "execution_count": 164
        }
      ]
    },
    {
      "cell_type": "code",
      "source": [
        "df.info()"
      ],
      "metadata": {
        "id": "aXtNdkHsYpoy",
        "colab": {
          "base_uri": "https://localhost:8080/"
        },
        "outputId": "2933a9d0-13b1-4a33-8dd4-0ffe9a0285a6"
      },
      "execution_count": null,
      "outputs": [
        {
          "output_type": "stream",
          "name": "stdout",
          "text": [
            "<class 'pandas.core.frame.DataFrame'>\n",
            "RangeIndex: 150 entries, 0 to 149\n",
            "Data columns (total 5 columns):\n",
            " #   Column         Non-Null Count  Dtype  \n",
            "---  ------         --------------  -----  \n",
            " 0   SepalLengthCm  150 non-null    float64\n",
            " 1   SepalWidthCm   150 non-null    float64\n",
            " 2   PetalLengthCm  150 non-null    float64\n",
            " 3   PetalWidthCm   150 non-null    float64\n",
            " 4   Species        150 non-null    object \n",
            "dtypes: float64(4), object(1)\n",
            "memory usage: 6.0+ KB\n"
          ]
        }
      ]
    },
    {
      "cell_type": "markdown",
      "source": [
        "#train test split"
      ],
      "metadata": {
        "id": "UWsbWN4hY6QL"
      }
    },
    {
      "cell_type": "code",
      "source": [
        "x=df.iloc[:,0:4]\n",
        "y=df.iloc[:,4:5]"
      ],
      "metadata": {
        "id": "k7iTTefu-YS6"
      },
      "execution_count": null,
      "outputs": []
    },
    {
      "cell_type": "code",
      "source": [
        "def train_test_split(x,y,test_size):\n",
        "  #isinstance check it is float number or not\n",
        "  if isinstance (test_size,float):\n",
        "    test_size=round(test*len(df))\n",
        "  indices_x=list(x.index)\n",
        "  indices_y=list(y.index)\n",
        "  #random.sample Lift up random number in data set\n",
        "  train_indices_x=random.sample(indices_x,test_size)\n",
        "  train_indices_y=random.sample(indices_y,test_size)\n",
        "  test_x=x.iloc[train_indices_x]\n",
        "  test_y=y.iloc[train_indices_y]\n",
        "  train_x=x.drop(train_indices_x)\n",
        "  train_y=y.drop(train_indices_y)\n",
        "  return train_x,train_y,test_x,test_y"
      ],
      "metadata": {
        "id": "C46GJWuSY2sj"
      },
      "execution_count": null,
      "outputs": []
    },
    {
      "cell_type": "code",
      "source": [
        "train_x,train_y,test_x,test_y=train_test_split(x,y,50)"
      ],
      "metadata": {
        "id": "BazqOY8C5VQL"
      },
      "execution_count": null,
      "outputs": []
    },
    {
      "cell_type": "code",
      "source": [
        "test_y.index"
      ],
      "metadata": {
        "id": "Zbpv7iZ35ofw",
        "colab": {
          "base_uri": "https://localhost:8080/"
        },
        "outputId": "58f16f1a-8358-4f33-e90a-d37ef522ece6"
      },
      "execution_count": null,
      "outputs": [
        {
          "output_type": "execute_result",
          "data": {
            "text/plain": [
              "Int64Index([ 61, 119, 137, 130, 121,  42, 143,   6,  13, 132,  74,  48,  86,\n",
              "             50,  72,   5,  68, 113, 101, 128, 147, 100,  94,   2, 148,   9,\n",
              "            114,  35, 140,  33,  36,  73,  65,  31,  66, 112,  24,  88,  32,\n",
              "             63,  79,  19,  82,  64,  55, 102,  38,   0, 142,  54],\n",
              "           dtype='int64')"
            ]
          },
          "metadata": {},
          "execution_count": 169
        }
      ]
    },
    {
      "cell_type": "code",
      "source": [
        "train_y"
      ],
      "metadata": {
        "id": "18Ubvj1F5Nts",
        "colab": {
          "base_uri": "https://localhost:8080/",
          "height": 424
        },
        "outputId": "f6744900-de6a-4ada-c970-aabdc9065cb9"
      },
      "execution_count": null,
      "outputs": [
        {
          "output_type": "execute_result",
          "data": {
            "text/plain": [
              "            Species\n",
              "1       Iris-setosa\n",
              "3       Iris-setosa\n",
              "4       Iris-setosa\n",
              "7       Iris-setosa\n",
              "8       Iris-setosa\n",
              "..              ...\n",
              "141  Iris-virginica\n",
              "144  Iris-virginica\n",
              "145  Iris-virginica\n",
              "146  Iris-virginica\n",
              "149  Iris-virginica\n",
              "\n",
              "[100 rows x 1 columns]"
            ],
            "text/html": [
              "\n",
              "  <div id=\"df-d7b4de98-9f91-40b0-9d13-8715fa867d01\">\n",
              "    <div class=\"colab-df-container\">\n",
              "      <div>\n",
              "<style scoped>\n",
              "    .dataframe tbody tr th:only-of-type {\n",
              "        vertical-align: middle;\n",
              "    }\n",
              "\n",
              "    .dataframe tbody tr th {\n",
              "        vertical-align: top;\n",
              "    }\n",
              "\n",
              "    .dataframe thead th {\n",
              "        text-align: right;\n",
              "    }\n",
              "</style>\n",
              "<table border=\"1\" class=\"dataframe\">\n",
              "  <thead>\n",
              "    <tr style=\"text-align: right;\">\n",
              "      <th></th>\n",
              "      <th>Species</th>\n",
              "    </tr>\n",
              "  </thead>\n",
              "  <tbody>\n",
              "    <tr>\n",
              "      <th>1</th>\n",
              "      <td>Iris-setosa</td>\n",
              "    </tr>\n",
              "    <tr>\n",
              "      <th>3</th>\n",
              "      <td>Iris-setosa</td>\n",
              "    </tr>\n",
              "    <tr>\n",
              "      <th>4</th>\n",
              "      <td>Iris-setosa</td>\n",
              "    </tr>\n",
              "    <tr>\n",
              "      <th>7</th>\n",
              "      <td>Iris-setosa</td>\n",
              "    </tr>\n",
              "    <tr>\n",
              "      <th>8</th>\n",
              "      <td>Iris-setosa</td>\n",
              "    </tr>\n",
              "    <tr>\n",
              "      <th>...</th>\n",
              "      <td>...</td>\n",
              "    </tr>\n",
              "    <tr>\n",
              "      <th>141</th>\n",
              "      <td>Iris-virginica</td>\n",
              "    </tr>\n",
              "    <tr>\n",
              "      <th>144</th>\n",
              "      <td>Iris-virginica</td>\n",
              "    </tr>\n",
              "    <tr>\n",
              "      <th>145</th>\n",
              "      <td>Iris-virginica</td>\n",
              "    </tr>\n",
              "    <tr>\n",
              "      <th>146</th>\n",
              "      <td>Iris-virginica</td>\n",
              "    </tr>\n",
              "    <tr>\n",
              "      <th>149</th>\n",
              "      <td>Iris-virginica</td>\n",
              "    </tr>\n",
              "  </tbody>\n",
              "</table>\n",
              "<p>100 rows × 1 columns</p>\n",
              "</div>\n",
              "      <button class=\"colab-df-convert\" onclick=\"convertToInteractive('df-d7b4de98-9f91-40b0-9d13-8715fa867d01')\"\n",
              "              title=\"Convert this dataframe to an interactive table.\"\n",
              "              style=\"display:none;\">\n",
              "        \n",
              "  <svg xmlns=\"http://www.w3.org/2000/svg\" height=\"24px\"viewBox=\"0 0 24 24\"\n",
              "       width=\"24px\">\n",
              "    <path d=\"M0 0h24v24H0V0z\" fill=\"none\"/>\n",
              "    <path d=\"M18.56 5.44l.94 2.06.94-2.06 2.06-.94-2.06-.94-.94-2.06-.94 2.06-2.06.94zm-11 1L8.5 8.5l.94-2.06 2.06-.94-2.06-.94L8.5 2.5l-.94 2.06-2.06.94zm10 10l.94 2.06.94-2.06 2.06-.94-2.06-.94-.94-2.06-.94 2.06-2.06.94z\"/><path d=\"M17.41 7.96l-1.37-1.37c-.4-.4-.92-.59-1.43-.59-.52 0-1.04.2-1.43.59L10.3 9.45l-7.72 7.72c-.78.78-.78 2.05 0 2.83L4 21.41c.39.39.9.59 1.41.59.51 0 1.02-.2 1.41-.59l7.78-7.78 2.81-2.81c.8-.78.8-2.07 0-2.86zM5.41 20L4 18.59l7.72-7.72 1.47 1.35L5.41 20z\"/>\n",
              "  </svg>\n",
              "      </button>\n",
              "      \n",
              "  <style>\n",
              "    .colab-df-container {\n",
              "      display:flex;\n",
              "      flex-wrap:wrap;\n",
              "      gap: 12px;\n",
              "    }\n",
              "\n",
              "    .colab-df-convert {\n",
              "      background-color: #E8F0FE;\n",
              "      border: none;\n",
              "      border-radius: 50%;\n",
              "      cursor: pointer;\n",
              "      display: none;\n",
              "      fill: #1967D2;\n",
              "      height: 32px;\n",
              "      padding: 0 0 0 0;\n",
              "      width: 32px;\n",
              "    }\n",
              "\n",
              "    .colab-df-convert:hover {\n",
              "      background-color: #E2EBFA;\n",
              "      box-shadow: 0px 1px 2px rgba(60, 64, 67, 0.3), 0px 1px 3px 1px rgba(60, 64, 67, 0.15);\n",
              "      fill: #174EA6;\n",
              "    }\n",
              "\n",
              "    [theme=dark] .colab-df-convert {\n",
              "      background-color: #3B4455;\n",
              "      fill: #D2E3FC;\n",
              "    }\n",
              "\n",
              "    [theme=dark] .colab-df-convert:hover {\n",
              "      background-color: #434B5C;\n",
              "      box-shadow: 0px 1px 3px 1px rgba(0, 0, 0, 0.15);\n",
              "      filter: drop-shadow(0px 1px 2px rgba(0, 0, 0, 0.3));\n",
              "      fill: #FFFFFF;\n",
              "    }\n",
              "  </style>\n",
              "\n",
              "      <script>\n",
              "        const buttonEl =\n",
              "          document.querySelector('#df-d7b4de98-9f91-40b0-9d13-8715fa867d01 button.colab-df-convert');\n",
              "        buttonEl.style.display =\n",
              "          google.colab.kernel.accessAllowed ? 'block' : 'none';\n",
              "\n",
              "        async function convertToInteractive(key) {\n",
              "          const element = document.querySelector('#df-d7b4de98-9f91-40b0-9d13-8715fa867d01');\n",
              "          const dataTable =\n",
              "            await google.colab.kernel.invokeFunction('convertToInteractive',\n",
              "                                                     [key], {});\n",
              "          if (!dataTable) return;\n",
              "\n",
              "          const docLinkHtml = 'Like what you see? Visit the ' +\n",
              "            '<a target=\"_blank\" href=https://colab.research.google.com/notebooks/data_table.ipynb>data table notebook</a>'\n",
              "            + ' to learn more about interactive tables.';\n",
              "          element.innerHTML = '';\n",
              "          dataTable['output_type'] = 'display_data';\n",
              "          await google.colab.output.renderOutput(dataTable, element);\n",
              "          const docLink = document.createElement('div');\n",
              "          docLink.innerHTML = docLinkHtml;\n",
              "          element.appendChild(docLink);\n",
              "        }\n",
              "      </script>\n",
              "    </div>\n",
              "  </div>\n",
              "  "
            ]
          },
          "metadata": {},
          "execution_count": 170
        }
      ]
    },
    {
      "cell_type": "code",
      "source": [
        "indices=list(df.index)"
      ],
      "metadata": {
        "id": "kfAIjVFmZSPp"
      },
      "execution_count": null,
      "outputs": []
    },
    {
      "cell_type": "code",
      "source": [
        "def random_num(start,end):\n",
        "  k=[]\n",
        "  for i in range(start,end):\n",
        "    k.append(i)\n",
        "  return k[2]\n",
        "random_num(1,4)"
      ],
      "metadata": {
        "id": "K5K1InIyDFn8",
        "colab": {
          "base_uri": "https://localhost:8080/"
        },
        "outputId": "1b6d1e39-6a9a-4ea3-f4eb-ea4eaa932141"
      },
      "execution_count": null,
      "outputs": [
        {
          "output_type": "execute_result",
          "data": {
            "text/plain": [
              "3"
            ]
          },
          "metadata": {},
          "execution_count": 172
        }
      ]
    },
    {
      "cell_type": "code",
      "source": [
        "for i in range(5):\n",
        "  random_num(1,4)+i"
      ],
      "metadata": {
        "id": "0FYPZyGTQJpI"
      },
      "execution_count": null,
      "outputs": []
    },
    {
      "cell_type": "code",
      "source": [
        "n=random.randint(2,3)"
      ],
      "metadata": {
        "id": "O3xsNceYN5R0"
      },
      "execution_count": null,
      "outputs": []
    },
    {
      "cell_type": "code",
      "source": [
        "train_indices=random.sample(indices,20)"
      ],
      "metadata": {
        "id": "qHuYWjkkSlng"
      },
      "execution_count": null,
      "outputs": []
    },
    {
      "cell_type": "code",
      "source": [
        "test_df=df.iloc[train_indices]"
      ],
      "metadata": {
        "id": "JBwfy5u1T9Jf"
      },
      "execution_count": null,
      "outputs": []
    },
    {
      "cell_type": "code",
      "source": [
        "train_df=df.drop(train_indices)"
      ],
      "metadata": {
        "id": "DPxXmZA7eE76"
      },
      "execution_count": null,
      "outputs": []
    },
    {
      "cell_type": "code",
      "source": [
        "len(df)"
      ],
      "metadata": {
        "id": "NW5Gd8qLesPY",
        "colab": {
          "base_uri": "https://localhost:8080/"
        },
        "outputId": "ec7fce07-c0bf-43fb-936d-9df53e14245e"
      },
      "execution_count": null,
      "outputs": [
        {
          "output_type": "execute_result",
          "data": {
            "text/plain": [
              "150"
            ]
          },
          "metadata": {},
          "execution_count": 178
        }
      ]
    },
    {
      "cell_type": "code",
      "source": [
        "numbers = [1, 2, 3, 4, 2, 5]\n",
        "\n",
        "# check if numbers is instance of list\n",
        "result = isinstance(numbers, tuple)\n",
        "\n",
        "print(result)\n"
      ],
      "metadata": {
        "id": "ipdLp2Y5jMoV",
        "colab": {
          "base_uri": "https://localhost:8080/"
        },
        "outputId": "e7c38a9b-5517-4105-fe49-1cbb827cf96b"
      },
      "execution_count": null,
      "outputs": [
        {
          "output_type": "stream",
          "name": "stdout",
          "text": [
            "False\n"
          ]
        }
      ]
    },
    {
      "cell_type": "code",
      "source": [
        "test=0.31\n",
        "if isinstance (test,float):\n",
        "  test_size=round(test*len(df))\n",
        "  print(test_size)"
      ],
      "metadata": {
        "id": "9VIlTk9mlGcZ",
        "colab": {
          "base_uri": "https://localhost:8080/"
        },
        "outputId": "883032dd-7b23-4202-88d3-1fc1b414714f"
      },
      "execution_count": null,
      "outputs": [
        {
          "output_type": "stream",
          "name": "stdout",
          "text": [
            "46\n"
          ]
        }
      ]
    },
    {
      "cell_type": "code",
      "source": [
        "round(0.31*150)"
      ],
      "metadata": {
        "id": "bXaiueFr4BVK",
        "colab": {
          "base_uri": "https://localhost:8080/"
        },
        "outputId": "60754efd-cbf8-4eef-9a41-0f6225763909"
      },
      "execution_count": null,
      "outputs": [
        {
          "output_type": "execute_result",
          "data": {
            "text/plain": [
              "46"
            ]
          },
          "metadata": {},
          "execution_count": 181
        }
      ]
    },
    {
      "cell_type": "code",
      "source": [
        "k=0.95*100\n",
        "k"
      ],
      "metadata": {
        "id": "MhM3NZs14IQS",
        "colab": {
          "base_uri": "https://localhost:8080/"
        },
        "outputId": "485cebf2-b20c-4419-e1a2-75abbafe0042"
      },
      "execution_count": null,
      "outputs": [
        {
          "output_type": "execute_result",
          "data": {
            "text/plain": [
              "95.0"
            ]
          },
          "metadata": {},
          "execution_count": 182
        }
      ]
    },
    {
      "cell_type": "code",
      "source": [
        "# df[Class].unique()"
      ],
      "metadata": {
        "id": "BBvjbfYgMw3p"
      },
      "execution_count": null,
      "outputs": []
    },
    {
      "cell_type": "markdown",
      "source": [
        "#entropy \n",
        "summation(-p log2 p)"
      ],
      "metadata": {
        "id": "V0htz3bO7Kha"
      }
    },
    {
      "cell_type": "code",
      "source": [
        "def find_entropy(df):\n",
        "  Class=df.keys()[-1]\n",
        "  values=df[Class].unique()\n",
        "  k=[]\n",
        "  entropy=0\n",
        "  for value in values:\n",
        "    prob=df[Class].value_counts()[value]/len(df[Class])\n",
        "    entropy+=-prob *np.log2(prob)\n",
        "    k.append(entropy)\n",
        "  return k\n",
        "find_entropy(df)"
      ],
      "metadata": {
        "id": "n_UZMs9z7KCc",
        "colab": {
          "base_uri": "https://localhost:8080/"
        },
        "outputId": "44aba7c0-0d04-4293-afcf-b0874d59e6bf"
      },
      "execution_count": null,
      "outputs": [
        {
          "output_type": "execute_result",
          "data": {
            "text/plain": [
              "[0.5283208335737187, 1.0566416671474375, 1.584962500721156]"
            ]
          },
          "metadata": {},
          "execution_count": 184
        }
      ]
    },
    {
      "cell_type": "code",
      "source": [
        "train_y"
      ],
      "metadata": {
        "colab": {
          "base_uri": "https://localhost:8080/",
          "height": 424
        },
        "id": "NHiiYSQlH8Ls",
        "outputId": "f152960c-2cbe-4047-ecac-d86b00df77d2"
      },
      "execution_count": null,
      "outputs": [
        {
          "output_type": "execute_result",
          "data": {
            "text/plain": [
              "            Species\n",
              "1       Iris-setosa\n",
              "3       Iris-setosa\n",
              "4       Iris-setosa\n",
              "7       Iris-setosa\n",
              "8       Iris-setosa\n",
              "..              ...\n",
              "141  Iris-virginica\n",
              "144  Iris-virginica\n",
              "145  Iris-virginica\n",
              "146  Iris-virginica\n",
              "149  Iris-virginica\n",
              "\n",
              "[100 rows x 1 columns]"
            ],
            "text/html": [
              "\n",
              "  <div id=\"df-c649bd99-2300-44a1-ac8e-650f831d799e\">\n",
              "    <div class=\"colab-df-container\">\n",
              "      <div>\n",
              "<style scoped>\n",
              "    .dataframe tbody tr th:only-of-type {\n",
              "        vertical-align: middle;\n",
              "    }\n",
              "\n",
              "    .dataframe tbody tr th {\n",
              "        vertical-align: top;\n",
              "    }\n",
              "\n",
              "    .dataframe thead th {\n",
              "        text-align: right;\n",
              "    }\n",
              "</style>\n",
              "<table border=\"1\" class=\"dataframe\">\n",
              "  <thead>\n",
              "    <tr style=\"text-align: right;\">\n",
              "      <th></th>\n",
              "      <th>Species</th>\n",
              "    </tr>\n",
              "  </thead>\n",
              "  <tbody>\n",
              "    <tr>\n",
              "      <th>1</th>\n",
              "      <td>Iris-setosa</td>\n",
              "    </tr>\n",
              "    <tr>\n",
              "      <th>3</th>\n",
              "      <td>Iris-setosa</td>\n",
              "    </tr>\n",
              "    <tr>\n",
              "      <th>4</th>\n",
              "      <td>Iris-setosa</td>\n",
              "    </tr>\n",
              "    <tr>\n",
              "      <th>7</th>\n",
              "      <td>Iris-setosa</td>\n",
              "    </tr>\n",
              "    <tr>\n",
              "      <th>8</th>\n",
              "      <td>Iris-setosa</td>\n",
              "    </tr>\n",
              "    <tr>\n",
              "      <th>...</th>\n",
              "      <td>...</td>\n",
              "    </tr>\n",
              "    <tr>\n",
              "      <th>141</th>\n",
              "      <td>Iris-virginica</td>\n",
              "    </tr>\n",
              "    <tr>\n",
              "      <th>144</th>\n",
              "      <td>Iris-virginica</td>\n",
              "    </tr>\n",
              "    <tr>\n",
              "      <th>145</th>\n",
              "      <td>Iris-virginica</td>\n",
              "    </tr>\n",
              "    <tr>\n",
              "      <th>146</th>\n",
              "      <td>Iris-virginica</td>\n",
              "    </tr>\n",
              "    <tr>\n",
              "      <th>149</th>\n",
              "      <td>Iris-virginica</td>\n",
              "    </tr>\n",
              "  </tbody>\n",
              "</table>\n",
              "<p>100 rows × 1 columns</p>\n",
              "</div>\n",
              "      <button class=\"colab-df-convert\" onclick=\"convertToInteractive('df-c649bd99-2300-44a1-ac8e-650f831d799e')\"\n",
              "              title=\"Convert this dataframe to an interactive table.\"\n",
              "              style=\"display:none;\">\n",
              "        \n",
              "  <svg xmlns=\"http://www.w3.org/2000/svg\" height=\"24px\"viewBox=\"0 0 24 24\"\n",
              "       width=\"24px\">\n",
              "    <path d=\"M0 0h24v24H0V0z\" fill=\"none\"/>\n",
              "    <path d=\"M18.56 5.44l.94 2.06.94-2.06 2.06-.94-2.06-.94-.94-2.06-.94 2.06-2.06.94zm-11 1L8.5 8.5l.94-2.06 2.06-.94-2.06-.94L8.5 2.5l-.94 2.06-2.06.94zm10 10l.94 2.06.94-2.06 2.06-.94-2.06-.94-.94-2.06-.94 2.06-2.06.94z\"/><path d=\"M17.41 7.96l-1.37-1.37c-.4-.4-.92-.59-1.43-.59-.52 0-1.04.2-1.43.59L10.3 9.45l-7.72 7.72c-.78.78-.78 2.05 0 2.83L4 21.41c.39.39.9.59 1.41.59.51 0 1.02-.2 1.41-.59l7.78-7.78 2.81-2.81c.8-.78.8-2.07 0-2.86zM5.41 20L4 18.59l7.72-7.72 1.47 1.35L5.41 20z\"/>\n",
              "  </svg>\n",
              "      </button>\n",
              "      \n",
              "  <style>\n",
              "    .colab-df-container {\n",
              "      display:flex;\n",
              "      flex-wrap:wrap;\n",
              "      gap: 12px;\n",
              "    }\n",
              "\n",
              "    .colab-df-convert {\n",
              "      background-color: #E8F0FE;\n",
              "      border: none;\n",
              "      border-radius: 50%;\n",
              "      cursor: pointer;\n",
              "      display: none;\n",
              "      fill: #1967D2;\n",
              "      height: 32px;\n",
              "      padding: 0 0 0 0;\n",
              "      width: 32px;\n",
              "    }\n",
              "\n",
              "    .colab-df-convert:hover {\n",
              "      background-color: #E2EBFA;\n",
              "      box-shadow: 0px 1px 2px rgba(60, 64, 67, 0.3), 0px 1px 3px 1px rgba(60, 64, 67, 0.15);\n",
              "      fill: #174EA6;\n",
              "    }\n",
              "\n",
              "    [theme=dark] .colab-df-convert {\n",
              "      background-color: #3B4455;\n",
              "      fill: #D2E3FC;\n",
              "    }\n",
              "\n",
              "    [theme=dark] .colab-df-convert:hover {\n",
              "      background-color: #434B5C;\n",
              "      box-shadow: 0px 1px 3px 1px rgba(0, 0, 0, 0.15);\n",
              "      filter: drop-shadow(0px 1px 2px rgba(0, 0, 0, 0.3));\n",
              "      fill: #FFFFFF;\n",
              "    }\n",
              "  </style>\n",
              "\n",
              "      <script>\n",
              "        const buttonEl =\n",
              "          document.querySelector('#df-c649bd99-2300-44a1-ac8e-650f831d799e button.colab-df-convert');\n",
              "        buttonEl.style.display =\n",
              "          google.colab.kernel.accessAllowed ? 'block' : 'none';\n",
              "\n",
              "        async function convertToInteractive(key) {\n",
              "          const element = document.querySelector('#df-c649bd99-2300-44a1-ac8e-650f831d799e');\n",
              "          const dataTable =\n",
              "            await google.colab.kernel.invokeFunction('convertToInteractive',\n",
              "                                                     [key], {});\n",
              "          if (!dataTable) return;\n",
              "\n",
              "          const docLinkHtml = 'Like what you see? Visit the ' +\n",
              "            '<a target=\"_blank\" href=https://colab.research.google.com/notebooks/data_table.ipynb>data table notebook</a>'\n",
              "            + ' to learn more about interactive tables.';\n",
              "          element.innerHTML = '';\n",
              "          dataTable['output_type'] = 'display_data';\n",
              "          await google.colab.output.renderOutput(dataTable, element);\n",
              "          const docLink = document.createElement('div');\n",
              "          docLink.innerHTML = docLinkHtml;\n",
              "          element.appendChild(docLink);\n",
              "        }\n",
              "      </script>\n",
              "    </div>\n",
              "  </div>\n",
              "  "
            ]
          },
          "metadata": {},
          "execution_count": 185
        }
      ]
    },
    {
      "cell_type": "code",
      "source": [
        "Class=df.keys()[0]\n",
        "Class"
      ],
      "metadata": {
        "id": "Bfd7xolYMfLW",
        "colab": {
          "base_uri": "https://localhost:8080/",
          "height": 35
        },
        "outputId": "1f62c2e4-06de-4fdb-a7dd-fca58736a7a6"
      },
      "execution_count": null,
      "outputs": [
        {
          "output_type": "execute_result",
          "data": {
            "text/plain": [
              "'SepalLengthCm'"
            ],
            "application/vnd.google.colaboratory.intrinsic+json": {
              "type": "string"
            }
          },
          "metadata": {},
          "execution_count": 186
        }
      ]
    },
    {
      "cell_type": "code",
      "source": [
        "values=df[Class].unique()\n",
        "values"
      ],
      "metadata": {
        "id": "t3RFnQKn_-pa",
        "colab": {
          "base_uri": "https://localhost:8080/"
        },
        "outputId": "8486910c-12c7-4e0a-f009-3978a0066262"
      },
      "execution_count": null,
      "outputs": [
        {
          "output_type": "execute_result",
          "data": {
            "text/plain": [
              "array([5.1, 4.9, 4.7, 4.6, 5. , 5.4, 4.4, 4.8, 4.3, 5.8, 5.7, 5.2, 5.5,\n",
              "       4.5, 5.3, 7. , 6.4, 6.9, 6.5, 6.3, 6.6, 5.9, 6. , 6.1, 5.6, 6.7,\n",
              "       6.2, 6.8, 7.1, 7.6, 7.3, 7.2, 7.7, 7.4, 7.9])"
            ]
          },
          "metadata": {},
          "execution_count": 187
        }
      ]
    },
    {
      "cell_type": "code",
      "source": [
        "# data=df[df.sepal_length==5.1 ]\n",
        "# length1=len(data)"
      ],
      "metadata": {
        "id": "U7gfWFwyAJNB"
      },
      "execution_count": null,
      "outputs": []
    },
    {
      "cell_type": "code",
      "source": [
        "# data[data.label == \"Iris-versicolor\"]"
      ],
      "metadata": {
        "id": "GLowCDWyEx2C"
      },
      "execution_count": null,
      "outputs": []
    },
    {
      "cell_type": "code",
      "source": [
        "# df[Class].value_counts()[\"Iris-setosa\"]/len(df[Class])"
      ],
      "metadata": {
        "id": "yrbTfJ7OAive"
      },
      "execution_count": null,
      "outputs": []
    },
    {
      "cell_type": "code",
      "source": [
        "# len(df[df.label==\"Iris-setosa\"])"
      ],
      "metadata": {
        "id": "CmxXbifhBFZU"
      },
      "execution_count": null,
      "outputs": []
    },
    {
      "cell_type": "markdown",
      "source": [
        "#entropy attribute\n",
        "summation(-p log2 p)"
      ],
      "metadata": {
        "id": "HWKu94lSLIFe"
      }
    },
    {
      "cell_type": "code",
      "source": [
        "def find_entropy_attribute(train_x,train_y,attrubute_index):\n",
        "  Class=train_y.keys()[-1]\n",
        "  dependent_variable=train_y[Class].unique()\n",
        "  attribute=train_x.keys()[attrubute_index]\n",
        "  Independent_variable=train_x[attribute].unique()\n",
        "  avg_entropy=0\n",
        "  for value in Independent_variable:\n",
        "    entropy=0\n",
        "    for value1 in dependent_variable:\n",
        "      num=len(attribute[attribute==value][Class==value1])\n",
        "      den = len(attribute[attribute==value])\n",
        "      prob=num/den\n",
        "      entropy+= -prob*np.log2(prob + 0.000001)\n",
        "    avg_entropy += (den/len(train_x))*entropy\n",
        "  return avg_entropy"
      ],
      "metadata": {
        "id": "2cu2As5luxkc"
      },
      "execution_count": null,
      "outputs": []
    },
    {
      "cell_type": "code",
      "source": [
        "find_entropy_attribute(train_x,train_y,0)"
      ],
      "metadata": {
        "id": "hpPydEa1V67k",
        "colab": {
          "base_uri": "https://localhost:8080/"
        },
        "outputId": "877fb7e4-3fa1-4666-da65-fa68ed4f02dd"
      },
      "execution_count": null,
      "outputs": [
        {
          "output_type": "execute_result",
          "data": {
            "text/plain": [
              "-1.3417057170636114e-06"
            ]
          },
          "metadata": {},
          "execution_count": 193
        }
      ]
    },
    {
      "cell_type": "code",
      "source": [
        "avg_entropy=0\n",
        "for i in  range(1,3):\n",
        "  entropy=0\n",
        "  for j in range(1,3):\n",
        "    entropy=entropy+j\n",
        "  avg_entropy=avg_entropy+j\n",
        "  print(i,\"=\",avg_entropy)"
      ],
      "metadata": {
        "id": "ZPZ1NBxzatMn",
        "colab": {
          "base_uri": "https://localhost:8080/"
        },
        "outputId": "f43939bf-86f0-4e7d-ead6-495e121d7663"
      },
      "execution_count": null,
      "outputs": [
        {
          "output_type": "stream",
          "name": "stdout",
          "text": [
            "1 = 2\n",
            "2 = 4\n"
          ]
        }
      ]
    },
    {
      "cell_type": "markdown",
      "source": [
        "#information gain\n",
        "\n",
        "IG(S, a) = H(S) – H(S | a)"
      ],
      "metadata": {
        "id": "vSU4EWLiW0rj"
      }
    },
    {
      "cell_type": "code",
      "source": [
        "data=[train_x,train_y]"
      ],
      "metadata": {
        "id": "IEfn7F3qOEUq"
      },
      "execution_count": null,
      "outputs": []
    },
    {
      "cell_type": "code",
      "source": [
        "class Decision_Tree:\n",
        "  def find_entropy(df):\n",
        "    Class = df.keys()[-1]\n",
        "    values = df[Class].unique()\n",
        "    entropy = 0\n",
        "    for value in values:\n",
        "      prob = df[Class].value_counts()[value]/len(df[Class])\n",
        "      entropy += -prob * np.log2(prob)\n",
        "    return np.float(entropy)\n",
        "\n",
        "\n",
        "  # Find entropy attribute\n",
        "  def find_entropy_attribute(df, attribute):\n",
        "    Class = df.keys()[-1]\n",
        "    target_values = df[Class].unique()\n",
        "    attribute_values = df[attribute].unique()\n",
        "    avg_entropy = 0\n",
        "    for value in attribute_values:\n",
        "      entropy = 0\n",
        "      for value1 in target_values:\n",
        "        num = len(df[attribute][df[attribute] == value][df[Class] == value1])\n",
        "        den = len(df[attribute][df[attribute] == value])\n",
        "        prob = num/den\n",
        "        entropy += -prob * np.log2(prob + 0.000001)\n",
        "      avg_entropy += (den/len(df))*entropy\n",
        "    return np.float(avg_entropy)\n",
        "\n",
        "\n",
        "\n",
        "  # Find Winner\n",
        "  def find_winner(df):\n",
        "    IG = []\n",
        "    for key in df.keys()[:-1]:\n",
        "      IG.append(find_entropy(df) - find_entropy_attribute(df, key))\n",
        "    return df.keys()[:-1][np.argmax(IG)]"
      ],
      "metadata": {
        "id": "WX_VsBEkRqrK"
      },
      "execution_count": null,
      "outputs": []
    },
    {
      "cell_type": "code",
      "source": [
        "obj=Decision_Tree()"
      ],
      "metadata": {
        "id": "O3PxZNDKSiIg"
      },
      "execution_count": null,
      "outputs": []
    },
    {
      "cell_type": "code",
      "source": [
        "  def find_entropy(df):\n",
        "    Class = df.keys()[-1]\n",
        "    values = df[Class].unique()\n",
        "    entropy = 0\n",
        "    for value in values:\n",
        "      prob = df[Class].value_counts()[value]/len(df[Class])\n",
        "      entropy += -prob * np.log2(prob)\n",
        "    return np.float(entropy)"
      ],
      "metadata": {
        "id": "3-9DRrFWToZp"
      },
      "execution_count": null,
      "outputs": []
    },
    {
      "cell_type": "code",
      "source": [
        "find_entropy(df)"
      ],
      "metadata": {
        "id": "q_i7Dp6z46dE",
        "colab": {
          "base_uri": "https://localhost:8080/"
        },
        "outputId": "d3dc29ed-e9a6-499d-ed01-bebad7c1b217"
      },
      "execution_count": null,
      "outputs": [
        {
          "output_type": "stream",
          "name": "stderr",
          "text": [
            "/usr/local/lib/python3.7/dist-packages/ipykernel_launcher.py:8: DeprecationWarning: `np.float` is a deprecated alias for the builtin `float`. To silence this warning, use `float` by itself. Doing this will not modify any behavior and is safe. If you specifically wanted the numpy scalar type, use `np.float64` here.\n",
            "Deprecated in NumPy 1.20; for more details and guidance: https://numpy.org/devdocs/release/1.20.0-notes.html#deprecations\n",
            "  \n"
          ]
        },
        {
          "output_type": "execute_result",
          "data": {
            "text/plain": [
              "1.584962500721156"
            ]
          },
          "metadata": {},
          "execution_count": 199
        }
      ]
    },
    {
      "cell_type": "code",
      "source": [
        "  # Find entropy attribute\n",
        "  def find_entropy_attribute(df, attribute):\n",
        "    Class = df.keys()[-1]\n",
        "    target_values = df[Class].unique()\n",
        "    attribute_values = df[attribute].unique()\n",
        "    avg_entropy = 0\n",
        "    for value in attribute_values:\n",
        "      entropy = 0\n",
        "      for value1 in target_values:\n",
        "        num = len(df[attribute][df[attribute] == value][df[Class] == value1])\n",
        "        den = len(df[attribute][df[attribute] == value])\n",
        "        prob = num/den\n",
        "        entropy += -prob * np.log2(prob + 0.000001)\n",
        "      avg_entropy += (den/len(df))*entropy\n",
        "      return den,\"/\",len(df),\"*\",entropy"
      ],
      "metadata": {
        "id": "17QWsiXhTPwH"
      },
      "execution_count": null,
      "outputs": []
    },
    {
      "cell_type": "code",
      "source": [
        "# for key in df.keys()[:-1]:\n",
        "#   print(find_entropy_attribute(df, key))"
      ],
      "metadata": {
        "id": "HausdQ61Z7Rt"
      },
      "execution_count": null,
      "outputs": []
    },
    {
      "cell_type": "code",
      "source": [
        "# l=[]\n",
        "# for key in df.keys()[:-1]:\n",
        "#   print(find_entropy(df),\"-\",find_entropy_attribute(df, key))\n",
        "#   print(find_entropy(df)-find_entropy_attribute(df, key)) \n",
        "#   print(\"=======================\")\n",
        "#   l.append(find_entropy(df)-find_entropy_attribute(df, key))\n",
        "# print(l,\"=\",np.argmax(l))"
      ],
      "metadata": {
        "id": "x88BuwGDSp5K"
      },
      "execution_count": null,
      "outputs": []
    },
    {
      "cell_type": "code",
      "source": [
        "df.keys()[:-1][np.argmax(0)]"
      ],
      "metadata": {
        "id": "oLxi0VGOWILL",
        "colab": {
          "base_uri": "https://localhost:8080/",
          "height": 35
        },
        "outputId": "2ed8602b-0611-4531-d0de-553a4ea455ac"
      },
      "execution_count": null,
      "outputs": [
        {
          "output_type": "execute_result",
          "data": {
            "text/plain": [
              "'SepalLengthCm'"
            ],
            "application/vnd.google.colaboratory.intrinsic+json": {
              "type": "string"
            }
          },
          "metadata": {},
          "execution_count": 203
        }
      ]
    },
    {
      "cell_type": "markdown",
      "source": [
        "#get_subtable"
      ],
      "metadata": {
        "id": "OiPLlmi-7sxb"
      }
    },
    {
      "cell_type": "code",
      "source": [
        "class Decision_Tree:\n",
        "  def find_entropy(df):\n",
        "    Class = df.keys()[-1]\n",
        "    values = df[Class].unique()\n",
        "    entropy = 0\n",
        "    for value in values:\n",
        "      prob = df[Class].value_counts()[value]/len(df[Class])\n",
        "      entropy += -prob * np.log2(prob)\n",
        "    return np.float(entropy)\n",
        "\n",
        "\n",
        "  # Find entropy attribute\n",
        "  def find_entropy_attribute(df, attribute):\n",
        "    Class = df.keys()[-1]\n",
        "    target_values = df[Class].unique()\n",
        "    attribute_values = df[attribute].unique()\n",
        "    avg_entropy = 0\n",
        "    for value in attribute_values:\n",
        "      entropy = 0\n",
        "      for value1 in target_values:\n",
        "        num = len(df[attribute][df[attribute] == value][df[Class] == value1])\n",
        "        den = len(df[attribute][df[attribute] == value])\n",
        "        prob = num/den\n",
        "        entropy += -prob * np.log2(prob + 0.000001)\n",
        "      avg_entropy += (den/len(df))*entropy\n",
        "    return np.float(avg_entropy)\n",
        "\n",
        "\n",
        "\n",
        "  # Find Winner\n",
        "  def find_winner(df):\n",
        "    IG = []\n",
        "    for key in df.keys()[:-1]:\n",
        "      IG.append(find_entropy(df) - find_entropy_attribute(df, key))\n",
        "    return df.keys()[:-1][np.argmax(IG)]\n",
        "\n",
        "  def get_subtable(df, attribute, value):\n",
        "    return df[df[attribute] == value].reset_index(drop = True)"
      ],
      "metadata": {
        "id": "_l_-EZFy7xb4"
      },
      "execution_count": null,
      "outputs": []
    },
    {
      "cell_type": "code",
      "source": [
        "def find_entropy(df):\n",
        "  Class = df.keys()[-1]\n",
        "  values = df[Class].unique()\n",
        "  entropy = 0\n",
        "  for value in values:\n",
        "    prob = df[Class].value_counts()[value]/len(df[Class])\n",
        "    entropy += -prob * np.log2(prob)\n",
        "  return np.float(entropy)"
      ],
      "metadata": {
        "id": "uRwMNUPC8QWp"
      },
      "execution_count": null,
      "outputs": []
    },
    {
      "cell_type": "code",
      "source": [
        "# Find entropy attribute\n",
        "def find_entropy_attribute(df, attribute):\n",
        "  Class = df.keys()[-1]\n",
        "  target_values = df[Class].unique()\n",
        "  attribute_values = df[attribute].unique()\n",
        "  avg_entropy = 0\n",
        "  for value in attribute_values:\n",
        "    entropy = 0\n",
        "    for value1 in target_values:\n",
        "      num = len(df[attribute][df[attribute] == value][df[Class] == value1])\n",
        "      den = len(df[attribute][df[attribute] == value])\n",
        "      prob = num/den\n",
        "      entropy += -prob * np.log2(prob + 0.000001)\n",
        "    avg_entropy += (den/len(df))*entropy\n",
        "  return np.float(avg_entropy)"
      ],
      "metadata": {
        "id": "9-xo6-ym8fzJ"
      },
      "execution_count": null,
      "outputs": []
    },
    {
      "cell_type": "code",
      "source": [
        "# Find Winner\n",
        "def find_winner(df):\n",
        "  IG = []\n",
        "  for key in df.keys()[:-1]:\n",
        "    IG.append(find_entropy(df) - find_entropy_attribute(df, key))\n",
        "  return df.keys()[:-1][np.argmax(IG)]"
      ],
      "metadata": {
        "id": "_B8YW4P58h19"
      },
      "execution_count": null,
      "outputs": []
    },
    {
      "cell_type": "code",
      "source": [
        "def get_subtable(df, attribute, value):\n",
        "  return df[df[attribute] == value].reset_index(drop = True)"
      ],
      "metadata": {
        "id": "RH_iyNfm9Xrh"
      },
      "execution_count": null,
      "outputs": []
    },
    {
      "cell_type": "code",
      "source": [
        "node = find_winner(df)\n",
        "print(node)"
      ],
      "metadata": {
        "id": "KiNt9FXn8OZb",
        "colab": {
          "base_uri": "https://localhost:8080/"
        },
        "outputId": "8eca67a8-4a04-4a6c-fd99-0ecefca06b62"
      },
      "execution_count": null,
      "outputs": [
        {
          "output_type": "stream",
          "name": "stderr",
          "text": [
            "/usr/local/lib/python3.7/dist-packages/ipykernel_launcher.py:8: DeprecationWarning: `np.float` is a deprecated alias for the builtin `float`. To silence this warning, use `float` by itself. Doing this will not modify any behavior and is safe. If you specifically wanted the numpy scalar type, use `np.float64` here.\n",
            "Deprecated in NumPy 1.20; for more details and guidance: https://numpy.org/devdocs/release/1.20.0-notes.html#deprecations\n",
            "  \n",
            "/usr/local/lib/python3.7/dist-packages/ipykernel_launcher.py:15: DeprecationWarning: `np.float` is a deprecated alias for the builtin `float`. To silence this warning, use `float` by itself. Doing this will not modify any behavior and is safe. If you specifically wanted the numpy scalar type, use `np.float64` here.\n",
            "Deprecated in NumPy 1.20; for more details and guidance: https://numpy.org/devdocs/release/1.20.0-notes.html#deprecations\n",
            "  from ipykernel import kernelapp as app\n"
          ]
        },
        {
          "output_type": "stream",
          "name": "stdout",
          "text": [
            "PetalLengthCm\n"
          ]
        }
      ]
    },
    {
      "cell_type": "code",
      "source": [
        "attvalue = np.unique(df[node])\n",
        "print(attvalue)"
      ],
      "metadata": {
        "id": "r9WB9kFP8PjJ",
        "colab": {
          "base_uri": "https://localhost:8080/"
        },
        "outputId": "2480006a-a9b7-426c-97e3-04fcd2a4e2bb"
      },
      "execution_count": null,
      "outputs": [
        {
          "output_type": "stream",
          "name": "stdout",
          "text": [
            "[1.  1.1 1.2 1.3 1.4 1.5 1.6 1.7 1.9 3.  3.3 3.5 3.6 3.7 3.8 3.9 4.  4.1\n",
            " 4.2 4.3 4.4 4.5 4.6 4.7 4.8 4.9 5.  5.1 5.2 5.3 5.4 5.5 5.6 5.7 5.8 5.9\n",
            " 6.  6.1 6.3 6.4 6.6 6.7 6.9]\n"
          ]
        }
      ]
    },
    {
      "cell_type": "code",
      "source": [
        "df[node]"
      ],
      "metadata": {
        "id": "rGUJezZt9oha",
        "colab": {
          "base_uri": "https://localhost:8080/"
        },
        "outputId": "04a2a190-6165-4e89-a4a9-8d6db09e571a"
      },
      "execution_count": null,
      "outputs": [
        {
          "output_type": "execute_result",
          "data": {
            "text/plain": [
              "0      1.4\n",
              "1      1.4\n",
              "2      1.3\n",
              "3      1.5\n",
              "4      1.4\n",
              "      ... \n",
              "145    5.2\n",
              "146    5.0\n",
              "147    5.2\n",
              "148    5.4\n",
              "149    5.1\n",
              "Name: PetalLengthCm, Length: 150, dtype: float64"
            ]
          },
          "metadata": {},
          "execution_count": 211
        }
      ]
    },
    {
      "cell_type": "code",
      "source": [
        "Class = df.keys()[-1]\n",
        "Class"
      ],
      "metadata": {
        "id": "K9-vQMVajkYN",
        "colab": {
          "base_uri": "https://localhost:8080/",
          "height": 35
        },
        "outputId": "d4038bf1-a9e8-49e2-c61e-1af1c5637d9b"
      },
      "execution_count": null,
      "outputs": [
        {
          "output_type": "execute_result",
          "data": {
            "text/plain": [
              "'Species'"
            ],
            "application/vnd.google.colaboratory.intrinsic+json": {
              "type": "string"
            }
          },
          "metadata": {},
          "execution_count": 212
        }
      ]
    },
    {
      "cell_type": "code",
      "source": [
        "# tree = {}\n",
        "# tree[node] = {}\n",
        "# tree"
      ],
      "metadata": {
        "id": "TesbkC7hnYQt"
      },
      "execution_count": null,
      "outputs": []
    },
    {
      "cell_type": "code",
      "source": [
        "# for i in range(5):\n",
        "#   tree[node] = {i}\n",
        "#   print(tree)"
      ],
      "metadata": {
        "id": "8elzoT5OndFE"
      },
      "execution_count": null,
      "outputs": []
    },
    {
      "cell_type": "code",
      "source": [
        "# l=[9,0]\n",
        "# for val in attvalue:\n",
        "#   if val == 1:\n",
        "#     tree[node][val]=l[0]"
      ],
      "metadata": {
        "id": "fPQZSD9wpyZK"
      },
      "execution_count": null,
      "outputs": []
    },
    {
      "cell_type": "code",
      "source": [
        "  # for value in attvalue:\n",
        "  #   tree = {}\n",
        "  #   tree[node] = {}\n",
        "  #   # print(df[df[node] == value].reset_index(drop = True))\n",
        "  #   # subtable = get_subtable(df,node,value)\n",
        "\n",
        "  #   subtable=get_subtable(df, node, value)\n",
        "  #   values,index=np.unique(subtable[Class]return_counts = True)\n",
        "  #   print(tree[node][value]=values[0])"
      ],
      "metadata": {
        "id": "7WCIrEhf9H3w"
      },
      "execution_count": null,
      "outputs": []
    },
    {
      "cell_type": "markdown",
      "source": [
        "# desition_tree bild"
      ],
      "metadata": {
        "id": "nTPKRBbfBKmo"
      }
    },
    {
      "cell_type": "code",
      "source": [
        "from sklearn.tree import plot_tree\n",
        "from sklearn import tree"
      ],
      "metadata": {
        "id": "_u8zK8yZuPhn"
      },
      "execution_count": null,
      "outputs": []
    },
    {
      "cell_type": "code",
      "source": [
        "class Decision_Tree:\n",
        "  def __init__(self):\n",
        "    pass\n",
        "  def find_entropy(self,df):\n",
        "    Class = df.keys()[-1]\n",
        "    values = df[Class].unique()\n",
        "    entropy = 0\n",
        "    for value in values:\n",
        "      prob = df[Class].value_counts()[value]/len(df[Class])\n",
        "      entropy += -prob * np.log2(prob)\n",
        "    return np.float(entropy)\n",
        "\n",
        "\n",
        "  # Find entropy attribute\n",
        "  def find_entropy_attribute(self,df, attribute):\n",
        "    Class = df.keys()[-1]\n",
        "    target_values = df[Class].unique()\n",
        "    attribute_values = df[attribute].unique()\n",
        "    avg_entropy = 0\n",
        "    for value in attribute_values:\n",
        "      entropy = 0\n",
        "      for value1 in target_values:\n",
        "        num = len(df[attribute][df[attribute] == value][df[Class] == value1])\n",
        "        den = len(df[attribute][df[attribute] == value])\n",
        "        prob = num/den\n",
        "        entropy += -prob * np.log2(prob + 0.000001)\n",
        "      avg_entropy += (den/len(df))*entropy\n",
        "    return np.float(avg_entropy)\n",
        "\n",
        "\n",
        "\n",
        "  # Find Winner\n",
        "  def find_winner(self,df):\n",
        "    IG = []\n",
        "    for key in df.keys()[:-1]:\n",
        "      IG.append(self.find_entropy(df) - self.find_entropy_attribute(df, key))\n",
        "    return df.keys()[:-1][np.argmax(IG)]\n",
        "\n",
        "  def get_subtable(self,df, attribute, value):\n",
        "    return df[df[attribute] == value].reset_index(drop = True)\n",
        "\n",
        "\n",
        "\n",
        "  def buildtree(self,df, tree = None):\n",
        "    node = find_winner(df)\n",
        "    attvalue = np.unique(df[node])\n",
        "    Class = df.keys()[-1]\n",
        "    if tree is None:\n",
        "      tree = {}\n",
        "      tree[node] = {}\n",
        "    for value in attvalue:\n",
        "      subtable = self.get_subtable(df,node,value)\n",
        "      Clvalue, counts = np.unique(subtable[Class], return_counts = True)\n",
        "      if len(counts) == 1:\n",
        "        tree[node][value] = Clvalue[0]\n",
        "      else:\n",
        "        tree[node][value] = self.buildtree(subtable)\n",
        "    return tree"
      ],
      "metadata": {
        "id": "EptY8TcL82Gy"
      },
      "execution_count": null,
      "outputs": []
    },
    {
      "cell_type": "code",
      "source": [
        "obj=Decision_Tree()"
      ],
      "metadata": {
        "id": "cw7MlEnRLmM5"
      },
      "execution_count": null,
      "outputs": []
    },
    {
      "cell_type": "code",
      "source": [
        "# obj.find_winner(df)\n",
        "tree=obj.buildtree(df)"
      ],
      "metadata": {
        "id": "8i5iL04ALqq7",
        "colab": {
          "base_uri": "https://localhost:8080/"
        },
        "outputId": "9b3be437-fff9-468f-d06a-d3e8762d8cd3"
      },
      "execution_count": null,
      "outputs": [
        {
          "output_type": "stream",
          "name": "stderr",
          "text": [
            "/usr/local/lib/python3.7/dist-packages/ipykernel_launcher.py:8: DeprecationWarning: `np.float` is a deprecated alias for the builtin `float`. To silence this warning, use `float` by itself. Doing this will not modify any behavior and is safe. If you specifically wanted the numpy scalar type, use `np.float64` here.\n",
            "Deprecated in NumPy 1.20; for more details and guidance: https://numpy.org/devdocs/release/1.20.0-notes.html#deprecations\n",
            "  \n",
            "/usr/local/lib/python3.7/dist-packages/ipykernel_launcher.py:15: DeprecationWarning: `np.float` is a deprecated alias for the builtin `float`. To silence this warning, use `float` by itself. Doing this will not modify any behavior and is safe. If you specifically wanted the numpy scalar type, use `np.float64` here.\n",
            "Deprecated in NumPy 1.20; for more details and guidance: https://numpy.org/devdocs/release/1.20.0-notes.html#deprecations\n",
            "  from ipykernel import kernelapp as app\n"
          ]
        }
      ]
    },
    {
      "cell_type": "code",
      "source": [
        "# tree.export_text(obj)"
      ],
      "metadata": {
        "id": "jZk7SJBbwHH1"
      },
      "execution_count": null,
      "outputs": []
    },
    {
      "cell_type": "code",
      "source": [
        "import pprint\n",
        "pprint.pprint(tree)"
      ],
      "metadata": {
        "colab": {
          "base_uri": "https://localhost:8080/"
        },
        "id": "kC4DS4dvoGdL",
        "outputId": "6072c1d3-2969-4048-c34b-0859e9096c62"
      },
      "execution_count": null,
      "outputs": [
        {
          "output_type": "stream",
          "name": "stdout",
          "text": [
            "{'PetalLengthCm': {1.0: 'Iris-setosa',\n",
            "                   1.1: 'Iris-setosa',\n",
            "                   1.2: 'Iris-setosa',\n",
            "                   1.3: 'Iris-setosa',\n",
            "                   1.4: 'Iris-setosa',\n",
            "                   1.5: 'Iris-setosa',\n",
            "                   1.6: 'Iris-setosa',\n",
            "                   1.7: 'Iris-setosa',\n",
            "                   1.9: 'Iris-setosa',\n",
            "                   3.0: 'Iris-versicolor',\n",
            "                   3.3: 'Iris-versicolor',\n",
            "                   3.5: 'Iris-versicolor',\n",
            "                   3.6: 'Iris-versicolor',\n",
            "                   3.7: 'Iris-versicolor',\n",
            "                   3.8: 'Iris-versicolor',\n",
            "                   3.9: 'Iris-versicolor',\n",
            "                   4.0: 'Iris-versicolor',\n",
            "                   4.1: 'Iris-versicolor',\n",
            "                   4.2: 'Iris-versicolor',\n",
            "                   4.3: 'Iris-versicolor',\n",
            "                   4.4: 'Iris-versicolor',\n",
            "                   4.5: {'SepalLengthCm': {4.9: 'Iris-virginica',\n",
            "                                           5.4: 'Iris-versicolor',\n",
            "                                           5.6: 'Iris-versicolor',\n",
            "                                           5.7: 'Iris-versicolor',\n",
            "                                           6.0: 'Iris-versicolor',\n",
            "                                           6.2: 'Iris-versicolor',\n",
            "                                           6.4: 'Iris-versicolor'}},\n",
            "                   4.6: 'Iris-versicolor',\n",
            "                   4.7: 'Iris-versicolor',\n",
            "                   4.8: {'SepalLengthCm': {5.9: 'Iris-versicolor',\n",
            "                                           6.0: 'Iris-virginica',\n",
            "                                           6.2: 'Iris-virginica',\n",
            "                                           6.8: 'Iris-versicolor'}},\n",
            "                   4.9: {'SepalWidthCm': {2.5: 'Iris-versicolor',\n",
            "                                          2.7: 'Iris-virginica',\n",
            "                                          2.8: 'Iris-virginica',\n",
            "                                          3.0: 'Iris-virginica',\n",
            "                                          3.1: 'Iris-versicolor'}},\n",
            "                   5.0: {'SepalLengthCm': {5.7: 'Iris-virginica',\n",
            "                                           6.0: 'Iris-virginica',\n",
            "                                           6.3: 'Iris-virginica',\n",
            "                                           6.7: 'Iris-versicolor'}},\n",
            "                   5.1: {'SepalLengthCm': {5.8: 'Iris-virginica',\n",
            "                                           5.9: 'Iris-virginica',\n",
            "                                           6.0: 'Iris-versicolor',\n",
            "                                           6.3: 'Iris-virginica',\n",
            "                                           6.5: 'Iris-virginica',\n",
            "                                           6.9: 'Iris-virginica'}},\n",
            "                   5.2: 'Iris-virginica',\n",
            "                   5.3: 'Iris-virginica',\n",
            "                   5.4: 'Iris-virginica',\n",
            "                   5.5: 'Iris-virginica',\n",
            "                   5.6: 'Iris-virginica',\n",
            "                   5.7: 'Iris-virginica',\n",
            "                   5.8: 'Iris-virginica',\n",
            "                   5.9: 'Iris-virginica',\n",
            "                   6.0: 'Iris-virginica',\n",
            "                   6.1: 'Iris-virginica',\n",
            "                   6.3: 'Iris-virginica',\n",
            "                   6.4: 'Iris-virginica',\n",
            "                   6.6: 'Iris-virginica',\n",
            "                   6.7: 'Iris-virginica',\n",
            "                   6.9: 'Iris-virginica'}}\n"
          ]
        }
      ]
    },
    {
      "cell_type": "code",
      "source": [
        "node = find_winner(df)\n",
        "node"
      ],
      "metadata": {
        "id": "ExdgmYmLCV5a",
        "colab": {
          "base_uri": "https://localhost:8080/",
          "height": 160
        },
        "outputId": "881cc0bc-8a94-463f-b13e-549584d16966"
      },
      "execution_count": null,
      "outputs": [
        {
          "output_type": "stream",
          "name": "stderr",
          "text": [
            "/usr/local/lib/python3.7/dist-packages/ipykernel_launcher.py:8: DeprecationWarning: `np.float` is a deprecated alias for the builtin `float`. To silence this warning, use `float` by itself. Doing this will not modify any behavior and is safe. If you specifically wanted the numpy scalar type, use `np.float64` here.\n",
            "Deprecated in NumPy 1.20; for more details and guidance: https://numpy.org/devdocs/release/1.20.0-notes.html#deprecations\n",
            "  \n",
            "/usr/local/lib/python3.7/dist-packages/ipykernel_launcher.py:15: DeprecationWarning: `np.float` is a deprecated alias for the builtin `float`. To silence this warning, use `float` by itself. Doing this will not modify any behavior and is safe. If you specifically wanted the numpy scalar type, use `np.float64` here.\n",
            "Deprecated in NumPy 1.20; for more details and guidance: https://numpy.org/devdocs/release/1.20.0-notes.html#deprecations\n",
            "  from ipykernel import kernelapp as app\n"
          ]
        },
        {
          "output_type": "execute_result",
          "data": {
            "text/plain": [
              "'PetalLengthCm'"
            ],
            "application/vnd.google.colaboratory.intrinsic+json": {
              "type": "string"
            }
          },
          "metadata": {},
          "execution_count": 223
        }
      ]
    },
    {
      "cell_type": "code",
      "source": [
        "attvalue = np.unique(df[node])\n",
        "attvalue"
      ],
      "metadata": {
        "id": "s94ElHUKCaA6",
        "colab": {
          "base_uri": "https://localhost:8080/"
        },
        "outputId": "0543c8c3-0711-4b17-ef55-ca20007ff497"
      },
      "execution_count": null,
      "outputs": [
        {
          "output_type": "execute_result",
          "data": {
            "text/plain": [
              "array([1. , 1.1, 1.2, 1.3, 1.4, 1.5, 1.6, 1.7, 1.9, 3. , 3.3, 3.5, 3.6,\n",
              "       3.7, 3.8, 3.9, 4. , 4.1, 4.2, 4.3, 4.4, 4.5, 4.6, 4.7, 4.8, 4.9,\n",
              "       5. , 5.1, 5.2, 5.3, 5.4, 5.5, 5.6, 5.7, 5.8, 5.9, 6. , 6.1, 6.3,\n",
              "       6.4, 6.6, 6.7, 6.9])"
            ]
          },
          "metadata": {},
          "execution_count": 224
        }
      ]
    },
    {
      "cell_type": "code",
      "source": [
        "Class = df.keys()[-1]\n",
        "Class"
      ],
      "metadata": {
        "id": "LsP1eQxuCiwy",
        "colab": {
          "base_uri": "https://localhost:8080/",
          "height": 35
        },
        "outputId": "a46de8c8-2eed-449c-9acf-d09318b9b150"
      },
      "execution_count": null,
      "outputs": [
        {
          "output_type": "execute_result",
          "data": {
            "text/plain": [
              "'Species'"
            ],
            "application/vnd.google.colaboratory.intrinsic+json": {
              "type": "string"
            }
          },
          "metadata": {},
          "execution_count": 225
        }
      ]
    },
    {
      "cell_type": "code",
      "source": [
        "tree = None"
      ],
      "metadata": {
        "id": "IxRgyyYVCuQz"
      },
      "execution_count": null,
      "outputs": []
    },
    {
      "cell_type": "code",
      "source": [
        "if tree is None:\n",
        "  tree = {}\n",
        "  tree[node] = {}\n",
        "  print(tree[node])"
      ],
      "metadata": {
        "id": "s6kc_0hmCwTk",
        "colab": {
          "base_uri": "https://localhost:8080/"
        },
        "outputId": "354835bf-24e9-48cd-abcb-8827c8765d77"
      },
      "execution_count": null,
      "outputs": [
        {
          "output_type": "stream",
          "name": "stdout",
          "text": [
            "{}\n"
          ]
        }
      ]
    },
    {
      "cell_type": "code",
      "source": [
        "for value in attvalue:\n",
        "  subtable = get_subtable(df,node,value)\n",
        "  Clvalue, counts = np.unique(subtable[Class], return_counts = True)\n",
        "  print(len(counts))"
      ],
      "metadata": {
        "id": "Z-17FEnHDieu",
        "colab": {
          "base_uri": "https://localhost:8080/"
        },
        "outputId": "76a0b23d-9b10-4acd-96db-9936020fba68"
      },
      "execution_count": null,
      "outputs": [
        {
          "output_type": "stream",
          "name": "stdout",
          "text": [
            "1\n",
            "1\n",
            "1\n",
            "1\n",
            "1\n",
            "1\n",
            "1\n",
            "1\n",
            "1\n",
            "1\n",
            "1\n",
            "1\n",
            "1\n",
            "1\n",
            "1\n",
            "1\n",
            "1\n",
            "1\n",
            "1\n",
            "1\n",
            "1\n",
            "2\n",
            "1\n",
            "1\n",
            "2\n",
            "2\n",
            "2\n",
            "2\n",
            "1\n",
            "1\n",
            "1\n",
            "1\n",
            "1\n",
            "1\n",
            "1\n",
            "1\n",
            "1\n",
            "1\n",
            "1\n",
            "1\n",
            "1\n",
            "1\n",
            "1\n"
          ]
        }
      ]
    },
    {
      "cell_type": "code",
      "source": [
        "node = find_winner(df)\n",
        "attvalue = np.unique(df[node])\n",
        "Class = df.keys()[-1]\n",
        "if tree is None:\n",
        "  tree = {}\n",
        "  tree[node] = {}\n",
        "for value in attvalue:\n",
        "  # subtable = get_subtable(df,node,value)\n",
        "  # Clvalue, counts = np.unique(subtable[Class], return_counts = True)\n",
        "  # if len(counts) == 1:\n",
        "    # tree[node][value] = Clvalue[0]\n",
        "  print([node],[value])\n",
        "  # print(tree[node][value])\n",
        "  # else:\n",
        "  #   tree[node][value] = buildtree(subtable)"
      ],
      "metadata": {
        "id": "-7aKg8spCN-v",
        "colab": {
          "base_uri": "https://localhost:8080/"
        },
        "outputId": "f3a62a1b-18f1-48a0-de60-fb5023b04bd7"
      },
      "execution_count": null,
      "outputs": [
        {
          "output_type": "stream",
          "name": "stdout",
          "text": [
            "['PetalLengthCm'] [1.0]\n",
            "['PetalLengthCm'] [1.1]\n",
            "['PetalLengthCm'] [1.2]\n",
            "['PetalLengthCm'] [1.3]\n",
            "['PetalLengthCm'] [1.4]\n",
            "['PetalLengthCm'] [1.5]\n",
            "['PetalLengthCm'] [1.6]\n",
            "['PetalLengthCm'] [1.7]\n",
            "['PetalLengthCm'] [1.9]\n",
            "['PetalLengthCm'] [3.0]\n",
            "['PetalLengthCm'] [3.3]\n",
            "['PetalLengthCm'] [3.5]\n",
            "['PetalLengthCm'] [3.6]\n",
            "['PetalLengthCm'] [3.7]\n",
            "['PetalLengthCm'] [3.8]\n",
            "['PetalLengthCm'] [3.9]\n",
            "['PetalLengthCm'] [4.0]\n",
            "['PetalLengthCm'] [4.1]\n",
            "['PetalLengthCm'] [4.2]\n",
            "['PetalLengthCm'] [4.3]\n",
            "['PetalLengthCm'] [4.4]\n",
            "['PetalLengthCm'] [4.5]\n",
            "['PetalLengthCm'] [4.6]\n",
            "['PetalLengthCm'] [4.7]\n",
            "['PetalLengthCm'] [4.8]\n",
            "['PetalLengthCm'] [4.9]\n",
            "['PetalLengthCm'] [5.0]\n",
            "['PetalLengthCm'] [5.1]\n",
            "['PetalLengthCm'] [5.2]\n",
            "['PetalLengthCm'] [5.3]\n",
            "['PetalLengthCm'] [5.4]\n",
            "['PetalLengthCm'] [5.5]\n",
            "['PetalLengthCm'] [5.6]\n",
            "['PetalLengthCm'] [5.7]\n",
            "['PetalLengthCm'] [5.8]\n",
            "['PetalLengthCm'] [5.9]\n",
            "['PetalLengthCm'] [6.0]\n",
            "['PetalLengthCm'] [6.1]\n",
            "['PetalLengthCm'] [6.3]\n",
            "['PetalLengthCm'] [6.4]\n",
            "['PetalLengthCm'] [6.6]\n",
            "['PetalLengthCm'] [6.7]\n",
            "['PetalLengthCm'] [6.9]\n"
          ]
        },
        {
          "output_type": "stream",
          "name": "stderr",
          "text": [
            "/usr/local/lib/python3.7/dist-packages/ipykernel_launcher.py:8: DeprecationWarning: `np.float` is a deprecated alias for the builtin `float`. To silence this warning, use `float` by itself. Doing this will not modify any behavior and is safe. If you specifically wanted the numpy scalar type, use `np.float64` here.\n",
            "Deprecated in NumPy 1.20; for more details and guidance: https://numpy.org/devdocs/release/1.20.0-notes.html#deprecations\n",
            "  \n",
            "/usr/local/lib/python3.7/dist-packages/ipykernel_launcher.py:15: DeprecationWarning: `np.float` is a deprecated alias for the builtin `float`. To silence this warning, use `float` by itself. Doing this will not modify any behavior and is safe. If you specifically wanted the numpy scalar type, use `np.float64` here.\n",
            "Deprecated in NumPy 1.20; for more details and guidance: https://numpy.org/devdocs/release/1.20.0-notes.html#deprecations\n",
            "  from ipykernel import kernelapp as app\n"
          ]
        }
      ]
    },
    {
      "cell_type": "code",
      "source": [
        "# z=-(1/2)*(np.log2(1/2))-(1/2)*(np.log2(1/))\n",
        "# z"
      ],
      "metadata": {
        "id": "EHJ1rwKbI8yF"
      },
      "execution_count": null,
      "outputs": []
    },
    {
      "cell_type": "code",
      "source": [
        "# k=0.721-((3/5)*0.92)\n",
        "# k"
      ],
      "metadata": {
        "id": "jzopTfuOLn6a"
      },
      "execution_count": null,
      "outputs": []
    },
    {
      "cell_type": "code",
      "source": [
        "# l=[10.04,2,3,4,5,10.03]\n",
        "# j=pd.DataFrame(l)\n",
        "# j.max()"
      ],
      "metadata": {
        "id": "QGzOJoCHz0Zl"
      },
      "execution_count": null,
      "outputs": []
    }
  ]
}
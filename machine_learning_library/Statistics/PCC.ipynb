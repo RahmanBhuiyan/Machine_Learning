{
 "cells": [
  {
   "cell_type": "code",
   "execution_count": 15,
   "id": "8d243c3d-ca04-49dd-b351-9b8bb92726f9",
   "metadata": {},
   "outputs": [],
   "source": [
    "import pandas as pd\n",
    "import seaborn as sns"
   ]
  },
  {
   "cell_type": "code",
   "execution_count": 12,
   "id": "f65900e7-86f5-4a9b-923e-7a3ac1d02d12",
   "metadata": {},
   "outputs": [
    {
     "data": {
      "text/html": [
       "<div>\n",
       "<style scoped>\n",
       "    .dataframe tbody tr th:only-of-type {\n",
       "        vertical-align: middle;\n",
       "    }\n",
       "\n",
       "    .dataframe tbody tr th {\n",
       "        vertical-align: top;\n",
       "    }\n",
       "\n",
       "    .dataframe thead th {\n",
       "        text-align: right;\n",
       "    }\n",
       "</style>\n",
       "<table border=\"1\" class=\"dataframe\">\n",
       "  <thead>\n",
       "    <tr style=\"text-align: right;\">\n",
       "      <th></th>\n",
       "      <th>date</th>\n",
       "      <th>city</th>\n",
       "      <th>event</th>\n",
       "      <th>windspeed</th>\n",
       "      <th>temperature</th>\n",
       "    </tr>\n",
       "  </thead>\n",
       "  <tbody>\n",
       "    <tr>\n",
       "      <th>0</th>\n",
       "      <td>1/1/2017</td>\n",
       "      <td>us</td>\n",
       "      <td>Rain</td>\n",
       "      <td>6</td>\n",
       "      <td>32</td>\n",
       "    </tr>\n",
       "    <tr>\n",
       "      <th>1</th>\n",
       "      <td>1/4/2017</td>\n",
       "      <td>new york</td>\n",
       "      <td>Sunny</td>\n",
       "      <td>8</td>\n",
       "      <td>34</td>\n",
       "    </tr>\n",
       "    <tr>\n",
       "      <th>2</th>\n",
       "      <td>1/4/2017</td>\n",
       "      <td>canada</td>\n",
       "      <td>Sunny</td>\n",
       "      <td>6</td>\n",
       "      <td>20</td>\n",
       "    </tr>\n",
       "    <tr>\n",
       "      <th>3</th>\n",
       "      <td>1/4/2017</td>\n",
       "      <td>mumbi</td>\n",
       "      <td>Rain</td>\n",
       "      <td>9</td>\n",
       "      <td>12</td>\n",
       "    </tr>\n",
       "    <tr>\n",
       "      <th>4</th>\n",
       "      <td>1/4/2017</td>\n",
       "      <td>BD</td>\n",
       "      <td>Rain</td>\n",
       "      <td>10</td>\n",
       "      <td>34</td>\n",
       "    </tr>\n",
       "    <tr>\n",
       "      <th>5</th>\n",
       "      <td>1/4/2017</td>\n",
       "      <td>new york</td>\n",
       "      <td>Sunny</td>\n",
       "      <td>7</td>\n",
       "      <td>28</td>\n",
       "    </tr>\n",
       "    <tr>\n",
       "      <th>6</th>\n",
       "      <td>1/4/2017</td>\n",
       "      <td>canada</td>\n",
       "      <td>Sunny</td>\n",
       "      <td>4</td>\n",
       "      <td>36</td>\n",
       "    </tr>\n",
       "    <tr>\n",
       "      <th>7</th>\n",
       "      <td>1/4/2017</td>\n",
       "      <td>us</td>\n",
       "      <td>Rain</td>\n",
       "      <td>11</td>\n",
       "      <td>32</td>\n",
       "    </tr>\n",
       "    <tr>\n",
       "      <th>8</th>\n",
       "      <td>1/4/2017</td>\n",
       "      <td>BD</td>\n",
       "      <td>Rain</td>\n",
       "      <td>7</td>\n",
       "      <td>45</td>\n",
       "    </tr>\n",
       "  </tbody>\n",
       "</table>\n",
       "</div>"
      ],
      "text/plain": [
       "       date      city  event  windspeed  temperature\n",
       "0  1/1/2017        us   Rain          6           32\n",
       "1  1/4/2017  new york  Sunny          8           34\n",
       "2  1/4/2017    canada  Sunny          6           20\n",
       "3  1/4/2017     mumbi   Rain          9           12\n",
       "4  1/4/2017        BD   Rain         10           34\n",
       "5  1/4/2017  new york  Sunny          7           28\n",
       "6  1/4/2017    canada  Sunny          4           36\n",
       "7  1/4/2017        us   Rain         11           32\n",
       "8  1/4/2017        BD   Rain          7           45"
      ]
     },
     "execution_count": 12,
     "metadata": {},
     "output_type": "execute_result"
    }
   ],
   "source": [
    "data=pd.read_csv(\"outlier_weight_height.csv\")\n",
    "df=pd.read_csv(\"pivot_data.csv\")\n",
    "df"
   ]
  },
  {
   "cell_type": "code",
   "execution_count": 3,
   "id": "e351f792-571d-4c5d-92a4-a00e70dde4c7",
   "metadata": {},
   "outputs": [],
   "source": [
    "total_data=data.shape[0]"
   ]
  },
  {
   "cell_type": "code",
   "execution_count": 4,
   "id": "8764a8de-c47c-4a37-9c44-de99b6b35931",
   "metadata": {},
   "outputs": [
    {
     "data": {
      "text/plain": [
       "14.709674329182235"
      ]
     },
     "execution_count": 4,
     "metadata": {},
     "output_type": "execute_result"
    }
   ],
   "source": [
    "#covariance formula x\n",
    "def a_formula():\n",
    "    square_a=data[\"Height\"]**2\n",
    "    total=0\n",
    "    for i in square_a:\n",
    "        total=total+i\n",
    "    return total\n",
    "\n",
    "def variance_a():\n",
    "    return ((a_formula()/total_data)-(data[\"Height\"].mean())**2)\n",
    "variance_a()"
   ]
  },
  {
   "cell_type": "code",
   "execution_count": 5,
   "id": "53233785-7a4e-4431-8ded-15b16d03fa2c",
   "metadata": {},
   "outputs": [
    {
     "data": {
      "text/plain": [
       "1025.75327694511"
      ]
     },
     "execution_count": 5,
     "metadata": {},
     "output_type": "execute_result"
    }
   ],
   "source": [
    "#covariance formula y\n",
    "def b_formula():\n",
    "    square_a=data[\"Weight\"]**2\n",
    "    total=0\n",
    "    for i in square_a:\n",
    "        total=total+i\n",
    "    return total\n",
    "\n",
    "def variance_b():\n",
    "    return ((b_formula()/total_data)-(data[\"Weight\"].mean())**2)\n",
    "variance_b()"
   ]
  },
  {
   "cell_type": "code",
   "execution_count": 6,
   "id": "00e0fb97-e982-4b62-8ffc-61696fc8bc49",
   "metadata": {},
   "outputs": [
    {
     "data": {
      "text/plain": [
       "122.82294974423436"
      ]
     },
     "execution_count": 6,
     "metadata": {},
     "output_type": "execute_result"
    }
   ],
   "source": [
    "def pcc():\n",
    "    return (variance_a()*variance_b())/(data[\"Height\"].std()*data[\"Weight\"].std())\n",
    "pcc()"
   ]
  },
  {
   "cell_type": "code",
   "execution_count": 7,
   "id": "68a8d84b-246d-4d37-95b1-2159a013b1ac",
   "metadata": {},
   "outputs": [
    {
     "data": {
      "text/html": [
       "<div>\n",
       "<style scoped>\n",
       "    .dataframe tbody tr th:only-of-type {\n",
       "        vertical-align: middle;\n",
       "    }\n",
       "\n",
       "    .dataframe tbody tr th {\n",
       "        vertical-align: top;\n",
       "    }\n",
       "\n",
       "    .dataframe thead th {\n",
       "        text-align: right;\n",
       "    }\n",
       "</style>\n",
       "<table border=\"1\" class=\"dataframe\">\n",
       "  <thead>\n",
       "    <tr style=\"text-align: right;\">\n",
       "      <th></th>\n",
       "      <th>Height</th>\n",
       "      <th>Weight</th>\n",
       "    </tr>\n",
       "  </thead>\n",
       "  <tbody>\n",
       "    <tr>\n",
       "      <th>Height</th>\n",
       "      <td>1.000000</td>\n",
       "      <td>0.924365</td>\n",
       "    </tr>\n",
       "    <tr>\n",
       "      <th>Weight</th>\n",
       "      <td>0.924365</td>\n",
       "      <td>1.000000</td>\n",
       "    </tr>\n",
       "  </tbody>\n",
       "</table>\n",
       "</div>"
      ],
      "text/plain": [
       "          Height    Weight\n",
       "Height  1.000000  0.924365\n",
       "Weight  0.924365  1.000000"
      ]
     },
     "execution_count": 7,
     "metadata": {},
     "output_type": "execute_result"
    }
   ],
   "source": [
    "data[[\"Height\",\"Weight\"]].corr(method='pearson')"
   ]
  },
  {
   "cell_type": "code",
   "execution_count": 8,
   "id": "336ea94e-ee65-42c2-8613-2d0033c951bf",
   "metadata": {},
   "outputs": [
    {
     "data": {
      "text/plain": [
       "3.83551124027943"
      ]
     },
     "execution_count": 8,
     "metadata": {},
     "output_type": "execute_result"
    }
   ],
   "source": [
    "data[\"Height\"].std()"
   ]
  },
  {
   "cell_type": "code",
   "execution_count": 9,
   "id": "4b6726a9-d9f6-410d-8f3e-7ebc95e77bdd",
   "metadata": {},
   "outputs": [
    {
     "data": {
      "text/html": [
       "<div>\n",
       "<style scoped>\n",
       "    .dataframe tbody tr th:only-of-type {\n",
       "        vertical-align: middle;\n",
       "    }\n",
       "\n",
       "    .dataframe tbody tr th {\n",
       "        vertical-align: top;\n",
       "    }\n",
       "\n",
       "    .dataframe thead th {\n",
       "        text-align: right;\n",
       "    }\n",
       "</style>\n",
       "<table border=\"1\" class=\"dataframe\">\n",
       "  <thead>\n",
       "    <tr style=\"text-align: right;\">\n",
       "      <th></th>\n",
       "      <th>Height</th>\n",
       "      <th>Weight</th>\n",
       "    </tr>\n",
       "  </thead>\n",
       "  <tbody>\n",
       "    <tr>\n",
       "      <th>Height</th>\n",
       "      <td>0.119751</td>\n",
       "      <td>0.924365</td>\n",
       "    </tr>\n",
       "    <tr>\n",
       "      <th>Weight</th>\n",
       "      <td>0.924365</td>\n",
       "      <td>8.350643</td>\n",
       "    </tr>\n",
       "  </tbody>\n",
       "</table>\n",
       "</div>"
      ],
      "text/plain": [
       "          Height    Weight\n",
       "Height  0.119751  0.924365\n",
       "Weight  0.924365  8.350643"
      ]
     },
     "execution_count": 9,
     "metadata": {},
     "output_type": "execute_result"
    }
   ],
   "source": [
    "df=(data[[\"Height\",\"Weight\"]].cov())/(data[\"Height\"].std()*data[\"Weight\"].std())\n",
    "df"
   ]
  },
  {
   "cell_type": "code",
   "execution_count": 20,
   "id": "7b162b5b-eae7-4175-931b-5537de81ef9d",
   "metadata": {},
   "outputs": [
    {
     "data": {
      "text/plain": [
       "-10942.050964483507"
      ]
     },
     "execution_count": 20,
     "metadata": {},
     "output_type": "execute_result"
    }
   ],
   "source": [
    "class pcc:\n",
    "    def __init__(self,x,y,data):\n",
    "        self.data_x=x\n",
    "        self.data_y=y\n",
    "        self.data=data\n",
    "    def total(self):\n",
    "        return data.shape[0]\n",
    "    def total_x(self):\n",
    "        total=0\n",
    "        for i in self.data_x:\n",
    "            total=total+i\n",
    "        return total\n",
    "    def total_y(self):\n",
    "        total=0\n",
    "        for i in self.data_y:\n",
    "            total=total+i\n",
    "        return total\n",
    "    def square_x(self):\n",
    "        square=self.data_x*self.data_x\n",
    "        total=0\n",
    "        for i in square:\n",
    "            total=total+i\n",
    "        return total\n",
    "    def square_y(self):\n",
    "        square=self.data_y*self.data_y\n",
    "        total=0\n",
    "        for i in square:\n",
    "            total=total+i\n",
    "        return total\n",
    "    def multiply_xy(self):\n",
    "        xy=self.data_x*self.data_y\n",
    "        total=0\n",
    "        for i in xy:\n",
    "            total=total+i\n",
    "        return total\n",
    "    def Correlation(self):\n",
    "        formula_x=(self.total()*self.multiply_xy())-(self.square_x()*self.square_y())\n",
    "#         last=sqrt(((self.total()*self.square_x())-self.square_y())-((self.total()*self.square_y())-self.square_y()))\n",
    "        formula_y=(self.total()*self.square_x())-self.square_y()\n",
    "        formula_z=(self.total()*self.square_y())-self.square_y()\n",
    "        return (formula_x/(formula_y*formula_z)**0.5)\n",
    "obj=pcc(data[\"Height\"],data[\"Weight\"],data)\n",
    "# print(obj.square_x())\n",
    "# print(obj.square_y())\n",
    "obj.Correlation()"
   ]
  },
  {
   "cell_type": "code",
   "execution_count": null,
   "id": "f25d88bb-bf5e-4195-9c6a-661356bf86b8",
   "metadata": {},
   "outputs": [],
   "source": [
    "8**0.5"
   ]
  },
  {
   "cell_type": "code",
   "execution_count": 19,
   "id": "db9e898d-ef99-4c1e-9255-03f58033892d",
   "metadata": {},
   "outputs": [
    {
     "data": {
      "text/plain": [
       "<AxesSubplot:xlabel='Height', ylabel='Weight'>"
      ]
     },
     "execution_count": 19,
     "metadata": {},
     "output_type": "execute_result"
    },
    {
     "data": {
      "image/png": "[encoded data removed]",
      "text/plain": [
       "<Figure size 432x288 with 1 Axes>"
      ]
     },
     "metadata": {
      "needs_background": "light"
     },
     "output_type": "display_data"
    }
   ],
   "source": [
    "sns.lineplot(data=data, x=\"Height\", y=\"Weight\")"
   ]
  },
  {
   "cell_type": "code",
   "execution_count": null,
   "id": "3d84d784-856e-44b2-baf1-d5fdc176bd1e",
   "metadata": {},
   "outputs": [],
   "source": []
  }
 ],
 "metadata": {
  "kernelspec": {
   "display_name": "Python 3",
   "language": "python",
   "name": "python3"
  },
  "language_info": {
   "codemirror_mode": {
    "name": "ipython",
    "version": 3
   },
   "file_extension": ".py",
   "mimetype": "text/x-python",
   "name": "python",
   "nbconvert_exporter": "python",
   "pygments_lexer": "ipython3",
   "version": "3.8.8"
  }
 },
 "nbformat": 4,
 "nbformat_minor": 5
}

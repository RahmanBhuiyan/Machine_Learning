{
 "cells": [
  {
   "cell_type": "code",
   "execution_count": 1,
   "id": "3263f2e3-c46a-4776-99c6-d3224d465cfd",
   "metadata": {},
   "outputs": [],
   "source": [
    "import pandas as pd"
   ]
  },
  {
   "cell_type": "code",
   "execution_count": 40,
   "id": "f304276b-2b42-44b9-9b6d-2c815bafbea5",
   "metadata": {},
   "outputs": [],
   "source": [
    "data=pd.read_csv(\"outlier_weight_height.csv\")\n",
    "df=pd.read_csv(\"pivot_data.csv\")"
   ]
  },
  {
   "cell_type": "code",
   "execution_count": 41,
   "id": "f35823a1-bf5f-4201-8387-93357e5883d4",
   "metadata": {},
   "outputs": [
    {
     "data": {
      "text/html": [
       "<div>\n",
       "<style scoped>\n",
       "    .dataframe tbody tr th:only-of-type {\n",
       "        vertical-align: middle;\n",
       "    }\n",
       "\n",
       "    .dataframe tbody tr th {\n",
       "        vertical-align: top;\n",
       "    }\n",
       "\n",
       "    .dataframe thead th {\n",
       "        text-align: right;\n",
       "    }\n",
       "</style>\n",
       "<table border=\"1\" class=\"dataframe\">\n",
       "  <thead>\n",
       "    <tr style=\"text-align: right;\">\n",
       "      <th></th>\n",
       "      <th>date</th>\n",
       "      <th>city</th>\n",
       "      <th>event</th>\n",
       "      <th>windspeed</th>\n",
       "      <th>temperature</th>\n",
       "    </tr>\n",
       "  </thead>\n",
       "  <tbody>\n",
       "    <tr>\n",
       "      <th>0</th>\n",
       "      <td>1/1/2017</td>\n",
       "      <td>us</td>\n",
       "      <td>Rain</td>\n",
       "      <td>6</td>\n",
       "      <td>32</td>\n",
       "    </tr>\n",
       "    <tr>\n",
       "      <th>1</th>\n",
       "      <td>1/4/2017</td>\n",
       "      <td>new york</td>\n",
       "      <td>Sunny</td>\n",
       "      <td>8</td>\n",
       "      <td>34</td>\n",
       "    </tr>\n",
       "    <tr>\n",
       "      <th>2</th>\n",
       "      <td>1/4/2017</td>\n",
       "      <td>canada</td>\n",
       "      <td>Sunny</td>\n",
       "      <td>6</td>\n",
       "      <td>20</td>\n",
       "    </tr>\n",
       "    <tr>\n",
       "      <th>3</th>\n",
       "      <td>1/4/2017</td>\n",
       "      <td>mumbi</td>\n",
       "      <td>Rain</td>\n",
       "      <td>9</td>\n",
       "      <td>12</td>\n",
       "    </tr>\n",
       "    <tr>\n",
       "      <th>4</th>\n",
       "      <td>1/4/2017</td>\n",
       "      <td>BD</td>\n",
       "      <td>Rain</td>\n",
       "      <td>10</td>\n",
       "      <td>34</td>\n",
       "    </tr>\n",
       "    <tr>\n",
       "      <th>5</th>\n",
       "      <td>1/4/2017</td>\n",
       "      <td>new york</td>\n",
       "      <td>Sunny</td>\n",
       "      <td>7</td>\n",
       "      <td>28</td>\n",
       "    </tr>\n",
       "    <tr>\n",
       "      <th>6</th>\n",
       "      <td>1/4/2017</td>\n",
       "      <td>canada</td>\n",
       "      <td>Sunny</td>\n",
       "      <td>4</td>\n",
       "      <td>36</td>\n",
       "    </tr>\n",
       "    <tr>\n",
       "      <th>7</th>\n",
       "      <td>1/4/2017</td>\n",
       "      <td>us</td>\n",
       "      <td>Rain</td>\n",
       "      <td>11</td>\n",
       "      <td>32</td>\n",
       "    </tr>\n",
       "    <tr>\n",
       "      <th>8</th>\n",
       "      <td>1/4/2017</td>\n",
       "      <td>BD</td>\n",
       "      <td>Rain</td>\n",
       "      <td>7</td>\n",
       "      <td>45</td>\n",
       "    </tr>\n",
       "  </tbody>\n",
       "</table>\n",
       "</div>"
      ],
      "text/plain": [
       "       date      city  event  windspeed  temperature\n",
       "0  1/1/2017        us   Rain          6           32\n",
       "1  1/4/2017  new york  Sunny          8           34\n",
       "2  1/4/2017    canada  Sunny          6           20\n",
       "3  1/4/2017     mumbi   Rain          9           12\n",
       "4  1/4/2017        BD   Rain         10           34\n",
       "5  1/4/2017  new york  Sunny          7           28\n",
       "6  1/4/2017    canada  Sunny          4           36\n",
       "7  1/4/2017        us   Rain         11           32\n",
       "8  1/4/2017        BD   Rain          7           45"
      ]
     },
     "execution_count": 41,
     "metadata": {},
     "output_type": "execute_result"
    }
   ],
   "source": [
    "df"
   ]
  },
  {
   "cell_type": "code",
   "execution_count": 42,
   "id": "dbae7794-d2af-425d-a39d-6a00175ddcaa",
   "metadata": {},
   "outputs": [
    {
     "data": {
      "text/plain": [
       "2514.1618864570664"
      ]
     },
     "execution_count": 42,
     "metadata": {},
     "output_type": "execute_result"
    }
   ],
   "source": [
    "class PCC:\n",
    "    def  __init__(self,x,y,data):\n",
    "        self.data_x=x\n",
    "        self.data_y=y\n",
    "        self.data=data\n",
    "    def total(self):\n",
    "        return data.shape[0]\n",
    "        \n",
    "    def a_formula(self):\n",
    "        square_a=self.data_x**2\n",
    "        total=0\n",
    "        for i in square_a:\n",
    "            total=total+i\n",
    "        return total\n",
    "\n",
    "    def variance_a(self):\n",
    "        return ((self.a_formula()/self.total())-(self.data_x.mean())**2)\n",
    "    \n",
    "        #covariance formula y\n",
    "    def b_formula(self):\n",
    "        square_a=self.data_y**2\n",
    "        total=0\n",
    "        for i in square_a:\n",
    "            total=total+i\n",
    "        return total\n",
    "\n",
    "    def variance_b(self):\n",
    "        return ((self.b_formula()/self.total())-(self.data_y.mean())**2)\n",
    "    def pcc(self):\n",
    "        return (self.variance_a()*self.variance_b())/(self.data_x.std()*self.data_y.std())\n",
    "    def Correlation(self):\n",
    "        self.total()*\n",
    "obj=PCC(df[\"windspeed\"],df[\"temperature\"],df)    \n",
    "obj.variance_a()\n",
    "obj.variance_b()\n",
    "obj.pcc()"
   ]
  },
  {
   "cell_type": "code",
   "execution_count": null,
   "id": "696a0186-fa17-47bb-88ab-80d14b55c3c7",
   "metadata": {},
   "outputs": [],
   "source": []
  },
  {
   "cell_type": "code",
   "execution_count": null,
   "id": "0a6878f4-b846-4f76-a561-30b9bf66eea7",
   "metadata": {},
   "outputs": [],
   "source": []
  }
 ],
 "metadata": {
  "kernelspec": {
   "display_name": "Python 3",
   "language": "python",
   "name": "python3"
  },
  "language_info": {
   "codemirror_mode": {
    "name": "ipython",
    "version": 3
   },
   "file_extension": ".py",
   "mimetype": "text/x-python",
   "name": "python",
   "nbconvert_exporter": "python",
   "pygments_lexer": "ipython3",
   "version": "3.8.8"
  }
 },
 "nbformat": 4,
 "nbformat_minor": 5
}

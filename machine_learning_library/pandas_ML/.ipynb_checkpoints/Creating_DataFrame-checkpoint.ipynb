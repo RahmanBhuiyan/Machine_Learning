{
 "cells": [
  {
   "cell_type": "code",
   "execution_count": 1,
   "metadata": {},
   "outputs": [],
   "source": [
    "import pandas as pd "
   ]
  },
  {
   "cell_type": "code",
   "execution_count": 2,
   "metadata": {},
   "outputs": [],
   "source": [
    "df=pd.read_csv(\"dataexport_20210427T161721.csv\")"
   ]
  },
  {
   "cell_type": "code",
   "execution_count": 3,
   "metadata": {},
   "outputs": [
    {
     "data": {
      "text/plain": [
       "(201, 5)"
      ]
     },
     "execution_count": 3,
     "metadata": {},
     "output_type": "execute_result"
    }
   ],
   "source": [
    "df.shape"
   ]
  },
  {
   "cell_type": "code",
   "execution_count": 4,
   "metadata": {},
   "outputs": [],
   "source": [
    "row,colmn=df.shape"
   ]
  },
  {
   "cell_type": "code",
   "execution_count": 5,
   "metadata": {},
   "outputs": [
    {
     "data": {
      "text/plain": [
       "201"
      ]
     },
     "execution_count": 5,
     "metadata": {},
     "output_type": "execute_result"
    }
   ],
   "source": [
    "row"
   ]
  },
  {
   "cell_type": "code",
   "execution_count": 6,
   "metadata": {},
   "outputs": [
    {
     "data": {
      "text/plain": [
       "5"
      ]
     },
     "execution_count": 6,
     "metadata": {},
     "output_type": "execute_result"
    }
   ],
   "source": [
    "colmn"
   ]
  },
  {
   "cell_type": "code",
   "execution_count": 7,
   "metadata": {},
   "outputs": [
    {
     "data": {
      "text/html": [
       "<div>\n",
       "<style scoped>\n",
       "    .dataframe tbody tr th:only-of-type {\n",
       "        vertical-align: middle;\n",
       "    }\n",
       "\n",
       "    .dataframe tbody tr th {\n",
       "        vertical-align: top;\n",
       "    }\n",
       "\n",
       "    .dataframe thead th {\n",
       "        text-align: right;\n",
       "    }\n",
       "</style>\n",
       "<table border=\"1\" class=\"dataframe\">\n",
       "  <thead>\n",
       "    <tr style=\"text-align: right;\">\n",
       "      <th></th>\n",
       "      <th>location</th>\n",
       "      <th>Basel</th>\n",
       "      <th>Basel.1</th>\n",
       "      <th>Basel.2</th>\n",
       "      <th>Basel.3</th>\n",
       "    </tr>\n",
       "  </thead>\n",
       "  <tbody>\n",
       "    <tr>\n",
       "      <th>0</th>\n",
       "      <td>lat</td>\n",
       "      <td>47.54694</td>\n",
       "      <td>47.54694</td>\n",
       "      <td>47.54694</td>\n",
       "      <td>47.54694</td>\n",
       "    </tr>\n",
       "    <tr>\n",
       "      <th>1</th>\n",
       "      <td>lon</td>\n",
       "      <td>7.56892</td>\n",
       "      <td>7.56892</td>\n",
       "      <td>7.56892</td>\n",
       "      <td>7.56892</td>\n",
       "    </tr>\n",
       "    <tr>\n",
       "      <th>2</th>\n",
       "      <td>asl</td>\n",
       "      <td>283.697</td>\n",
       "      <td>283.697</td>\n",
       "      <td>283.697</td>\n",
       "      <td>283.697</td>\n",
       "    </tr>\n",
       "  </tbody>\n",
       "</table>\n",
       "</div>"
      ],
      "text/plain": [
       "  location     Basel   Basel.1   Basel.2   Basel.3\n",
       "0      lat  47.54694  47.54694  47.54694  47.54694\n",
       "1      lon   7.56892   7.56892   7.56892   7.56892\n",
       "2      asl   283.697   283.697   283.697   283.697"
      ]
     },
     "execution_count": 7,
     "metadata": {},
     "output_type": "execute_result"
    }
   ],
   "source": [
    "df.head(3)"
   ]
  },
  {
   "cell_type": "code",
   "execution_count": 8,
   "metadata": {},
   "outputs": [
    {
     "data": {
      "text/html": [
       "<div>\n",
       "<style scoped>\n",
       "    .dataframe tbody tr th:only-of-type {\n",
       "        vertical-align: middle;\n",
       "    }\n",
       "\n",
       "    .dataframe tbody tr th {\n",
       "        vertical-align: top;\n",
       "    }\n",
       "\n",
       "    .dataframe thead th {\n",
       "        text-align: right;\n",
       "    }\n",
       "</style>\n",
       "<table border=\"1\" class=\"dataframe\">\n",
       "  <thead>\n",
       "    <tr style=\"text-align: right;\">\n",
       "      <th></th>\n",
       "      <th>location</th>\n",
       "      <th>Basel</th>\n",
       "      <th>Basel.1</th>\n",
       "      <th>Basel.2</th>\n",
       "      <th>Basel.3</th>\n",
       "    </tr>\n",
       "  </thead>\n",
       "  <tbody>\n",
       "    <tr>\n",
       "      <th>197</th>\n",
       "      <td>20210427T2000</td>\n",
       "      <td>17.250528</td>\n",
       "      <td>40.0</td>\n",
       "      <td>9.028754</td>\n",
       "      <td>336.50146</td>\n",
       "    </tr>\n",
       "    <tr>\n",
       "      <th>198</th>\n",
       "      <td>20210427T2100</td>\n",
       "      <td>15.8005295</td>\n",
       "      <td>45.0</td>\n",
       "      <td>7.7879906</td>\n",
       "      <td>326.30994</td>\n",
       "    </tr>\n",
       "    <tr>\n",
       "      <th>199</th>\n",
       "      <td>20210427T2200</td>\n",
       "      <td>14.520529</td>\n",
       "      <td>47.0</td>\n",
       "      <td>5.495161</td>\n",
       "      <td>328.39252</td>\n",
       "    </tr>\n",
       "    <tr>\n",
       "      <th>200</th>\n",
       "      <td>20210427T2300</td>\n",
       "      <td>13.200529</td>\n",
       "      <td>51.0</td>\n",
       "      <td>1.9386592</td>\n",
       "      <td>338.1986</td>\n",
       "    </tr>\n",
       "  </tbody>\n",
       "</table>\n",
       "</div>"
      ],
      "text/plain": [
       "          location       Basel Basel.1    Basel.2    Basel.3\n",
       "197  20210427T2000   17.250528    40.0   9.028754  336.50146\n",
       "198  20210427T2100  15.8005295    45.0  7.7879906  326.30994\n",
       "199  20210427T2200   14.520529    47.0   5.495161  328.39252\n",
       "200  20210427T2300   13.200529    51.0  1.9386592   338.1986"
      ]
     },
     "execution_count": 8,
     "metadata": {},
     "output_type": "execute_result"
    }
   ],
   "source": [
    "df.tail(4)"
   ]
  },
  {
   "cell_type": "code",
   "execution_count": 9,
   "metadata": {},
   "outputs": [
    {
     "data": {
      "text/html": [
       "<div>\n",
       "<style scoped>\n",
       "    .dataframe tbody tr th:only-of-type {\n",
       "        vertical-align: middle;\n",
       "    }\n",
       "\n",
       "    .dataframe tbody tr th {\n",
       "        vertical-align: top;\n",
       "    }\n",
       "\n",
       "    .dataframe thead th {\n",
       "        text-align: right;\n",
       "    }\n",
       "</style>\n",
       "<table border=\"1\" class=\"dataframe\">\n",
       "  <thead>\n",
       "    <tr style=\"text-align: right;\">\n",
       "      <th></th>\n",
       "      <th>location</th>\n",
       "      <th>Basel</th>\n",
       "      <th>Basel.1</th>\n",
       "      <th>Basel.2</th>\n",
       "      <th>Basel.3</th>\n",
       "    </tr>\n",
       "  </thead>\n",
       "  <tbody>\n",
       "    <tr>\n",
       "      <th>0</th>\n",
       "      <td>lat</td>\n",
       "      <td>47.54694</td>\n",
       "      <td>47.54694</td>\n",
       "      <td>47.54694</td>\n",
       "      <td>47.54694</td>\n",
       "    </tr>\n",
       "    <tr>\n",
       "      <th>1</th>\n",
       "      <td>lon</td>\n",
       "      <td>7.56892</td>\n",
       "      <td>7.56892</td>\n",
       "      <td>7.56892</td>\n",
       "      <td>7.56892</td>\n",
       "    </tr>\n",
       "    <tr>\n",
       "      <th>2</th>\n",
       "      <td>asl</td>\n",
       "      <td>283.697</td>\n",
       "      <td>283.697</td>\n",
       "      <td>283.697</td>\n",
       "      <td>283.697</td>\n",
       "    </tr>\n",
       "    <tr>\n",
       "      <th>3</th>\n",
       "      <td>variable</td>\n",
       "      <td>Temperature</td>\n",
       "      <td>Relative Humidity</td>\n",
       "      <td>Wind Speed</td>\n",
       "      <td>Wind Direction</td>\n",
       "    </tr>\n",
       "  </tbody>\n",
       "</table>\n",
       "</div>"
      ],
      "text/plain": [
       "   location        Basel            Basel.1     Basel.2         Basel.3\n",
       "0       lat     47.54694           47.54694    47.54694        47.54694\n",
       "1       lon      7.56892            7.56892     7.56892         7.56892\n",
       "2       asl      283.697            283.697     283.697         283.697\n",
       "3  variable  Temperature  Relative Humidity  Wind Speed  Wind Direction"
      ]
     },
     "execution_count": 9,
     "metadata": {},
     "output_type": "execute_result"
    }
   ],
   "source": [
    "df[0:4]"
   ]
  },
  {
   "cell_type": "code",
   "execution_count": 10,
   "metadata": {},
   "outputs": [
    {
     "data": {
      "text/plain": [
       "Index(['location', 'Basel', 'Basel.1', 'Basel.2', 'Basel.3'], dtype='object')"
      ]
     },
     "execution_count": 10,
     "metadata": {},
     "output_type": "execute_result"
    }
   ],
   "source": [
    "df.columns"
   ]
  },
  {
   "cell_type": "code",
   "execution_count": 11,
   "metadata": {},
   "outputs": [
    {
     "data": {
      "text/plain": [
       "0         47.54694\n",
       "1          7.56892\n",
       "2          283.697\n",
       "3      Temperature\n",
       "4               °C\n",
       "          ...     \n",
       "196       18.13053\n",
       "197      17.250528\n",
       "198     15.8005295\n",
       "199      14.520529\n",
       "200      13.200529\n",
       "Name: Basel, Length: 201, dtype: object"
      ]
     },
     "execution_count": 11,
     "metadata": {},
     "output_type": "execute_result"
    }
   ],
   "source": [
    "df.Basel"
   ]
  },
  {
   "cell_type": "code",
   "execution_count": 12,
   "metadata": {},
   "outputs": [
    {
     "data": {
      "text/plain": [
       "'10.090529'"
      ]
     },
     "execution_count": 12,
     "metadata": {},
     "output_type": "execute_result"
    }
   ],
   "source": [
    "min(df.Basel)"
   ]
  },
  {
   "cell_type": "code",
   "execution_count": 13,
   "metadata": {},
   "outputs": [
    {
     "name": "stdout",
     "output_type": "stream",
     "text": [
      "<class 'pandas.core.series.Series'>\n"
     ]
    }
   ],
   "source": [
    "print(type(df.Basel))"
   ]
  },
  {
   "cell_type": "code",
   "execution_count": 14,
   "metadata": {},
   "outputs": [
    {
     "data": {
      "text/html": [
       "<div>\n",
       "<style scoped>\n",
       "    .dataframe tbody tr th:only-of-type {\n",
       "        vertical-align: middle;\n",
       "    }\n",
       "\n",
       "    .dataframe tbody tr th {\n",
       "        vertical-align: top;\n",
       "    }\n",
       "\n",
       "    .dataframe thead th {\n",
       "        text-align: right;\n",
       "    }\n",
       "</style>\n",
       "<table border=\"1\" class=\"dataframe\">\n",
       "  <thead>\n",
       "    <tr style=\"text-align: right;\">\n",
       "      <th></th>\n",
       "      <th>Basel</th>\n",
       "      <th>Basel.2</th>\n",
       "    </tr>\n",
       "  </thead>\n",
       "  <tbody>\n",
       "    <tr>\n",
       "      <th>0</th>\n",
       "      <td>47.54694</td>\n",
       "      <td>47.54694</td>\n",
       "    </tr>\n",
       "    <tr>\n",
       "      <th>1</th>\n",
       "      <td>7.56892</td>\n",
       "      <td>7.56892</td>\n",
       "    </tr>\n",
       "    <tr>\n",
       "      <th>2</th>\n",
       "      <td>283.697</td>\n",
       "      <td>283.697</td>\n",
       "    </tr>\n",
       "    <tr>\n",
       "      <th>3</th>\n",
       "      <td>Temperature</td>\n",
       "      <td>Wind Speed</td>\n",
       "    </tr>\n",
       "    <tr>\n",
       "      <th>4</th>\n",
       "      <td>°C</td>\n",
       "      <td>km/h</td>\n",
       "    </tr>\n",
       "    <tr>\n",
       "      <th>...</th>\n",
       "      <td>...</td>\n",
       "      <td>...</td>\n",
       "    </tr>\n",
       "    <tr>\n",
       "      <th>196</th>\n",
       "      <td>18.13053</td>\n",
       "      <td>11.177405</td>\n",
       "    </tr>\n",
       "    <tr>\n",
       "      <th>197</th>\n",
       "      <td>17.250528</td>\n",
       "      <td>9.028754</td>\n",
       "    </tr>\n",
       "    <tr>\n",
       "      <th>198</th>\n",
       "      <td>15.8005295</td>\n",
       "      <td>7.7879906</td>\n",
       "    </tr>\n",
       "    <tr>\n",
       "      <th>199</th>\n",
       "      <td>14.520529</td>\n",
       "      <td>5.495161</td>\n",
       "    </tr>\n",
       "    <tr>\n",
       "      <th>200</th>\n",
       "      <td>13.200529</td>\n",
       "      <td>1.9386592</td>\n",
       "    </tr>\n",
       "  </tbody>\n",
       "</table>\n",
       "<p>201 rows × 2 columns</p>\n",
       "</div>"
      ],
      "text/plain": [
       "           Basel     Basel.2\n",
       "0       47.54694    47.54694\n",
       "1        7.56892     7.56892\n",
       "2        283.697     283.697\n",
       "3    Temperature  Wind Speed\n",
       "4             °C        km/h\n",
       "..           ...         ...\n",
       "196     18.13053   11.177405\n",
       "197    17.250528    9.028754\n",
       "198   15.8005295   7.7879906\n",
       "199    14.520529    5.495161\n",
       "200    13.200529   1.9386592\n",
       "\n",
       "[201 rows x 2 columns]"
      ]
     },
     "execution_count": 14,
     "metadata": {},
     "output_type": "execute_result"
    }
   ],
   "source": [
    "df[[\"Basel\",\"Basel.2\" ]]"
   ]
  },
  {
   "cell_type": "code",
   "execution_count": 15,
   "metadata": {},
   "outputs": [
    {
     "data": {
      "text/plain": [
       "'°C'"
      ]
     },
     "execution_count": 15,
     "metadata": {},
     "output_type": "execute_result"
    }
   ],
   "source": [
    "df.Basel.max()"
   ]
  },
  {
   "cell_type": "code",
   "execution_count": 16,
   "metadata": {},
   "outputs": [
    {
     "data": {
      "text/plain": [
       "'°C'"
      ]
     },
     "execution_count": 16,
     "metadata": {},
     "output_type": "execute_result"
    }
   ],
   "source": [
    "df.Basel.max()"
   ]
  },
  {
   "cell_type": "code",
   "execution_count": 17,
   "metadata": {},
   "outputs": [
    {
     "data": {
      "text/plain": [
       "count           201\n",
       "unique          187\n",
       "top       6.3505287\n",
       "freq              4\n",
       "Name: Basel, dtype: object"
      ]
     },
     "execution_count": 17,
     "metadata": {},
     "output_type": "execute_result"
    }
   ],
   "source": [
    "df.Basel.describe()"
   ]
  },
  {
   "cell_type": "code",
   "execution_count": 18,
   "metadata": {},
   "outputs": [
    {
     "data": {
      "text/html": [
       "<div>\n",
       "<style scoped>\n",
       "    .dataframe tbody tr th:only-of-type {\n",
       "        vertical-align: middle;\n",
       "    }\n",
       "\n",
       "    .dataframe tbody tr th {\n",
       "        vertical-align: top;\n",
       "    }\n",
       "\n",
       "    .dataframe thead th {\n",
       "        text-align: right;\n",
       "    }\n",
       "</style>\n",
       "<table border=\"1\" class=\"dataframe\">\n",
       "  <thead>\n",
       "    <tr style=\"text-align: right;\">\n",
       "      <th></th>\n",
       "      <th>location</th>\n",
       "      <th>Basel</th>\n",
       "      <th>Basel.1</th>\n",
       "      <th>Basel.2</th>\n",
       "      <th>Basel.3</th>\n",
       "    </tr>\n",
       "  </thead>\n",
       "  <tbody>\n",
       "    <tr>\n",
       "      <th>4</th>\n",
       "      <td>unit</td>\n",
       "      <td>°C</td>\n",
       "      <td>%</td>\n",
       "      <td>km/h</td>\n",
       "      <td>°</td>\n",
       "    </tr>\n",
       "  </tbody>\n",
       "</table>\n",
       "</div>"
      ],
      "text/plain": [
       "  location Basel Basel.1 Basel.2 Basel.3\n",
       "4     unit    °C       %    km/h       °"
      ]
     },
     "execution_count": 18,
     "metadata": {},
     "output_type": "execute_result"
    }
   ],
   "source": [
    "df[df.Basel==df.Basel.max()]\n"
   ]
  },
  {
   "cell_type": "code",
   "execution_count": 19,
   "metadata": {},
   "outputs": [],
   "source": [
    "# df.Basel.sum()"
   ]
  },
  {
   "cell_type": "code",
   "execution_count": 20,
   "metadata": {},
   "outputs": [
    {
     "data": {
      "text/plain": [
       "RangeIndex(start=0, stop=201, step=1)"
      ]
     },
     "execution_count": 20,
     "metadata": {},
     "output_type": "execute_result"
    }
   ],
   "source": [
    "df.index"
   ]
  },
  {
   "cell_type": "code",
   "execution_count": 21,
   "metadata": {},
   "outputs": [],
   "source": [
    "df.set_index(\"location\",inplace=True)"
   ]
  },
  {
   "cell_type": "code",
   "execution_count": 22,
   "metadata": {},
   "outputs": [
    {
     "data": {
      "text/plain": [
       "Basel       18.13053\n",
       "Basel.1         38.0\n",
       "Basel.2    11.177405\n",
       "Basel.3     345.0686\n",
       "Name: 20210427T1900, dtype: object"
      ]
     },
     "execution_count": 22,
     "metadata": {},
     "output_type": "execute_result"
    }
   ],
   "source": [
    "df.loc[\"20210427T1900\"]"
   ]
  },
  {
   "cell_type": "code",
   "execution_count": 23,
   "metadata": {},
   "outputs": [
    {
     "data": {
      "text/html": [
       "<div>\n",
       "<style scoped>\n",
       "    .dataframe tbody tr th:only-of-type {\n",
       "        vertical-align: middle;\n",
       "    }\n",
       "\n",
       "    .dataframe tbody tr th {\n",
       "        vertical-align: top;\n",
       "    }\n",
       "\n",
       "    .dataframe thead th {\n",
       "        text-align: right;\n",
       "    }\n",
       "</style>\n",
       "<table border=\"1\" class=\"dataframe\">\n",
       "  <thead>\n",
       "    <tr style=\"text-align: right;\">\n",
       "      <th></th>\n",
       "      <th>Basel</th>\n",
       "      <th>Basel.1</th>\n",
       "      <th>Basel.2</th>\n",
       "      <th>Basel.3</th>\n",
       "    </tr>\n",
       "    <tr>\n",
       "      <th>location</th>\n",
       "      <th></th>\n",
       "      <th></th>\n",
       "      <th></th>\n",
       "      <th></th>\n",
       "    </tr>\n",
       "  </thead>\n",
       "  <tbody>\n",
       "    <tr>\n",
       "      <th>lat</th>\n",
       "      <td>47.54694</td>\n",
       "      <td>47.54694</td>\n",
       "      <td>47.54694</td>\n",
       "      <td>47.54694</td>\n",
       "    </tr>\n",
       "    <tr>\n",
       "      <th>lon</th>\n",
       "      <td>7.56892</td>\n",
       "      <td>7.56892</td>\n",
       "      <td>7.56892</td>\n",
       "      <td>7.56892</td>\n",
       "    </tr>\n",
       "    <tr>\n",
       "      <th>asl</th>\n",
       "      <td>283.697</td>\n",
       "      <td>283.697</td>\n",
       "      <td>283.697</td>\n",
       "      <td>283.697</td>\n",
       "    </tr>\n",
       "    <tr>\n",
       "      <th>variable</th>\n",
       "      <td>Temperature</td>\n",
       "      <td>Relative Humidity</td>\n",
       "      <td>Wind Speed</td>\n",
       "      <td>Wind Direction</td>\n",
       "    </tr>\n",
       "    <tr>\n",
       "      <th>unit</th>\n",
       "      <td>°C</td>\n",
       "      <td>%</td>\n",
       "      <td>km/h</td>\n",
       "      <td>°</td>\n",
       "    </tr>\n",
       "    <tr>\n",
       "      <th>...</th>\n",
       "      <td>...</td>\n",
       "      <td>...</td>\n",
       "      <td>...</td>\n",
       "      <td>...</td>\n",
       "    </tr>\n",
       "    <tr>\n",
       "      <th>20210427T1900</th>\n",
       "      <td>18.13053</td>\n",
       "      <td>38.0</td>\n",
       "      <td>11.177405</td>\n",
       "      <td>345.0686</td>\n",
       "    </tr>\n",
       "    <tr>\n",
       "      <th>20210427T2000</th>\n",
       "      <td>17.250528</td>\n",
       "      <td>40.0</td>\n",
       "      <td>9.028754</td>\n",
       "      <td>336.50146</td>\n",
       "    </tr>\n",
       "    <tr>\n",
       "      <th>20210427T2100</th>\n",
       "      <td>15.8005295</td>\n",
       "      <td>45.0</td>\n",
       "      <td>7.7879906</td>\n",
       "      <td>326.30994</td>\n",
       "    </tr>\n",
       "    <tr>\n",
       "      <th>20210427T2200</th>\n",
       "      <td>14.520529</td>\n",
       "      <td>47.0</td>\n",
       "      <td>5.495161</td>\n",
       "      <td>328.39252</td>\n",
       "    </tr>\n",
       "    <tr>\n",
       "      <th>20210427T2300</th>\n",
       "      <td>13.200529</td>\n",
       "      <td>51.0</td>\n",
       "      <td>1.9386592</td>\n",
       "      <td>338.1986</td>\n",
       "    </tr>\n",
       "  </tbody>\n",
       "</table>\n",
       "<p>201 rows × 4 columns</p>\n",
       "</div>"
      ],
      "text/plain": [
       "                     Basel            Basel.1     Basel.2         Basel.3\n",
       "location                                                                 \n",
       "lat               47.54694           47.54694    47.54694        47.54694\n",
       "lon                7.56892            7.56892     7.56892         7.56892\n",
       "asl                283.697            283.697     283.697         283.697\n",
       "variable       Temperature  Relative Humidity  Wind Speed  Wind Direction\n",
       "unit                    °C                  %        km/h               °\n",
       "...                    ...                ...         ...             ...\n",
       "20210427T1900     18.13053               38.0   11.177405        345.0686\n",
       "20210427T2000    17.250528               40.0    9.028754       336.50146\n",
       "20210427T2100   15.8005295               45.0   7.7879906       326.30994\n",
       "20210427T2200    14.520529               47.0    5.495161       328.39252\n",
       "20210427T2300    13.200529               51.0   1.9386592        338.1986\n",
       "\n",
       "[201 rows x 4 columns]"
      ]
     },
     "execution_count": 23,
     "metadata": {},
     "output_type": "execute_result"
    }
   ],
   "source": [
    "df"
   ]
  },
  {
   "cell_type": "code",
   "execution_count": 24,
   "metadata": {},
   "outputs": [],
   "source": [
    "df.reset_index(inplace=True)"
   ]
  },
  {
   "cell_type": "code",
   "execution_count": 25,
   "metadata": {},
   "outputs": [
    {
     "data": {
      "text/html": [
       "<div>\n",
       "<style scoped>\n",
       "    .dataframe tbody tr th:only-of-type {\n",
       "        vertical-align: middle;\n",
       "    }\n",
       "\n",
       "    .dataframe tbody tr th {\n",
       "        vertical-align: top;\n",
       "    }\n",
       "\n",
       "    .dataframe thead th {\n",
       "        text-align: right;\n",
       "    }\n",
       "</style>\n",
       "<table border=\"1\" class=\"dataframe\">\n",
       "  <thead>\n",
       "    <tr style=\"text-align: right;\">\n",
       "      <th></th>\n",
       "      <th>location</th>\n",
       "      <th>Basel</th>\n",
       "      <th>Basel.1</th>\n",
       "      <th>Basel.2</th>\n",
       "      <th>Basel.3</th>\n",
       "    </tr>\n",
       "  </thead>\n",
       "  <tbody>\n",
       "    <tr>\n",
       "      <th>0</th>\n",
       "      <td>lat</td>\n",
       "      <td>47.54694</td>\n",
       "      <td>47.54694</td>\n",
       "      <td>47.54694</td>\n",
       "      <td>47.54694</td>\n",
       "    </tr>\n",
       "    <tr>\n",
       "      <th>1</th>\n",
       "      <td>lon</td>\n",
       "      <td>7.56892</td>\n",
       "      <td>7.56892</td>\n",
       "      <td>7.56892</td>\n",
       "      <td>7.56892</td>\n",
       "    </tr>\n",
       "    <tr>\n",
       "      <th>2</th>\n",
       "      <td>asl</td>\n",
       "      <td>283.697</td>\n",
       "      <td>283.697</td>\n",
       "      <td>283.697</td>\n",
       "      <td>283.697</td>\n",
       "    </tr>\n",
       "    <tr>\n",
       "      <th>3</th>\n",
       "      <td>variable</td>\n",
       "      <td>Temperature</td>\n",
       "      <td>Relative Humidity</td>\n",
       "      <td>Wind Speed</td>\n",
       "      <td>Wind Direction</td>\n",
       "    </tr>\n",
       "    <tr>\n",
       "      <th>4</th>\n",
       "      <td>unit</td>\n",
       "      <td>°C</td>\n",
       "      <td>%</td>\n",
       "      <td>km/h</td>\n",
       "      <td>°</td>\n",
       "    </tr>\n",
       "    <tr>\n",
       "      <th>...</th>\n",
       "      <td>...</td>\n",
       "      <td>...</td>\n",
       "      <td>...</td>\n",
       "      <td>...</td>\n",
       "      <td>...</td>\n",
       "    </tr>\n",
       "    <tr>\n",
       "      <th>196</th>\n",
       "      <td>20210427T1900</td>\n",
       "      <td>18.13053</td>\n",
       "      <td>38.0</td>\n",
       "      <td>11.177405</td>\n",
       "      <td>345.0686</td>\n",
       "    </tr>\n",
       "    <tr>\n",
       "      <th>197</th>\n",
       "      <td>20210427T2000</td>\n",
       "      <td>17.250528</td>\n",
       "      <td>40.0</td>\n",
       "      <td>9.028754</td>\n",
       "      <td>336.50146</td>\n",
       "    </tr>\n",
       "    <tr>\n",
       "      <th>198</th>\n",
       "      <td>20210427T2100</td>\n",
       "      <td>15.8005295</td>\n",
       "      <td>45.0</td>\n",
       "      <td>7.7879906</td>\n",
       "      <td>326.30994</td>\n",
       "    </tr>\n",
       "    <tr>\n",
       "      <th>199</th>\n",
       "      <td>20210427T2200</td>\n",
       "      <td>14.520529</td>\n",
       "      <td>47.0</td>\n",
       "      <td>5.495161</td>\n",
       "      <td>328.39252</td>\n",
       "    </tr>\n",
       "    <tr>\n",
       "      <th>200</th>\n",
       "      <td>20210427T2300</td>\n",
       "      <td>13.200529</td>\n",
       "      <td>51.0</td>\n",
       "      <td>1.9386592</td>\n",
       "      <td>338.1986</td>\n",
       "    </tr>\n",
       "  </tbody>\n",
       "</table>\n",
       "<p>201 rows × 5 columns</p>\n",
       "</div>"
      ],
      "text/plain": [
       "          location        Basel            Basel.1     Basel.2         Basel.3\n",
       "0              lat     47.54694           47.54694    47.54694        47.54694\n",
       "1              lon      7.56892            7.56892     7.56892         7.56892\n",
       "2              asl      283.697            283.697     283.697         283.697\n",
       "3         variable  Temperature  Relative Humidity  Wind Speed  Wind Direction\n",
       "4             unit           °C                  %        km/h               °\n",
       "..             ...          ...                ...         ...             ...\n",
       "196  20210427T1900     18.13053               38.0   11.177405        345.0686\n",
       "197  20210427T2000    17.250528               40.0    9.028754       336.50146\n",
       "198  20210427T2100   15.8005295               45.0   7.7879906       326.30994\n",
       "199  20210427T2200    14.520529               47.0    5.495161       328.39252\n",
       "200  20210427T2300    13.200529               51.0   1.9386592        338.1986\n",
       "\n",
       "[201 rows x 5 columns]"
      ]
     },
     "execution_count": 25,
     "metadata": {},
     "output_type": "execute_result"
    }
   ],
   "source": [
    "df"
   ]
  },
  {
   "cell_type": "code",
   "execution_count": null,
   "metadata": {},
   "outputs": [],
   "source": []
  }
 ],
 "metadata": {
  "kernelspec": {
   "display_name": "Python 3",
   "language": "python",
   "name": "python3"
  },
  "language_info": {
   "codemirror_mode": {
    "name": "ipython",
    "version": 3
   },
   "file_extension": ".py",
   "mimetype": "text/x-python",
   "name": "python",
   "nbconvert_exporter": "python",
   "pygments_lexer": "ipython3",
   "version": "3.8.5"
  }
 },
 "nbformat": 4,
 "nbformat_minor": 4
}

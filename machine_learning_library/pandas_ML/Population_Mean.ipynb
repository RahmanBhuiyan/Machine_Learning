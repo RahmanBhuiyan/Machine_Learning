{
 "cells": [
  {
   "cell_type": "code",
   "execution_count": 1,
   "id": "a7e4ba25-ceb8-4b4b-a972-59802deaac8a",
   "metadata": {},
   "outputs": [],
   "source": [
    "import pandas as pd \n",
    "import seaborn as sns \n",
    "import math "
   ]
  },
  {
   "cell_type": "code",
   "execution_count": 2,
   "id": "df6a58c5-19c8-4476-b24b-5fe0a41f4e90",
   "metadata": {},
   "outputs": [],
   "source": [
    "df=pd.read_csv(\"pivot_data_table.csv\")"
   ]
  },
  {
   "cell_type": "code",
   "execution_count": 3,
   "id": "aa77e206-815f-45fd-abcc-e48b2075c60e",
   "metadata": {},
   "outputs": [
    {
     "data": {
      "text/html": [
       "<div>\n",
       "<style scoped>\n",
       "    .dataframe tbody tr th:only-of-type {\n",
       "        vertical-align: middle;\n",
       "    }\n",
       "\n",
       "    .dataframe tbody tr th {\n",
       "        vertical-align: top;\n",
       "    }\n",
       "\n",
       "    .dataframe thead th {\n",
       "        text-align: right;\n",
       "    }\n",
       "</style>\n",
       "<table border=\"1\" class=\"dataframe\">\n",
       "  <thead>\n",
       "    <tr style=\"text-align: right;\">\n",
       "      <th></th>\n",
       "      <th>date</th>\n",
       "      <th>city</th>\n",
       "      <th>event</th>\n",
       "      <th>windspeed</th>\n",
       "      <th>temperature</th>\n",
       "    </tr>\n",
       "  </thead>\n",
       "  <tbody>\n",
       "    <tr>\n",
       "      <th>0</th>\n",
       "      <td>1/1/2017</td>\n",
       "      <td>us</td>\n",
       "      <td>Rain</td>\n",
       "      <td>6</td>\n",
       "      <td>32</td>\n",
       "    </tr>\n",
       "    <tr>\n",
       "      <th>1</th>\n",
       "      <td>1/4/2017</td>\n",
       "      <td>new york</td>\n",
       "      <td>Sunny</td>\n",
       "      <td>8</td>\n",
       "      <td>34</td>\n",
       "    </tr>\n",
       "    <tr>\n",
       "      <th>2</th>\n",
       "      <td>1/4/2017</td>\n",
       "      <td>canada</td>\n",
       "      <td>Sunny</td>\n",
       "      <td>6</td>\n",
       "      <td>20</td>\n",
       "    </tr>\n",
       "    <tr>\n",
       "      <th>3</th>\n",
       "      <td>1/4/2017</td>\n",
       "      <td>mumbi</td>\n",
       "      <td>Rain</td>\n",
       "      <td>9</td>\n",
       "      <td>12</td>\n",
       "    </tr>\n",
       "    <tr>\n",
       "      <th>4</th>\n",
       "      <td>1/4/2017</td>\n",
       "      <td>BD</td>\n",
       "      <td>Rain</td>\n",
       "      <td>10</td>\n",
       "      <td>34</td>\n",
       "    </tr>\n",
       "    <tr>\n",
       "      <th>5</th>\n",
       "      <td>1/4/2017</td>\n",
       "      <td>new york</td>\n",
       "      <td>Sunny</td>\n",
       "      <td>7</td>\n",
       "      <td>28</td>\n",
       "    </tr>\n",
       "    <tr>\n",
       "      <th>6</th>\n",
       "      <td>1/4/2017</td>\n",
       "      <td>canada</td>\n",
       "      <td>Sunny</td>\n",
       "      <td>4</td>\n",
       "      <td>36</td>\n",
       "    </tr>\n",
       "    <tr>\n",
       "      <th>7</th>\n",
       "      <td>1/4/2017</td>\n",
       "      <td>us</td>\n",
       "      <td>Rain</td>\n",
       "      <td>11</td>\n",
       "      <td>32</td>\n",
       "    </tr>\n",
       "    <tr>\n",
       "      <th>8</th>\n",
       "      <td>1/4/2017</td>\n",
       "      <td>BD</td>\n",
       "      <td>Rain</td>\n",
       "      <td>7</td>\n",
       "      <td>45</td>\n",
       "    </tr>\n",
       "  </tbody>\n",
       "</table>\n",
       "</div>"
      ],
      "text/plain": [
       "       date      city  event  windspeed  temperature\n",
       "0  1/1/2017        us   Rain          6           32\n",
       "1  1/4/2017  new york  Sunny          8           34\n",
       "2  1/4/2017    canada  Sunny          6           20\n",
       "3  1/4/2017     mumbi   Rain          9           12\n",
       "4  1/4/2017        BD   Rain         10           34\n",
       "5  1/4/2017  new york  Sunny          7           28\n",
       "6  1/4/2017    canada  Sunny          4           36\n",
       "7  1/4/2017        us   Rain         11           32\n",
       "8  1/4/2017        BD   Rain          7           45"
      ]
     },
     "execution_count": 3,
     "metadata": {},
     "output_type": "execute_result"
    }
   ],
   "source": [
    "df"
   ]
  },
  {
   "cell_type": "code",
   "execution_count": 4,
   "id": "a7fc5767-9a0d-4773-8cd9-339c6c60c156",
   "metadata": {},
   "outputs": [
    {
     "data": {
      "text/plain": [
       "30.333333333333332"
      ]
     },
     "execution_count": 4,
     "metadata": {},
     "output_type": "execute_result"
    }
   ],
   "source": [
    "df[\"temperature\"].mean()"
   ]
  },
  {
   "cell_type": "code",
   "execution_count": 5,
   "id": "71c23dde-74ef-4c57-98bb-1c5ef7ea45f4",
   "metadata": {},
   "outputs": [
    {
     "data": {
      "image/png": "[encoded data removed]",
      "text/plain": [
       "<Figure size 432x288 with 1 Axes>"
      ]
     },
     "metadata": {
      "needs_background": "light"
     },
     "output_type": "display_data"
    }
   ],
   "source": [
    "ax = sns.countplot(x=df[\"temperature\"])"
   ]
  },
  {
   "cell_type": "code",
   "execution_count": 6,
   "id": "1db460aa-fc71-4548-88f8-c816d538cda1",
   "metadata": {},
   "outputs": [
    {
     "data": {
      "text/plain": [
       "windspeed      2.185813\n",
       "temperature    9.539392\n",
       "dtype: float64"
      ]
     },
     "execution_count": 6,
     "metadata": {},
     "output_type": "execute_result"
    }
   ],
   "source": [
    "df.std()"
   ]
  },
  {
   "cell_type": "code",
   "execution_count": 7,
   "id": "16d0c551-359f-4eca-8de3-f4414905a384",
   "metadata": {},
   "outputs": [
    {
     "data": {
      "text/plain": [
       "30.333333333333332"
      ]
     },
     "execution_count": 7,
     "metadata": {},
     "output_type": "execute_result"
    }
   ],
   "source": [
    "def mean():\n",
    "    return df[\"temperature\"].mean()\n",
    "mean()"
   ]
  },
  {
   "cell_type": "code",
   "execution_count": 8,
   "id": "84387475-c1ee-4498-961d-f14f23572604",
   "metadata": {},
   "outputs": [
    {
     "data": {
      "text/plain": [
       "9"
      ]
     },
     "execution_count": 8,
     "metadata": {},
     "output_type": "execute_result"
    }
   ],
   "source": [
    "def total_no():\n",
    "    count=0\n",
    "    for X in df[\"temperature\"]:\n",
    "        count=count+1\n",
    "    return count\n",
    "total_no()"
   ]
  },
  {
   "cell_type": "code",
   "execution_count": 9,
   "id": "1d547bc2-3829-45c6-b795-dbe6893cacb0",
   "metadata": {},
   "outputs": [
    {
     "data": {
      "text/plain": [
       "728.0"
      ]
     },
     "execution_count": 9,
     "metadata": {},
     "output_type": "execute_result"
    }
   ],
   "source": [
    "def mean_devition():\n",
    "    sum=0\n",
    "    for X in df[\"temperature\"]:\n",
    "        x=X-mean()\n",
    "        square=x*x\n",
    "        sum=sum+square\n",
    "    return sum\n",
    "mean_devition()"
   ]
  },
  {
   "cell_type": "code",
   "execution_count": 10,
   "id": "86c8a835-f43c-4226-90a0-2343b623436d",
   "metadata": {},
   "outputs": [],
   "source": [
    "# def standard_devition():\n",
    "# average=0\n",
    "# for i in mean_devition():\n",
    "#     print (type(i))\n",
    "#     average=average+i\n",
    "# # print(average)\n",
    "# print (type(mean_devition()))\n",
    "# p=int(mean_devition() or 0)\n",
    "# p\n",
    "# print (type(p))"
   ]
  },
  {
   "cell_type": "code",
   "execution_count": 11,
   "id": "bd85bdd4-1af5-4b3e-88d9-c8d8366de933",
   "metadata": {},
   "outputs": [
    {
     "data": {
      "text/plain": [
       "8.993825042154693"
      ]
     },
     "execution_count": 11,
     "metadata": {},
     "output_type": "execute_result"
    }
   ],
   "source": [
    "def standard_devition():\n",
    "    Mean_of_squared_differences =(1/total_no())*mean_devition()\n",
    "    return math.sqrt(Mean_of_squared_differences)\n",
    "standard_devition()"
   ]
  },
  {
   "cell_type": "code",
   "execution_count": null,
   "id": "c1393c15-0ca3-42d7-9cf4-5a20eb64d547",
   "metadata": {},
   "outputs": [],
   "source": []
  },
  {
   "cell_type": "code",
   "execution_count": null,
   "id": "0ea8176a-23a6-406d-be7f-6f7e00c734a6",
   "metadata": {},
   "outputs": [],
   "source": []
  }
 ],
 "metadata": {
  "kernelspec": {
   "display_name": "Python 3",
   "language": "python",
   "name": "python3"
  },
  "language_info": {
   "codemirror_mode": {
    "name": "ipython",
    "version": 3
   },
   "file_extension": ".py",
   "mimetype": "text/x-python",
   "name": "python",
   "nbconvert_exporter": "python",
   "pygments_lexer": "ipython3",
   "version": "3.8.8"
  }
 },
 "nbformat": 4,
 "nbformat_minor": 5
}

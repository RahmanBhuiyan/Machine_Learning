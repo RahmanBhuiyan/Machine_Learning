{
 "cells": [
  {
   "cell_type": "code",
   "execution_count": 1,
   "id": "58a238bf-ad52-4467-a1b3-714763add5b5",
   "metadata": {},
   "outputs": [
    {
     "data": {
      "text/plain": [
       "DatetimeIndex(['2021-01-05', '2021-01-05', '2021-01-05', '2021-01-05',\n",
       "               '2021-01-05', '2021-01-05'],\n",
       "              dtype='datetime64[ns]', freq=None)"
      ]
     },
     "execution_count": 1,
     "metadata": {},
     "output_type": "execute_result"
    }
   ],
   "source": [
    "import pandas as pd\n",
    "dates = ['2021-01-05', 'Jan 5, 2021', '01/05/2021', '2021.01.05', '2021/01/05','20210105']\n",
    "pd.to_datetime(dates)"
   ]
  },
  {
   "cell_type": "code",
   "execution_count": 4,
   "id": "d6ef3d5e-22b7-4357-a3dc-4af431667746",
   "metadata": {
    "tags": []
   },
   "outputs": [
    {
     "data": {
      "text/plain": [
       "DatetimeIndex(['2021-01-05 14:30:00', '2021-01-05 14:30:00',\n",
       "               '2021-01-05 00:00:00', '2021-01-05 00:00:00',\n",
       "               '2021-01-05 00:00:00', '2021-01-05 00:00:00'],\n",
       "              dtype='datetime64[ns]', freq=None)"
      ]
     },
     "execution_count": 4,
     "metadata": {},
     "output_type": "execute_result"
    }
   ],
   "source": [
    "dt = ['2021-01-05 2:30:00 PM', 'Jan 5, 2021 14:30:00', '01/05/2021', '2021.01.05', '2021/01/05','20210105']\n",
    "pd.to_datetime(dt)"
   ]
  },
  {
   "cell_type": "code",
   "execution_count": 6,
   "id": "590d01f4-2493-4f8e-b9a8-0914786b0071",
   "metadata": {},
   "outputs": [
    {
     "data": {
      "text/plain": [
       "Timestamp('2020-12-30 00:00:00')"
      ]
     },
     "execution_count": 6,
     "metadata": {},
     "output_type": "execute_result"
    }
   ],
   "source": [
    "pd.to_datetime('30-12-2020')"
   ]
  },
  {
   "cell_type": "code",
   "execution_count": 7,
   "id": "b272b906-19c0-4ecf-970c-f8c0344ba61f",
   "metadata": {},
   "outputs": [
    {
     "data": {
      "text/plain": [
       "Timestamp('2016-01-05 00:00:00')"
      ]
     },
     "execution_count": 7,
     "metadata": {},
     "output_type": "execute_result"
    }
   ],
   "source": [
    "pd.to_datetime('5-1-2016', dayfirst=True)"
   ]
  },
  {
   "cell_type": "code",
   "execution_count": 10,
   "id": "e2ed9d0a-3332-4649-ae91-6860ecc27c80",
   "metadata": {},
   "outputs": [
    {
     "data": {
      "text/plain": [
       "'2017/01/05'"
      ]
     },
     "execution_count": 10,
     "metadata": {},
     "output_type": "execute_result"
    }
   ],
   "source": [
    "pd.to_datetime('2017/01/05', format='Y/m/d',errors='ignore')"
   ]
  },
  {
   "cell_type": "code",
   "execution_count": 13,
   "id": "67ea9c6f-42ab-4375-ae02-2f4469ec02a9",
   "metadata": {},
   "outputs": [
    {
     "data": {
      "text/plain": [
       "Timestamp('2021-01-05 00:00:00')"
      ]
     },
     "execution_count": 13,
     "metadata": {},
     "output_type": "execute_result"
    }
   ],
   "source": [
    "pd.to_datetime('2021$01$05', format='%Y$%m$%d')"
   ]
  },
  {
   "cell_type": "code",
   "execution_count": 12,
   "id": "5bdddf1d-1bd8-4ff6-9c19-d35dd840d61c",
   "metadata": {},
   "outputs": [
    {
     "data": {
      "text/plain": [
       "Timestamp('2017-01-05 00:00:00')"
      ]
     },
     "execution_count": 12,
     "metadata": {},
     "output_type": "execute_result"
    }
   ],
   "source": [
    "pd.to_datetime('2017#01#05', format='%Y#%m#%d')"
   ]
  },
  {
   "cell_type": "code",
   "execution_count": 17,
   "id": "ebd52f6c-3272-4895-b443-314a730db2bb",
   "metadata": {},
   "outputs": [],
   "source": [
    "t=1622096069\n",
    "df=pd.to_datetime([t],unit=\"s\")"
   ]
  },
  {
   "cell_type": "code",
   "execution_count": 18,
   "id": "a1c26602-08de-4c3d-9405-059e0d1dc65b",
   "metadata": {},
   "outputs": [
    {
     "data": {
      "text/plain": [
       "DatetimeIndex(['2021-05-27 06:14:29'], dtype='datetime64[ns]', freq=None)"
      ]
     },
     "execution_count": 18,
     "metadata": {},
     "output_type": "execute_result"
    }
   ],
   "source": [
    "df"
   ]
  },
  {
   "cell_type": "code",
   "execution_count": 20,
   "id": "47701db6-ec27-4dcf-849a-529aa91e8e36",
   "metadata": {},
   "outputs": [
    {
     "data": {
      "text/plain": [
       "array([1622096069000000000])"
      ]
     },
     "execution_count": 20,
     "metadata": {},
     "output_type": "execute_result"
    }
   ],
   "source": [
    "df.view('int64')"
   ]
  },
  {
   "cell_type": "code",
   "execution_count": null,
   "id": "476e1384-0fc8-4aea-8ca8-8724563b329a",
   "metadata": {},
   "outputs": [],
   "source": []
  }
 ],
 "metadata": {
  "kernelspec": {
   "display_name": "Python 3",
   "language": "python",
   "name": "python3"
  },
  "language_info": {
   "codemirror_mode": {
    "name": "ipython",
    "version": 3
   },
   "file_extension": ".py",
   "mimetype": "text/x-python",
   "name": "python",
   "nbconvert_exporter": "python",
   "pygments_lexer": "ipython3",
   "version": "3.8.8"
  }
 },
 "nbformat": 4,
 "nbformat_minor": 5
}
